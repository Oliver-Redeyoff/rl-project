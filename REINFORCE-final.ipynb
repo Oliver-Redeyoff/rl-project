{
 "cells": [
  {
   "cell_type": "code",
   "execution_count": 1,
   "id": "f6cd6bed",
   "metadata": {
    "scrolled": true
   },
   "outputs": [
    {
     "name": "stdout",
     "output_type": "stream",
     "text": [
      "6\n",
      "(210, 160, 3)\n",
      "(210, 160, 3)\n"
     ]
    },
    {
     "name": "stderr",
     "output_type": "stream",
     "text": [
      "C:\\Users\\Student\\AppData\\Local\\Programs\\Python\\Python310\\lib\\site-packages\\gym\\utils\\seeding.py:138: DeprecationWarning: \u001b[33mWARN: Function `hash_seed(seed, max_bytes)` is marked as deprecated and will be removed in the future. \u001b[0m\n",
      "  deprecation(\n",
      "C:\\Users\\Student\\AppData\\Local\\Programs\\Python\\Python310\\lib\\site-packages\\gym\\utils\\seeding.py:175: DeprecationWarning: \u001b[33mWARN: Function `_bigint_from_bytes(bytes)` is marked as deprecated and will be removed in the future. \u001b[0m\n",
      "  deprecation(\n"
     ]
    }
   ],
   "source": [
    "import gym\n",
    "import numpy as np\n",
    "\n",
    "env = gym.make('ALE/Pong-v5', frameskip=4)\n",
    "observation = env.reset()\n",
    "print(env.action_space.n)\n",
    "print(env.observation_space.shape)\n",
    "print(np.shape(observation))\n",
    "state = []"
   ]
  },
  {
   "cell_type": "code",
   "execution_count": 2,
   "id": "1c69825a",
   "metadata": {},
   "outputs": [],
   "source": [
    "import torch\n",
    "from torch import nn\n",
    "from torch import optim\n",
    "\n",
    "#class for the neural network\n",
    "class neural_network(nn.Module):\n",
    "    def __init__(self, env):\n",
    "        super().__init__()\n",
    "        #get number of actions & observations for output & input layer resp.\n",
    "        self.n_actions = 3\n",
    "        self.n_observations = 900\n",
    "        print(\"Number actions: \" + str(self.n_actions))\n",
    "        print(\"Number observations: \" + str(self.n_observations))\n",
    "        \n",
    "        self.conv = nn.Sequential(\n",
    "            nn.Conv2d(in_channels=2, out_channels=8, kernel_size=4, stride=2),\n",
    "            nn.MaxPool2d(kernel_size=2, stride=2),\n",
    "            nn.ReLU(),\n",
    "            nn.Conv2d(in_channels=8, out_channels = 4, kernel_size=4, stride=2)\n",
    "        )\n",
    "        \n",
    "        self.classifier = nn.Sequential(\n",
    "            nn.Linear(324, 160),\n",
    "            nn.ReLU(),\n",
    "           # nn.Linear(800, 400),\n",
    "            nn.Linear(160, self.n_actions),\n",
    "            nn.Softmax(dim=-1)\n",
    "        )\n",
    "        \n",
    "        \n",
    "        \n",
    "    def forward(self, x):\n",
    "        x = self.conv(x)\n",
    "        x = x.view(-1, 324)  # reduce the dimensions for linear layer input\n",
    "        x = x.squeeze(0)\n",
    "        return self.classifier(x)\n",
    "                    \n",
    "    def predict(self, state):\n",
    "        #print(type(state))\n",
    "        action_probabilities = self.forward(state)\n",
    "        return action_probabilities"
   ]
  },
  {
   "cell_type": "code",
   "execution_count": 3,
   "id": "7d620dea",
   "metadata": {},
   "outputs": [
    {
     "name": "stdout",
     "output_type": "stream",
     "text": [
      "Populating the interactive namespace from numpy and matplotlib\n",
      "Number actions: 3\n",
      "Number observations: 900\n"
     ]
    },
    {
     "data": {
      "image/png": "[encoded data removed]",
      "text/plain": [
       "<Figure size 432x288 with 1 Axes>"
      ]
     },
     "metadata": {
      "needs_background": "light"
     },
     "output_type": "display_data"
    },
    {
     "name": "stdout",
     "output_type": "stream",
     "text": [
      "(4, 9, 9)\n"
     ]
    },
    {
     "data": {
      "image/png": "[encoded data removed]",
      "text/plain": [
       "<Figure size 432x288 with 1 Axes>"
      ]
     },
     "metadata": {
      "needs_background": "light"
     },
     "output_type": "display_data"
    },
    {
     "data": {
      "image/png": "[encoded data removed]",
      "text/plain": [
       "<Figure size 432x288 with 1 Axes>"
      ]
     },
     "metadata": {
      "needs_background": "light"
     },
     "output_type": "display_data"
    },
    {
     "data": {
      "image/png": "[encoded data removed]",
      "text/plain": [
       "<Figure size 432x288 with 1 Axes>"
      ]
     },
     "metadata": {
      "needs_background": "light"
     },
     "output_type": "display_data"
    },
    {
     "name": "stdout",
     "output_type": "stream",
     "text": [
      "(4, 9, 9)\n"
     ]
    },
    {
     "data": {
      "image/png": "[encoded data removed]",
      "text/plain": [
       "<Figure size 432x288 with 1 Axes>"
      ]
     },
     "metadata": {
      "needs_background": "light"
     },
     "output_type": "display_data"
    },
    {
     "data": {
      "image/png": "[encoded data removed]",
      "text/plain": [
       "<Figure size 432x288 with 1 Axes>"
      ]
     },
     "metadata": {
      "needs_background": "light"
     },
     "output_type": "display_data"
    }
   ],
   "source": [
    "%pylab inline\n",
    "import matplotlib.pyplot as plt\n",
    "import matplotlib.image as mpimg\n",
    "import torch\n",
    "from torch import nn\n",
    "import math\n",
    "\n",
    "def rgb2grey(rgb):\n",
    "    return np.dot(rgb[33:193][:][...,:3], [0.2989, 0.5870, 0.1140])\n",
    "\n",
    "from torchvision.transforms import functional\n",
    "\n",
    "def inv(frame):\n",
    "    new_frame = []\n",
    "    for line in frame:\n",
    "        new_frame.append([])\n",
    "        for item in line:\n",
    "            new_frame[-1].append(255-item)\n",
    "            \n",
    "    return torch.Tensor(new_frame)\n",
    "\n",
    "def process(rgb):\n",
    "    frame = rgb[34:194][:][:]\n",
    "    transposed = frame.transpose(2, 0, 1)\n",
    "    as_tensor = torch.Tensor(transposed)\n",
    "    grey = functional.rgb_to_grayscale(as_tensor)\n",
    "    downsampled = functional.resize(grey, [84, 84])\n",
    "    thresh = nn.Threshold(87.3, 0)\n",
    "    background_removed = thresh(downsampled)\n",
    "    state.append(background_removed)\n",
    "    \n",
    "    if (len(state) > 2):\n",
    "        state.pop(0)\n",
    "    #print(numpy.shape(torch.flatten(torch.stack(state).squeeze(1), 0, -1)))\n",
    "    return torch.stack(state).squeeze(1)\n",
    "\n",
    "env.reset()\n",
    "for n in range(15):\n",
    "    observation, reward, done, info = env.step(env.action_space.sample()) # take a random action\n",
    "    img_pre = process(observation)\n",
    "    \n",
    "network = neural_network(env)\n",
    "for n in range(2):\n",
    "    observation, reward, done, info = env.step(env.action_space.sample()) # take a random action\n",
    "    img_pre = process(observation)\n",
    "    imgplot = plt.imshow(img_pre[0], cmap=\"gray\")\n",
    "    plt.show()\n",
    "    img_pre = network.conv(process(observation)).detach().numpy()\n",
    "    print(np.shape(img_pre))\n",
    "    imgplot = plt.imshow(img_pre[0], cmap=\"gray\")\n",
    "    plt.show()\n",
    "    imgplot = plt.imshow(img_pre[1], cmap=\"gray\")\n",
    "    plt.show()"
   ]
  },
  {
   "cell_type": "code",
   "execution_count": 4,
   "id": "a96b51ca",
   "metadata": {},
   "outputs": [],
   "source": [
    "#function for discounted return\n",
    "\n",
    "def calculate_discounted_return(rewards, discount_factor, secondary_discount_factor):\n",
    "    discounted_returns = [rewards[-1]]\n",
    "    \n",
    "    for i in range(len(rewards)-2, -1, -1):\n",
    "        if rewards[i] == 0:\n",
    "            discounted_returns.append(rewards[i] + (discount_factor*discounted_returns[-1]))\n",
    "        else:\n",
    "            discounted_returns.append(rewards[i] + (secondary_discount_factor*discounted_returns[-1]))\n",
    "    \n",
    "    discounted_returns.reverse()\n",
    "    return discounted_returns\n",
    "    #return discounted_returns"
   ]
  },
  {
   "cell_type": "code",
   "execution_count": null,
   "id": "a1378f08",
   "metadata": {
    "scrolled": true
   },
   "outputs": [
    {
     "name": "stdout",
     "output_type": "stream",
     "text": [
      "Number actions: 3\n",
      "Number observations: 900\n",
      "[0, 2, 3]\n",
      "EPISODE 0\n",
      "EPISODE 1\n",
      "EPISODE 2\n",
      "EPISODE 3\n",
      "Reward!:  1.0\n",
      "EPISODE 4\n",
      "EPISODE 5\n",
      "EPISODE 6\n",
      "EPISODE 7\n",
      "Reward!:  1.0\n",
      "Reward!:  1.0\n",
      "EPISODE 8\n",
      "EPISODE 9\n",
      "Reward!:  1.0\n",
      "Loss:  tensor(-1.1283, grad_fn=<NegBackward0>)\n",
      "Avg Rewards:  -206.0\n",
      "EPISODE 10\n",
      "Reward!:  1.0\n",
      "EPISODE 11\n",
      "Reward!:  1.0\n",
      "EPISODE 12\n",
      "Reward!:  1.0\n",
      "EPISODE 13\n",
      "EPISODE 14\n",
      "EPISODE 15\n",
      "Reward!:  1.0\n",
      "EPISODE 16\n",
      "Reward!:  1.0\n",
      "EPISODE 17\n",
      "EPISODE 18\n",
      "EPISODE 19\n",
      "Loss:  tensor(-1.0918, grad_fn=<NegBackward0>)\n",
      "Avg Rewards:  -205.0\n",
      "EPISODE 20\n",
      "EPISODE 21\n",
      "Reward!:  1.0\n",
      "Reward!:  1.0\n",
      "EPISODE 22\n",
      "Reward!:  1.0\n",
      "Reward!:  1.0\n",
      "EPISODE 23\n",
      "EPISODE 24\n",
      "EPISODE 25\n",
      "EPISODE 26\n",
      "EPISODE 27\n",
      "Reward!:  1.0\n",
      "EPISODE 28\n",
      "EPISODE 29\n",
      "Loss:  tensor(-1.1104, grad_fn=<NegBackward0>)\n",
      "Avg Rewards:  -205.0\n",
      "EPISODE 30\n",
      "Reward!:  1.0\n",
      "Reward!:  1.0\n",
      "Reward!:  1.0\n",
      "EPISODE 31\n",
      "EPISODE 32\n",
      "EPISODE 33\n",
      "Reward!:  1.0\n",
      "EPISODE 34\n",
      "Reward!:  1.0\n",
      "Reward!:  1.0\n",
      "EPISODE 35\n",
      "Reward!:  1.0\n",
      "EPISODE 36\n",
      "EPISODE 37\n",
      "Reward!:  1.0\n",
      "Reward!:  1.0\n",
      "EPISODE 38\n",
      "Reward!:  1.0\n",
      "EPISODE 39\n",
      "Loss:  tensor(-1.0450, grad_fn=<NegBackward0>)\n",
      "Avg Rewards:  -200.0\n",
      "EPISODE 40\n",
      "EPISODE 41\n",
      "EPISODE 42\n",
      "EPISODE 43\n",
      "EPISODE 44\n",
      "Reward!:  1.0\n",
      "EPISODE 45\n",
      "Reward!:  1.0\n",
      "EPISODE 46\n",
      "EPISODE 47\n",
      "Reward!:  1.0\n",
      "EPISODE 48\n",
      "EPISODE 49\n",
      "Loss:  tensor(-1.1266, grad_fn=<NegBackward0>)\n",
      "Avg Rewards:  -207.0\n",
      "EPISODE 50\n",
      "Reward!:  1.0\n",
      "EPISODE 51\n",
      "Reward!:  1.0\n",
      "Reward!:  1.0\n",
      "EPISODE 52\n",
      "EPISODE 53\n",
      "EPISODE 54\n",
      "EPISODE 55\n",
      "Reward!:  1.0\n",
      "EPISODE 56\n",
      "EPISODE 57\n",
      "EPISODE 58\n",
      "Reward!:  1.0\n",
      "Reward!:  1.0\n",
      "EPISODE 59\n",
      "Loss:  tensor(-1.0727, grad_fn=<NegBackward0>)\n",
      "Avg Rewards:  -204.0\n",
      "EPISODE 60\n",
      "EPISODE 61\n",
      "EPISODE 62\n",
      "EPISODE 63\n",
      "EPISODE 64\n",
      "Reward!:  1.0\n",
      "EPISODE 65\n",
      "Reward!:  1.0\n",
      "EPISODE 66\n",
      "EPISODE 67\n",
      "EPISODE 68\n",
      "Reward!:  1.0\n",
      "EPISODE 69\n",
      "Loss:  tensor(-1.1394, grad_fn=<NegBackward0>)\n",
      "Avg Rewards:  -207.0\n",
      "EPISODE 70\n",
      "EPISODE 71\n",
      "Reward!:  1.0\n",
      "EPISODE 72\n",
      "Reward!:  1.0\n",
      "EPISODE 73\n",
      "EPISODE 74\n",
      "Reward!:  1.0\n",
      "Reward!:  1.0\n",
      "EPISODE 75\n",
      "EPISODE 76\n",
      "EPISODE 77\n",
      "Reward!:  1.0\n",
      "Reward!:  1.0\n",
      "EPISODE 78\n",
      "Reward!:  1.0\n",
      "Reward!:  1.0\n",
      "EPISODE 79\n",
      "Loss:  tensor(-1.0509, grad_fn=<NegBackward0>)\n",
      "Avg Rewards:  -202.0\n",
      "EPISODE 80\n",
      "Reward!:  1.0\n",
      "Reward!:  1.0\n",
      "EPISODE 81\n",
      "Reward!:  1.0\n",
      "EPISODE 82\n",
      "Reward!:  1.0\n",
      "Reward!:  1.0\n",
      "Reward!:  1.0\n",
      "EPISODE 83\n",
      "Reward!:  1.0\n",
      "Reward!:  1.0\n",
      "EPISODE 84\n",
      "EPISODE 85\n",
      "EPISODE 86\n",
      "Reward!:  1.0\n",
      "EPISODE 87\n",
      "Reward!:  1.0\n",
      "EPISODE 88\n",
      "EPISODE 89\n",
      "Loss:  tensor(-1.0291, grad_fn=<NegBackward0>)\n",
      "Avg Rewards:  -200.0\n",
      "EPISODE 90\n",
      "Reward!:  1.0\n",
      "EPISODE 91\n",
      "EPISODE 92\n",
      "EPISODE 93\n",
      "EPISODE 94\n",
      "Reward!:  1.0\n",
      "Reward!:  1.0\n",
      "EPISODE 95\n",
      "Reward!:  1.0\n",
      "EPISODE 96\n",
      "Reward!:  1.0\n",
      "EPISODE 97\n",
      "Reward!:  1.0\n",
      "EPISODE 98\n",
      "Reward!:  1.0\n",
      "EPISODE 99\n",
      "Reward!:  1.0\n",
      "Reward!:  1.0\n",
      "Loss:  tensor(-1.0491, grad_fn=<NegBackward0>)\n",
      "Avg Rewards:  -201.0\n",
      "EPISODE 100\n",
      "EPISODE 101\n",
      "Reward!:  1.0\n",
      "Reward!:  1.0\n",
      "EPISODE 102\n",
      "Reward!:  1.0\n",
      "Reward!:  1.0\n",
      "EPISODE 103\n",
      "Reward!:  1.0\n",
      "EPISODE 104\n",
      "Reward!:  1.0\n",
      "Reward!:  1.0\n",
      "EPISODE 105\n",
      "Reward!:  1.0\n",
      "EPISODE 106\n",
      "Reward!:  1.0\n",
      "EPISODE 107\n",
      "Reward!:  1.0\n",
      "EPISODE 108\n",
      "EPISODE 109\n",
      "Loss:  tensor(-1.0445, grad_fn=<NegBackward0>)\n",
      "Avg Rewards:  -200.0\n",
      "EPISODE 110\n",
      "Reward!:  1.0\n",
      "Reward!:  1.0\n",
      "EPISODE 111\n",
      "Reward!:  1.0\n",
      "EPISODE 112\n",
      "EPISODE 113\n",
      "Reward!:  1.0\n",
      "Reward!:  1.0\n",
      "Reward!:  1.0\n",
      "EPISODE 114\n",
      "Reward!:  1.0\n",
      "EPISODE 115\n",
      "Reward!:  1.0\n",
      "EPISODE 116\n",
      "Reward!:  1.0\n",
      "Reward!:  1.0\n",
      "Reward!:  1.0\n",
      "Reward!:  1.0\n",
      "EPISODE 117\n",
      "Reward!:  1.0\n",
      "EPISODE 118\n",
      "Reward!:  1.0\n",
      "Reward!:  1.0\n",
      "EPISODE 119\n",
      "Loss:  tensor(-0.9752, grad_fn=<NegBackward0>)\n",
      "Avg Rewards:  -195.0\n",
      "EPISODE 120\n",
      "EPISODE 121\n",
      "EPISODE 122\n",
      "EPISODE 123\n",
      "EPISODE 124\n",
      "EPISODE 125\n",
      "Reward!:  1.0\n",
      "EPISODE 126\n",
      "Reward!:  1.0\n",
      "EPISODE 127\n",
      "EPISODE 128\n",
      "EPISODE 129\n",
      "Loss:  tensor(-1.1418, grad_fn=<NegBackward0>)\n",
      "Avg Rewards:  -208.0\n",
      "EPISODE 130\n",
      "EPISODE 131\n",
      "Reward!:  1.0\n",
      "EPISODE 132\n",
      "Reward!:  1.0\n",
      "EPISODE 133\n",
      "Reward!:  1.0\n",
      "EPISODE 134\n",
      "EPISODE 135\n",
      "Reward!:  1.0\n",
      "Reward!:  1.0\n",
      "EPISODE 136\n",
      "Reward!:  1.0\n",
      "Reward!:  1.0\n",
      "EPISODE 137\n",
      "Reward!:  1.0\n",
      "EPISODE 138\n",
      "Reward!:  1.0\n",
      "EPISODE 139\n",
      "Reward!:  1.0\n",
      "Loss:  tensor(-1.0095, grad_fn=<NegBackward0>)\n",
      "Avg Rewards:  -200.0\n",
      "EPISODE 140\n",
      "Reward!:  1.0\n",
      "EPISODE 141\n",
      "Reward!:  1.0\n",
      "Reward!:  1.0\n",
      "EPISODE 142\n",
      "Reward!:  1.0\n",
      "EPISODE 143\n",
      "Reward!:  1.0\n",
      "EPISODE 144\n",
      "EPISODE 145\n",
      "EPISODE 146\n",
      "Reward!:  1.0\n",
      "EPISODE 147\n",
      "EPISODE 148\n",
      "Reward!:  1.0\n",
      "Reward!:  1.0\n",
      "Reward!:  1.0\n",
      "EPISODE 149\n",
      "Reward!:  1.0\n",
      "Reward!:  1.0\n",
      "Loss:  tensor(-0.9908, grad_fn=<NegBackward0>)\n",
      "Avg Rewards:  -199.0\n",
      "EPISODE 150\n",
      "Reward!:  1.0\n",
      "Reward!:  1.0\n",
      "EPISODE 151\n",
      "Reward!:  1.0\n",
      "EPISODE 152\n",
      "Reward!:  1.0\n",
      "EPISODE 153\n",
      "Reward!:  1.0\n",
      "EPISODE 154\n",
      "Reward!:  1.0\n",
      "EPISODE 155\n",
      "Reward!:  1.0\n",
      "EPISODE 156\n",
      "EPISODE 157\n",
      "Reward!:  1.0\n",
      "EPISODE 158\n",
      "Reward!:  1.0\n",
      "EPISODE 159\n",
      "Loss:  tensor(-1.0330, grad_fn=<NegBackward0>)\n",
      "Avg Rewards:  -201.0\n",
      "EPISODE 160\n",
      "EPISODE 161\n",
      "Reward!:  1.0\n",
      "EPISODE 162\n",
      "Reward!:  1.0\n",
      "Reward!:  1.0\n",
      "EPISODE 163\n",
      "Reward!:  1.0\n",
      "EPISODE 164\n",
      "EPISODE 165\n",
      "Reward!:  1.0\n",
      "EPISODE 166\n",
      "Reward!:  1.0\n",
      "Reward!:  1.0\n",
      "EPISODE 167\n",
      "Reward!:  1.0\n",
      "EPISODE 168\n",
      "EPISODE 169\n",
      "Loss:  tensor(-1.0325, grad_fn=<NegBackward0>)\n",
      "Avg Rewards:  -202.0\n",
      "EPISODE 170\n",
      "Reward!:  1.0\n",
      "Reward!:  1.0\n",
      "Reward!:  1.0\n",
      "EPISODE 171\n",
      "EPISODE 172\n",
      "Reward!:  1.0\n",
      "EPISODE 173\n",
      "Reward!:  1.0\n",
      "EPISODE 174\n",
      "EPISODE 175\n",
      "Reward!:  1.0\n",
      "EPISODE 176\n",
      "EPISODE 177\n",
      "Reward!:  1.0\n",
      "Reward!:  1.0\n",
      "EPISODE 178\n",
      "Reward!:  1.0\n",
      "Reward!:  1.0\n",
      "Reward!:  1.0\n",
      "EPISODE 179\n",
      "Loss:  tensor(-0.9977, grad_fn=<NegBackward0>)\n",
      "Avg Rewards:  -199.0\n",
      "EPISODE 180\n",
      "Reward!:  1.0\n",
      "EPISODE 181\n",
      "Reward!:  1.0\n",
      "EPISODE 182\n",
      "EPISODE 183\n",
      "Reward!:  1.0\n",
      "Reward!:  1.0\n",
      "EPISODE 184\n",
      "EPISODE 185\n",
      "Reward!:  1.0\n",
      "Reward!:  1.0\n",
      "EPISODE 186\n",
      "EPISODE 187\n",
      "Reward!:  1.0\n",
      "EPISODE 188\n",
      "Reward!:  1.0\n",
      "EPISODE 189\n",
      "Reward!:  1.0\n",
      "Loss:  tensor(-1.0510, grad_fn=<NegBackward0>)\n",
      "Avg Rewards:  -201.0\n",
      "EPISODE 190\n",
      "EPISODE 191\n",
      "Reward!:  1.0\n",
      "Reward!:  1.0\n",
      "EPISODE 192\n",
      "Reward!:  1.0\n",
      "EPISODE 193\n",
      "Reward!:  1.0\n",
      "EPISODE 194\n",
      "Reward!:  1.0\n",
      "EPISODE 195\n",
      "Reward!:  1.0\n",
      "EPISODE 196\n",
      "EPISODE 197\n",
      "EPISODE 198\n",
      "EPISODE 199\n",
      "Reward!:  1.0\n",
      "Loss:  tensor(-1.0572, grad_fn=<NegBackward0>)\n",
      "Avg Rewards:  -203.0\n",
      "EPISODE 200\n",
      "Reward!:  1.0\n",
      "EPISODE 201\n",
      "Reward!:  1.0\n",
      "EPISODE 202\n",
      "Reward!:  1.0\n",
      "EPISODE 203\n",
      "Reward!:  1.0\n",
      "Reward!:  1.0\n",
      "EPISODE 204\n",
      "EPISODE 205\n",
      "EPISODE 206\n",
      "EPISODE 207\n",
      "Reward!:  1.0\n",
      "EPISODE 208\n",
      "Reward!:  1.0\n",
      "Reward!:  1.0\n",
      "Reward!:  1.0\n",
      "EPISODE 209\n",
      "Reward!:  1.0\n",
      "Loss:  tensor(-1.0084, grad_fn=<NegBackward0>)\n",
      "Avg Rewards:  -200.0\n",
      "EPISODE 210\n",
      "EPISODE 211\n",
      "Reward!:  1.0\n",
      "EPISODE 212\n",
      "Reward!:  1.0\n",
      "Reward!:  1.0\n",
      "Reward!:  1.0\n",
      "EPISODE 213\n",
      "Reward!:  1.0\n",
      "EPISODE 214\n",
      "Reward!:  1.0\n",
      "Reward!:  1.0\n",
      "EPISODE 215\n",
      "Reward!:  1.0\n",
      "Reward!:  1.0\n",
      "EPISODE 216\n",
      "EPISODE 217\n",
      "EPISODE 218\n",
      "Reward!:  1.0\n",
      "Reward!:  1.0\n",
      "EPISODE 219\n",
      "Reward!:  1.0\n"
     ]
    }
   ],
   "source": [
    "import random\n",
    "import numpy\n",
    "\n",
    "#initialise parameters\n",
    "alpha = 0.0001\n",
    "discount_factor = 0.999\n",
    "secondary_discount_factor = 0.2\n",
    "#initialise policy network pi with parameters theta \n",
    "#DOES IT MATTER WHAT IT ORIGINALLY OUTPUTS - SOME ACTIONS ARE HIGHLY PREFERED BY DEFAULT\n",
    "#YEAH ACTIONS SEEM TO ONLY BE ACTUALLY CHOOSING BETWEEN TWO IDK IF THIS HURTS TRAINING\n",
    "n_network = neural_network(env)\n",
    "network_optimiser = optim.Adam(n_network.parameters(), lr=alpha)\n",
    "available_actions = [0,2,3]\n",
    "print(available_actions)\n",
    "\n",
    "num_episodes = 1000\n",
    "batch_size = 10\n",
    "episode_rewards = []\n",
    "total_rewards = [0]\n",
    "batch_log_probs = []\n",
    "batch_actions = []\n",
    "batch_rewards = []\n",
    "batch_count = 0\n",
    "\n",
    "for episode in range(num_episodes):\n",
    "    print(\"EPISODE \" + str(episode))\n",
    "    #generate an episode trajectory following policy pi\n",
    "    episode_rewards.append(0)\n",
    "    observation = env.reset()\n",
    "    cur_state = process(observation)\n",
    "    cur_state = process(observation)\n",
    "    #cur_state = process(observation)\n",
    "    #cur_state = process(observation)\n",
    "   # print(cur_state)\n",
    "    done = False\n",
    "    first = True\n",
    "    turn = 0\n",
    "    \n",
    "    states = []\n",
    "    rewards = []\n",
    "    actions = []\n",
    "    log_probs = []\n",
    "    \n",
    "    while not done:\n",
    "        action_probs = n_network.predict(cur_state)\n",
    "        #if turn % 500 == 0:\n",
    "         #   print(action_probs)\n",
    "        turn += 1\n",
    "        action = random.choices(available_actions, weights=action_probs.tolist())[0]\n",
    "        actions.append(action)\n",
    "        if action == 2:\n",
    "            action_index = 1\n",
    "        elif action == 3:\n",
    "            action_index = 2\n",
    "        else:\n",
    "            action_index = 0\n",
    "        log_probs.append(torch.log(action_probs.squeeze(0))[action_index])\n",
    "        observation, reward, done, info = env.step(action)\n",
    "        \n",
    "        if reward > 0:\n",
    "            print(\"Reward!: \", reward)\n",
    "\n",
    "        states.append(cur_state)\n",
    "        cur_state = process(observation)\n",
    "        rewards.append(reward)\n",
    "        episode_rewards[episode] += reward\n",
    "        \n",
    "        if done:\n",
    "            discounted_returns = calculate_discounted_return(rewards, discount_factor, secondary_discount_factor)\n",
    "            batch_rewards.extend(discounted_returns)\n",
    "            batch_log_probs.extend(log_probs)\n",
    "            batch_count += 1\n",
    "            total_rewards[-1] += sum(rewards)\n",
    "           # print(sum(rewards))\n",
    "            #print(total_rewards[-1])\n",
    "            \n",
    "            if batch_count == batch_size:\n",
    "                network_optimiser.zero_grad()\n",
    "                \n",
    "                reward_tensor = torch.Tensor(batch_rewards)\n",
    "                chosen_log_probs = torch.stack(batch_log_probs)#.detach().numpy()\n",
    "                \n",
    "                log_x_reward = reward_tensor * chosen_log_probs\n",
    "                loss = - log_x_reward.mean()\n",
    "                \n",
    "                loss.backward()\n",
    "                print(\"Loss: \", loss)\n",
    "                network_optimiser.step()\n",
    "                \n",
    "                batch_rewards = []\n",
    "                batch_log_probs = []\n",
    "                batch_count = 0\n",
    "                print(\"Avg Rewards: \", total_rewards[-1])\n",
    "                total_rewards.append(0)"
   ]
  },
  {
   "cell_type": "code",
   "execution_count": 21,
   "id": "e1cb2a2e",
   "metadata": {},
   "outputs": [],
   "source": [
    "import pickle\n",
    "\n",
    "with open('reinforce-logs/rewards.txt', 'a') as f:\n",
    "    f.write(str(total_rewards) + '\\n')\n",
    "    \n",
    "torch.save(n_network.state_dict(), 'reinforce-logs/agent-modified-rewards.pt')\n"
   ]
  },
  {
   "cell_type": "code",
   "execution_count": null,
   "id": "502b8a1e",
   "metadata": {},
   "outputs": [],
   "source": [
    "import matplotlib.pyplot as plt\n",
    " \n",
    "plt.plot(total_rewards, color=\"mediumpurple\")\n",
    " \n",
    "plt.xlabel('Episode number')\n",
    "plt.ylabel('Rewards')\n",
    " \n",
    "# giving a title to my graph\n",
    "plt.title('Reinforce rewards per episode')\n",
    " \n",
    "# function to show the plot\n",
    "#plt.show()\n",
    "plt.savefig(\"reinforce-logs/rewards1.png\")"
   ]
  },
  {
   "cell_type": "code",
   "execution_count": 15,
   "id": "790cc8ce",
   "metadata": {},
   "outputs": [
    {
     "data": {
      "image/png": "[encoded data removed]",
      "text/plain": [
       "<Figure size 432x288 with 1 Axes>"
      ]
     },
     "metadata": {
      "needs_background": "light"
     },
     "output_type": "display_data"
    }
   ],
   "source": [
    "#BASELINE NEURAL NETWORK\n",
    "import matplotlib.pyplot as plt\n",
    " \n",
    "plt.plot(total_rewards, color=\"mediumpurple\")\n",
    " \n",
    "plt.xlabel('Episode number')\n",
    "plt.ylabel('Rewards')\n",
    " \n",
    "# giving a title to my graph\n",
    "plt.title('Reinforce rewards per episode')\n",
    " \n",
    "# function to show the plot\n",
    "#plt.show()\n",
    "plt.savefig(\"reinforce-logs/rewards1.png\")"
   ]
  },
  {
   "cell_type": "code",
   "execution_count": 3,
   "id": "403fb8eb",
   "metadata": {},
   "outputs": [
    {
     "name": "stdout",
     "output_type": "stream",
     "text": [
      "GREY IMAGE PROCESS\n"
     ]
    },
    {
     "data": {
      "image/png": "[encoded data removed]",
      "text/plain": [
       "<Figure size 432x288 with 1 Axes>"
      ]
     },
     "metadata": {
      "needs_background": "light"
     },
     "output_type": "display_data"
    },
    {
     "name": "stdout",
     "output_type": "stream",
     "text": [
      "torch.Size([84, 84])\n"
     ]
    }
   ],
   "source": [
    "for n in range(10):\n",
    "    observation, reward, done, info = env.step(env.action_space.sample()) # take a random action\n",
    "    img_pre = process(observation)\n",
    "grey_image = img_pre[0]\n",
    "print(\"GREY IMAGE PROCESS\")\n",
    "#print(np.amax(grey_image))\n",
    "imgplot = plt.imshow(grey_image, cmap=\"gray\")\n",
    "plt.show()\n",
    "print(np.shape(grey_image))\n",
    "#f = open(\"image.txt\", \"w\")\n",
    "#pic = list(grey_image.detach().numpy().round(decimals=2))\n",
    "#for element in pic:\n",
    " #   print(element, file=f)"
   ]
  },
  {
   "cell_type": "code",
   "execution_count": 29,
   "id": "e46e009a",
   "metadata": {},
   "outputs": [
    {
     "name": "stdout",
     "output_type": "stream",
     "text": [
      "torch.Size([900])\n"
     ]
    },
    {
     "data": {
      "image/png": "[encoded data removed]",
      "text/plain": [
       "<Figure size 432x288 with 1 Axes>"
      ]
     },
     "metadata": {
      "needs_background": "light"
     },
     "output_type": "display_data"
    },
    {
     "name": "stdout",
     "output_type": "stream",
     "text": [
      "torch.Size([900])\n"
     ]
    },
    {
     "data": {
      "image/png": "[encoded data removed]",
      "text/plain": [
       "<Figure size 432x288 with 1 Axes>"
      ]
     },
     "metadata": {
      "needs_background": "light"
     },
     "output_type": "display_data"
    },
    {
     "name": "stdout",
     "output_type": "stream",
     "text": [
      "torch.Size([900])\n"
     ]
    },
    {
     "data": {
      "image/png": "[encoded data removed]",
      "text/plain": [
       "<Figure size 432x288 with 1 Axes>"
      ]
     },
     "metadata": {
      "needs_background": "light"
     },
     "output_type": "display_data"
    },
    {
     "name": "stdout",
     "output_type": "stream",
     "text": [
      "torch.Size([900])\n"
     ]
    },
    {
     "data": {
      "image/png": "[encoded data removed]",
      "text/plain": [
       "<Figure size 432x288 with 1 Axes>"
      ]
     },
     "metadata": {
      "needs_background": "light"
     },
     "output_type": "display_data"
    },
    {
     "name": "stdout",
     "output_type": "stream",
     "text": [
      "torch.Size([900])\n"
     ]
    },
    {
     "data": {
      "image/png": "[encoded data removed]",
      "text/plain": [
       "<Figure size 432x288 with 1 Axes>"
      ]
     },
     "metadata": {
      "needs_background": "light"
     },
     "output_type": "display_data"
    },
    {
     "name": "stdout",
     "output_type": "stream",
     "text": [
      "torch.Size([900])\n"
     ]
    },
    {
     "data": {
      "image/png": "[encoded data removed]",
      "text/plain": [
       "<Figure size 432x288 with 1 Axes>"
      ]
     },
     "metadata": {
      "needs_background": "light"
     },
     "output_type": "display_data"
    },
    {
     "name": "stdout",
     "output_type": "stream",
     "text": [
      "torch.Size([900])\n"
     ]
    },
    {
     "data": {
      "image/png": "[encoded data removed]",
      "text/plain": [
       "<Figure size 432x288 with 1 Axes>"
      ]
     },
     "metadata": {
      "needs_background": "light"
     },
     "output_type": "display_data"
    },
    {
     "name": "stdout",
     "output_type": "stream",
     "text": [
      "torch.Size([900])\n"
     ]
    },
    {
     "data": {
      "image/png": "[encoded data removed]",
      "text/plain": [
       "<Figure size 432x288 with 1 Axes>"
      ]
     },
     "metadata": {
      "needs_background": "light"
     },
     "output_type": "display_data"
    },
    {
     "name": "stdout",
     "output_type": "stream",
     "text": [
      "torch.Size([900])\n"
     ]
    },
    {
     "data": {
      "image/png": "[encoded data removed]",
      "text/plain": [
       "<Figure size 432x288 with 1 Axes>"
      ]
     },
     "metadata": {
      "needs_background": "light"
     },
     "output_type": "display_data"
    },
    {
     "name": "stdout",
     "output_type": "stream",
     "text": [
      "torch.Size([900])\n"
     ]
    },
    {
     "data": {
      "image/png": "[encoded data removed]",
      "text/plain": [
       "<Figure size 432x288 with 1 Axes>"
      ]
     },
     "metadata": {
      "needs_background": "light"
     },
     "output_type": "display_data"
    },
    {
     "name": "stdout",
     "output_type": "stream",
     "text": [
      "torch.Size([900])\n"
     ]
    },
    {
     "data": {
      "image/png": "[encoded data removed]",
      "text/plain": [
       "<Figure size 432x288 with 1 Axes>"
      ]
     },
     "metadata": {
      "needs_background": "light"
     },
     "output_type": "display_data"
    },
    {
     "name": "stdout",
     "output_type": "stream",
     "text": [
      "torch.Size([900])\n"
     ]
    },
    {
     "data": {
      "image/png": "[encoded data removed]",
      "text/plain": [
       "<Figure size 432x288 with 1 Axes>"
      ]
     },
     "metadata": {
      "needs_background": "light"
     },
     "output_type": "display_data"
    },
    {
     "name": "stdout",
     "output_type": "stream",
     "text": [
      "torch.Size([900])\n"
     ]
    },
    {
     "data": {
      "image/png": "[encoded data removed]",
      "text/plain": [
       "<Figure size 432x288 with 1 Axes>"
      ]
     },
     "metadata": {
      "needs_background": "light"
     },
     "output_type": "display_data"
    },
    {
     "name": "stdout",
     "output_type": "stream",
     "text": [
      "torch.Size([900])\n"
     ]
    },
    {
     "data": {
      "image/png": "[encoded data removed]",
      "text/plain": [
       "<Figure size 432x288 with 1 Axes>"
      ]
     },
     "metadata": {
      "needs_background": "light"
     },
     "output_type": "display_data"
    },
    {
     "name": "stdout",
     "output_type": "stream",
     "text": [
      "torch.Size([900])\n"
     ]
    },
    {
     "data": {
      "image/png": "[encoded data removed]",
      "text/plain": [
       "<Figure size 432x288 with 1 Axes>"
      ]
     },
     "metadata": {
      "needs_background": "light"
     },
     "output_type": "display_data"
    },
    {
     "name": "stdout",
     "output_type": "stream",
     "text": [
      "torch.Size([900])\n"
     ]
    },
    {
     "data": {
      "image/png": "[encoded data removed]",
      "text/plain": [
       "<Figure size 432x288 with 1 Axes>"
      ]
     },
     "metadata": {
      "needs_background": "light"
     },
     "output_type": "display_data"
    },
    {
     "name": "stdout",
     "output_type": "stream",
     "text": [
      "torch.Size([900])\n"
     ]
    },
    {
     "data": {
      "image/png": "[encoded data removed]",
      "text/plain": [
       "<Figure size 432x288 with 1 Axes>"
      ]
     },
     "metadata": {
      "needs_background": "light"
     },
     "output_type": "display_data"
    },
    {
     "name": "stdout",
     "output_type": "stream",
     "text": [
      "torch.Size([900])\n"
     ]
    },
    {
     "data": {
      "image/png": "[encoded data removed]",
      "text/plain": [
       "<Figure size 432x288 with 1 Axes>"
      ]
     },
     "metadata": {
      "needs_background": "light"
     },
     "output_type": "display_data"
    },
    {
     "name": "stdout",
     "output_type": "stream",
     "text": [
      "torch.Size([900])\n"
     ]
    },
    {
     "data": {
      "image/png": "[encoded data removed]",
      "text/plain": [
       "<Figure size 432x288 with 1 Axes>"
      ]
     },
     "metadata": {
      "needs_background": "light"
     },
     "output_type": "display_data"
    },
    {
     "name": "stdout",
     "output_type": "stream",
     "text": [
      "torch.Size([900])\n"
     ]
    },
    {
     "data": {
      "image/png": "[encoded data removed]",
      "text/plain": [
       "<Figure size 432x288 with 1 Axes>"
      ]
     },
     "metadata": {
      "needs_background": "light"
     },
     "output_type": "display_data"
    },
    {
     "name": "stdout",
     "output_type": "stream",
     "text": [
      "torch.Size([900])\n"
     ]
    },
    {
     "data": {
      "image/png": "[encoded data removed]",
      "text/plain": [
       "<Figure size 432x288 with 1 Axes>"
      ]
     },
     "metadata": {
      "needs_background": "light"
     },
     "output_type": "display_data"
    },
    {
     "name": "stdout",
     "output_type": "stream",
     "text": [
      "torch.Size([900])\n"
     ]
    },
    {
     "data": {
      "image/png": "[encoded data removed]",
      "text/plain": [
       "<Figure size 432x288 with 1 Axes>"
      ]
     },
     "metadata": {
      "needs_background": "light"
     },
     "output_type": "display_data"
    },
    {
     "name": "stdout",
     "output_type": "stream",
     "text": [
      "torch.Size([900])\n"
     ]
    },
    {
     "data": {
      "image/png": "[encoded data removed]",
      "text/plain": [
       "<Figure size 432x288 with 1 Axes>"
      ]
     },
     "metadata": {
      "needs_background": "light"
     },
     "output_type": "display_data"
    },
    {
     "name": "stdout",
     "output_type": "stream",
     "text": [
      "torch.Size([900])\n"
     ]
    },
    {
     "data": {
      "image/png": "[encoded data removed]",
      "text/plain": [
       "<Figure size 432x288 with 1 Axes>"
      ]
     },
     "metadata": {
      "needs_background": "light"
     },
     "output_type": "display_data"
    },
    {
     "name": "stdout",
     "output_type": "stream",
     "text": [
      "torch.Size([900])\n"
     ]
    },
    {
     "data": {
      "image/png": "[encoded data removed]",
      "text/plain": [
       "<Figure size 432x288 with 1 Axes>"
      ]
     },
     "metadata": {
      "needs_background": "light"
     },
     "output_type": "display_data"
    },
    {
     "name": "stdout",
     "output_type": "stream",
     "text": [
      "torch.Size([900])\n"
     ]
    },
    {
     "data": {
      "image/png": "[encoded data removed]",
      "text/plain": [
       "<Figure size 432x288 with 1 Axes>"
      ]
     },
     "metadata": {
      "needs_background": "light"
     },
     "output_type": "display_data"
    },
    {
     "name": "stdout",
     "output_type": "stream",
     "text": [
      "torch.Size([900])\n"
     ]
    },
    {
     "data": {
      "image/png": "[encoded data removed]",
      "text/plain": [
       "<Figure size 432x288 with 1 Axes>"
      ]
     },
     "metadata": {
      "needs_background": "light"
     },
     "output_type": "display_data"
    },
    {
     "name": "stdout",
     "output_type": "stream",
     "text": [
      "torch.Size([900])\n"
     ]
    },
    {
     "data": {
      "image/png": "[encoded data removed]",
      "text/plain": [
       "<Figure size 432x288 with 1 Axes>"
      ]
     },
     "metadata": {
      "needs_background": "light"
     },
     "output_type": "display_data"
    },
    {
     "name": "stdout",
     "output_type": "stream",
     "text": [
      "torch.Size([900])\n"
     ]
    },
    {
     "data": {
      "image/png": "[encoded data removed]",
      "text/plain": [
       "<Figure size 432x288 with 1 Axes>"
      ]
     },
     "metadata": {
      "needs_background": "light"
     },
     "output_type": "display_data"
    },
    {
     "name": "stdout",
     "output_type": "stream",
     "text": [
      "torch.Size([900])\n"
     ]
    },
    {
     "data": {
      "image/png": "[encoded data removed]",
      "text/plain": [
       "<Figure size 432x288 with 1 Axes>"
      ]
     },
     "metadata": {
      "needs_background": "light"
     },
     "output_type": "display_data"
    },
    {
     "name": "stdout",
     "output_type": "stream",
     "text": [
      "torch.Size([900])\n"
     ]
    },
    {
     "data": {
      "image/png": "[encoded data removed]",
      "text/plain": [
       "<Figure size 432x288 with 1 Axes>"
      ]
     },
     "metadata": {
      "needs_background": "light"
     },
     "output_type": "display_data"
    },
    {
     "name": "stdout",
     "output_type": "stream",
     "text": [
      "torch.Size([900])\n"
     ]
    },
    {
     "data": {
      "image/png": "[encoded data removed]",
      "text/plain": [
       "<Figure size 432x288 with 1 Axes>"
      ]
     },
     "metadata": {
      "needs_background": "light"
     },
     "output_type": "display_data"
    },
    {
     "name": "stdout",
     "output_type": "stream",
     "text": [
      "torch.Size([900])\n"
     ]
    },
    {
     "data": {
      "image/png": "[encoded data removed]",
      "text/plain": [
       "<Figure size 432x288 with 1 Axes>"
      ]
     },
     "metadata": {
      "needs_background": "light"
     },
     "output_type": "display_data"
    },
    {
     "name": "stdout",
     "output_type": "stream",
     "text": [
      "torch.Size([900])\n"
     ]
    },
    {
     "data": {
      "image/png": "[encoded data removed]",
      "text/plain": [
       "<Figure size 432x288 with 1 Axes>"
      ]
     },
     "metadata": {
      "needs_background": "light"
     },
     "output_type": "display_data"
    },
    {
     "name": "stdout",
     "output_type": "stream",
     "text": [
      "torch.Size([900])\n"
     ]
    },
    {
     "data": {
      "image/png": "[encoded data removed]",
      "text/plain": [
       "<Figure size 432x288 with 1 Axes>"
      ]
     },
     "metadata": {
      "needs_background": "light"
     },
     "output_type": "display_data"
    },
    {
     "name": "stdout",
     "output_type": "stream",
     "text": [
      "torch.Size([900])\n"
     ]
    },
    {
     "data": {
      "image/png": "[encoded data removed]",
      "text/plain": [
       "<Figure size 432x288 with 1 Axes>"
      ]
     },
     "metadata": {
      "needs_background": "light"
     },
     "output_type": "display_data"
    },
    {
     "name": "stdout",
     "output_type": "stream",
     "text": [
      "torch.Size([900])\n"
     ]
    },
    {
     "data": {
      "image/png": "[encoded data removed]",
      "text/plain": [
       "<Figure size 432x288 with 1 Axes>"
      ]
     },
     "metadata": {
      "needs_background": "light"
     },
     "output_type": "display_data"
    },
    {
     "name": "stdout",
     "output_type": "stream",
     "text": [
      "torch.Size([900])\n"
     ]
    },
    {
     "data": {
      "image/png": "[encoded data removed]",
      "text/plain": [
       "<Figure size 432x288 with 1 Axes>"
      ]
     },
     "metadata": {
      "needs_background": "light"
     },
     "output_type": "display_data"
    },
    {
     "name": "stdout",
     "output_type": "stream",
     "text": [
      "torch.Size([900])\n"
     ]
    },
    {
     "data": {
      "image/png": "[encoded data removed]",
      "text/plain": [
       "<Figure size 432x288 with 1 Axes>"
      ]
     },
     "metadata": {
      "needs_background": "light"
     },
     "output_type": "display_data"
    },
    {
     "name": "stdout",
     "output_type": "stream",
     "text": [
      "torch.Size([900])\n"
     ]
    },
    {
     "data": {
      "image/png": "[encoded data removed]",
      "text/plain": [
       "<Figure size 432x288 with 1 Axes>"
      ]
     },
     "metadata": {
      "needs_background": "light"
     },
     "output_type": "display_data"
    },
    {
     "name": "stdout",
     "output_type": "stream",
     "text": [
      "torch.Size([900])\n"
     ]
    },
    {
     "data": {
      "image/png": "[encoded data removed]",
      "text/plain": [
       "<Figure size 432x288 with 1 Axes>"
      ]
     },
     "metadata": {
      "needs_background": "light"
     },
     "output_type": "display_data"
    },
    {
     "name": "stdout",
     "output_type": "stream",
     "text": [
      "torch.Size([900])\n"
     ]
    },
    {
     "data": {
      "image/png": "[encoded data removed]",
      "text/plain": [
       "<Figure size 432x288 with 1 Axes>"
      ]
     },
     "metadata": {
      "needs_background": "light"
     },
     "output_type": "display_data"
    },
    {
     "name": "stdout",
     "output_type": "stream",
     "text": [
      "torch.Size([900])\n"
     ]
    },
    {
     "data": {
      "image/png": "[encoded data removed]",
      "text/plain": [
       "<Figure size 432x288 with 1 Axes>"
      ]
     },
     "metadata": {
      "needs_background": "light"
     },
     "output_type": "display_data"
    },
    {
     "name": "stdout",
     "output_type": "stream",
     "text": [
      "torch.Size([900])\n"
     ]
    },
    {
     "data": {
      "image/png": "[encoded data removed]",
      "text/plain": [
       "<Figure size 432x288 with 1 Axes>"
      ]
     },
     "metadata": {
      "needs_background": "light"
     },
     "output_type": "display_data"
    },
    {
     "name": "stdout",
     "output_type": "stream",
     "text": [
      "torch.Size([900])\n"
     ]
    },
    {
     "data": {
      "image/png": "[encoded data removed]",
      "text/plain": [
       "<Figure size 432x288 with 1 Axes>"
      ]
     },
     "metadata": {
      "needs_background": "light"
     },
     "output_type": "display_data"
    },
    {
     "name": "stdout",
     "output_type": "stream",
     "text": [
      "torch.Size([900])\n"
     ]
    },
    {
     "data": {
      "image/png": "[encoded data removed]",
      "text/plain": [
       "<Figure size 432x288 with 1 Axes>"
      ]
     },
     "metadata": {
      "needs_background": "light"
     },
     "output_type": "display_data"
    },
    {
     "name": "stdout",
     "output_type": "stream",
     "text": [
      "torch.Size([900])\n"
     ]
    },
    {
     "data": {
      "image/png": "[encoded data removed]",
      "text/plain": [
       "<Figure size 432x288 with 1 Axes>"
      ]
     },
     "metadata": {
      "needs_background": "light"
     },
     "output_type": "display_data"
    },
    {
     "name": "stdout",
     "output_type": "stream",
     "text": [
      "torch.Size([900])\n"
     ]
    },
    {
     "data": {
      "image/png": "[encoded data removed]",
      "text/plain": [
       "<Figure size 432x288 with 1 Axes>"
      ]
     },
     "metadata": {
      "needs_background": "light"
     },
     "output_type": "display_data"
    },
    {
     "name": "stdout",
     "output_type": "stream",
     "text": [
      "torch.Size([900])\n"
     ]
    },
    {
     "data": {
      "image/png": "[encoded data removed]",
      "text/plain": [
       "<Figure size 432x288 with 1 Axes>"
      ]
     },
     "metadata": {
      "needs_background": "light"
     },
     "output_type": "display_data"
    },
    {
     "name": "stdout",
     "output_type": "stream",
     "text": [
      "torch.Size([900])\n"
     ]
    },
    {
     "data": {
      "image/png": "[encoded data removed]",
      "text/plain": [
       "<Figure size 432x288 with 1 Axes>"
      ]
     },
     "metadata": {
      "needs_background": "light"
     },
     "output_type": "display_data"
    }
   ],
   "source": [
    "for n in range(50):\n",
    "    observation, reward, done, info = env.step(env.action_space.sample()) # take a random action\n",
    "    if n % 2 == 0:\n",
    "        img_pre = process(observation, True)\n",
    "    else:\n",
    "        img_pre = process(observation, False)\n",
    "    imgplot = plt.imshow(img_pre[0], cmap=\"gray\")\n",
    "    plt.show()"
   ]
  },
  {
   "cell_type": "code",
   "execution_count": 3,
   "id": "1e4f0d7b",
   "metadata": {},
   "outputs": [
    {
     "name": "stdout",
     "output_type": "stream",
     "text": [
      "Populating the interactive namespace from numpy and matplotlib\n",
      "GREY IMAGE PROCESS\n"
     ]
    },
    {
     "name": "stderr",
     "output_type": "stream",
     "text": [
      "C:\\Users\\Student\\AppData\\Roaming\\Python\\Python310\\site-packages\\IPython\\core\\magics\\pylab.py:159: UserWarning: pylab import has clobbered these variables: ['inv']\n",
      "`%matplotlib` prevents importing * from pylab and numpy\n",
      "  warn(\"pylab import has clobbered these variables: %s\"  % clobbered +\n"
     ]
    },
    {
     "data": {
      "image/png": "[encoded data removed]",
      "text/plain": [
       "<Figure size 432x288 with 1 Axes>"
      ]
     },
     "metadata": {
      "needs_background": "light"
     },
     "output_type": "display_data"
    },
    {
     "name": "stdout",
     "output_type": "stream",
     "text": [
      "torch.Size([84, 84])\n",
      "tensor([[87.2436, 87.2436, 87.2436,  ..., 87.2436, 87.2436, 87.2436],\n",
      "        [87.2436, 87.2436, 87.2436,  ..., 87.2436, 87.2436, 87.2436],\n",
      "        [87.2436, 87.2436, 87.2436,  ..., 87.2436, 87.2436, 87.2436],\n",
      "        ...,\n",
      "        [87.2436, 87.2436, 87.2436,  ..., 87.2436, 87.2436, 87.2436],\n",
      "        [87.2436, 87.2436, 87.2436,  ..., 87.2436, 87.2436, 87.2436],\n",
      "        [87.2436, 87.2436, 87.2436,  ..., 87.2436, 87.2436, 87.2436]])\n"
     ]
    },
    {
     "ename": "RuntimeError",
     "evalue": "Given groups=1, weight of size [1, 1, 3, 3], expected input[1, 2, 84, 84] to have 1 channels, but got 2 channels instead",
     "output_type": "error",
     "traceback": [
      "\u001b[1;31m---------------------------------------------------------------------------\u001b[0m",
      "\u001b[1;31mRuntimeError\u001b[0m                              Traceback (most recent call last)",
      "\u001b[1;32m~\\AppData\\Local\\Temp/ipykernel_6820/1967930974.py\u001b[0m in \u001b[0;36m<module>\u001b[1;34m\u001b[0m\n\u001b[0;32m     51\u001b[0m \u001b[0mprint\u001b[0m\u001b[1;33m(\u001b[0m\u001b[0mgrey_image\u001b[0m\u001b[1;33m)\u001b[0m\u001b[1;33m\u001b[0m\u001b[1;33m\u001b[0m\u001b[0m\n\u001b[0;32m     52\u001b[0m \u001b[1;33m\u001b[0m\u001b[0m\n\u001b[1;32m---> 53\u001b[1;33m \u001b[0mfc\u001b[0m \u001b[1;33m=\u001b[0m \u001b[0mnetwork\u001b[0m\u001b[1;33m(\u001b[0m\u001b[0mimg_pre\u001b[0m\u001b[1;33m[\u001b[0m\u001b[1;32mNone\u001b[0m\u001b[1;33m,\u001b[0m \u001b[1;33m...\u001b[0m\u001b[1;33m]\u001b[0m\u001b[1;33m.\u001b[0m\u001b[0mfloat\u001b[0m\u001b[1;33m(\u001b[0m\u001b[1;33m)\u001b[0m\u001b[1;33m)\u001b[0m\u001b[1;33m\u001b[0m\u001b[1;33m\u001b[0m\u001b[0m\n\u001b[0m\u001b[0;32m     54\u001b[0m \u001b[1;31m#print(max(fc))\u001b[0m\u001b[1;33m\u001b[0m\u001b[1;33m\u001b[0m\u001b[0m\n\u001b[0;32m     55\u001b[0m \u001b[0mfc_numpy\u001b[0m \u001b[1;33m=\u001b[0m \u001b[0mfc\u001b[0m\u001b[1;33m.\u001b[0m\u001b[0mdetach\u001b[0m\u001b[1;33m(\u001b[0m\u001b[1;33m)\u001b[0m\u001b[1;33m.\u001b[0m\u001b[0mnumpy\u001b[0m\u001b[1;33m(\u001b[0m\u001b[1;33m)\u001b[0m\u001b[1;33m\u001b[0m\u001b[1;33m\u001b[0m\u001b[0m\n",
      "\u001b[1;32m~\\AppData\\Local\\Programs\\Python\\Python310\\lib\\site-packages\\torch\\nn\\modules\\module.py\u001b[0m in \u001b[0;36m_call_impl\u001b[1;34m(self, *input, **kwargs)\u001b[0m\n\u001b[0;32m   1108\u001b[0m         if not (self._backward_hooks or self._forward_hooks or self._forward_pre_hooks or _global_backward_hooks\n\u001b[0;32m   1109\u001b[0m                 or _global_forward_hooks or _global_forward_pre_hooks):\n\u001b[1;32m-> 1110\u001b[1;33m             \u001b[1;32mreturn\u001b[0m \u001b[0mforward_call\u001b[0m\u001b[1;33m(\u001b[0m\u001b[1;33m*\u001b[0m\u001b[0minput\u001b[0m\u001b[1;33m,\u001b[0m \u001b[1;33m**\u001b[0m\u001b[0mkwargs\u001b[0m\u001b[1;33m)\u001b[0m\u001b[1;33m\u001b[0m\u001b[1;33m\u001b[0m\u001b[0m\n\u001b[0m\u001b[0;32m   1111\u001b[0m         \u001b[1;31m# Do not call functions when jit is used\u001b[0m\u001b[1;33m\u001b[0m\u001b[1;33m\u001b[0m\u001b[0m\n\u001b[0;32m   1112\u001b[0m         \u001b[0mfull_backward_hooks\u001b[0m\u001b[1;33m,\u001b[0m \u001b[0mnon_full_backward_hooks\u001b[0m \u001b[1;33m=\u001b[0m \u001b[1;33m[\u001b[0m\u001b[1;33m]\u001b[0m\u001b[1;33m,\u001b[0m \u001b[1;33m[\u001b[0m\u001b[1;33m]\u001b[0m\u001b[1;33m\u001b[0m\u001b[1;33m\u001b[0m\u001b[0m\n",
      "\u001b[1;32m~\\AppData\\Local\\Programs\\Python\\Python310\\lib\\site-packages\\torch\\nn\\modules\\container.py\u001b[0m in \u001b[0;36mforward\u001b[1;34m(self, input)\u001b[0m\n\u001b[0;32m    139\u001b[0m     \u001b[1;32mdef\u001b[0m \u001b[0mforward\u001b[0m\u001b[1;33m(\u001b[0m\u001b[0mself\u001b[0m\u001b[1;33m,\u001b[0m \u001b[0minput\u001b[0m\u001b[1;33m)\u001b[0m\u001b[1;33m:\u001b[0m\u001b[1;33m\u001b[0m\u001b[1;33m\u001b[0m\u001b[0m\n\u001b[0;32m    140\u001b[0m         \u001b[1;32mfor\u001b[0m \u001b[0mmodule\u001b[0m \u001b[1;32min\u001b[0m \u001b[0mself\u001b[0m\u001b[1;33m:\u001b[0m\u001b[1;33m\u001b[0m\u001b[1;33m\u001b[0m\u001b[0m\n\u001b[1;32m--> 141\u001b[1;33m             \u001b[0minput\u001b[0m \u001b[1;33m=\u001b[0m \u001b[0mmodule\u001b[0m\u001b[1;33m(\u001b[0m\u001b[0minput\u001b[0m\u001b[1;33m)\u001b[0m\u001b[1;33m\u001b[0m\u001b[1;33m\u001b[0m\u001b[0m\n\u001b[0m\u001b[0;32m    142\u001b[0m         \u001b[1;32mreturn\u001b[0m \u001b[0minput\u001b[0m\u001b[1;33m\u001b[0m\u001b[1;33m\u001b[0m\u001b[0m\n\u001b[0;32m    143\u001b[0m \u001b[1;33m\u001b[0m\u001b[0m\n",
      "\u001b[1;32m~\\AppData\\Local\\Programs\\Python\\Python310\\lib\\site-packages\\torch\\nn\\modules\\module.py\u001b[0m in \u001b[0;36m_call_impl\u001b[1;34m(self, *input, **kwargs)\u001b[0m\n\u001b[0;32m   1108\u001b[0m         if not (self._backward_hooks or self._forward_hooks or self._forward_pre_hooks or _global_backward_hooks\n\u001b[0;32m   1109\u001b[0m                 or _global_forward_hooks or _global_forward_pre_hooks):\n\u001b[1;32m-> 1110\u001b[1;33m             \u001b[1;32mreturn\u001b[0m \u001b[0mforward_call\u001b[0m\u001b[1;33m(\u001b[0m\u001b[1;33m*\u001b[0m\u001b[0minput\u001b[0m\u001b[1;33m,\u001b[0m \u001b[1;33m**\u001b[0m\u001b[0mkwargs\u001b[0m\u001b[1;33m)\u001b[0m\u001b[1;33m\u001b[0m\u001b[1;33m\u001b[0m\u001b[0m\n\u001b[0m\u001b[0;32m   1111\u001b[0m         \u001b[1;31m# Do not call functions when jit is used\u001b[0m\u001b[1;33m\u001b[0m\u001b[1;33m\u001b[0m\u001b[0m\n\u001b[0;32m   1112\u001b[0m         \u001b[0mfull_backward_hooks\u001b[0m\u001b[1;33m,\u001b[0m \u001b[0mnon_full_backward_hooks\u001b[0m \u001b[1;33m=\u001b[0m \u001b[1;33m[\u001b[0m\u001b[1;33m]\u001b[0m\u001b[1;33m,\u001b[0m \u001b[1;33m[\u001b[0m\u001b[1;33m]\u001b[0m\u001b[1;33m\u001b[0m\u001b[1;33m\u001b[0m\u001b[0m\n",
      "\u001b[1;32m~\\AppData\\Local\\Programs\\Python\\Python310\\lib\\site-packages\\torch\\nn\\modules\\conv.py\u001b[0m in \u001b[0;36mforward\u001b[1;34m(self, input)\u001b[0m\n\u001b[0;32m    445\u001b[0m \u001b[1;33m\u001b[0m\u001b[0m\n\u001b[0;32m    446\u001b[0m     \u001b[1;32mdef\u001b[0m \u001b[0mforward\u001b[0m\u001b[1;33m(\u001b[0m\u001b[0mself\u001b[0m\u001b[1;33m,\u001b[0m \u001b[0minput\u001b[0m\u001b[1;33m:\u001b[0m \u001b[0mTensor\u001b[0m\u001b[1;33m)\u001b[0m \u001b[1;33m->\u001b[0m \u001b[0mTensor\u001b[0m\u001b[1;33m:\u001b[0m\u001b[1;33m\u001b[0m\u001b[1;33m\u001b[0m\u001b[0m\n\u001b[1;32m--> 447\u001b[1;33m         \u001b[1;32mreturn\u001b[0m \u001b[0mself\u001b[0m\u001b[1;33m.\u001b[0m\u001b[0m_conv_forward\u001b[0m\u001b[1;33m(\u001b[0m\u001b[0minput\u001b[0m\u001b[1;33m,\u001b[0m \u001b[0mself\u001b[0m\u001b[1;33m.\u001b[0m\u001b[0mweight\u001b[0m\u001b[1;33m,\u001b[0m \u001b[0mself\u001b[0m\u001b[1;33m.\u001b[0m\u001b[0mbias\u001b[0m\u001b[1;33m)\u001b[0m\u001b[1;33m\u001b[0m\u001b[1;33m\u001b[0m\u001b[0m\n\u001b[0m\u001b[0;32m    448\u001b[0m \u001b[1;33m\u001b[0m\u001b[0m\n\u001b[0;32m    449\u001b[0m \u001b[1;32mclass\u001b[0m \u001b[0mConv3d\u001b[0m\u001b[1;33m(\u001b[0m\u001b[0m_ConvNd\u001b[0m\u001b[1;33m)\u001b[0m\u001b[1;33m:\u001b[0m\u001b[1;33m\u001b[0m\u001b[1;33m\u001b[0m\u001b[0m\n",
      "\u001b[1;32m~\\AppData\\Local\\Programs\\Python\\Python310\\lib\\site-packages\\torch\\nn\\modules\\conv.py\u001b[0m in \u001b[0;36m_conv_forward\u001b[1;34m(self, input, weight, bias)\u001b[0m\n\u001b[0;32m    441\u001b[0m                             \u001b[0mweight\u001b[0m\u001b[1;33m,\u001b[0m \u001b[0mbias\u001b[0m\u001b[1;33m,\u001b[0m \u001b[0mself\u001b[0m\u001b[1;33m.\u001b[0m\u001b[0mstride\u001b[0m\u001b[1;33m,\u001b[0m\u001b[1;33m\u001b[0m\u001b[1;33m\u001b[0m\u001b[0m\n\u001b[0;32m    442\u001b[0m                             _pair(0), self.dilation, self.groups)\n\u001b[1;32m--> 443\u001b[1;33m         return F.conv2d(input, weight, bias, self.stride,\n\u001b[0m\u001b[0;32m    444\u001b[0m                         self.padding, self.dilation, self.groups)\n\u001b[0;32m    445\u001b[0m \u001b[1;33m\u001b[0m\u001b[0m\n",
      "\u001b[1;31mRuntimeError\u001b[0m: Given groups=1, weight of size [1, 1, 3, 3], expected input[1, 2, 84, 84] to have 1 channels, but got 2 channels instead"
     ]
    }
   ],
   "source": [
    "%pylab inline\n",
    "import matplotlib.pyplot as plt\n",
    "import matplotlib.image as mpimg\n",
    "import torch\n",
    "from torch import nn\n",
    "\n",
    "#transposed = observation.transpose(2, 0, 1\n",
    "\n",
    "conv2 = nn.Conv2d(in_channels=1, out_channels=4, kernel_size=8, stride=4)\n",
    "network = nn.Sequential(\n",
    "            nn.Conv2d(in_channels=1, out_channels=1, kernel_size=3, stride=1))\n",
    "            #nn.ReLU())\n",
    "            #nn.MaxPool2d(kernel_size=4, stride=2),\n",
    "            #nn.Conv2d(in_channels=16, out_channels=32, kernel_size=4, stride=2),\n",
    "            #nn.ReLU())\n",
    "            #nn.MaxPool2d(kernel_size=2, stride=1))\n",
    "            #nn.BatchNorm2d(16))\n",
    "\n",
    "networ2k = nn.Sequential(\n",
    "            nn.Conv2d(in_channels=4, out_channels=96, kernel_size=10, stride=3),  # (b x 96 x 55 x 55)\n",
    "            nn.LeakyReLU(),\n",
    "            nn.LocalResponseNorm(size=5, alpha=0.0001, beta=0.75, k=2),  # section 3.3\n",
    "            nn.MaxPool2d(kernel_size=3, stride=2),  # (b x 96 x 27 x 27)\n",
    "            nn.Conv2d(96, 256, 5, padding=2),  # (b x 256 x 27 x 27)\n",
    "            #nn.LeakyReLU(),\n",
    "            #nn.LocalResponseNorm(size=5, alpha=0.0001, beta=0.75, k=2),\n",
    "            #nn.MaxPool2d(kernel_size=3, stride=2),  # (b x 256 x 13 x 13)\n",
    "            #nn.Conv2d(256, 384, 3, padding=1),  # (b x 384 x 13 x 13)\n",
    "            #nn.LeakyReLU(),\n",
    "            #nn.Conv2d(384, 384, 3, padding=1),  # (b x 384 x 13 x 13)\n",
    "            #nn.LeakyReLU(),\n",
    "            #nn.Conv2d(384, 256, 3, padding=1),  # (b x 256 x 13 x 13)\n",
    "            #nn.LeakyReLU(),\n",
    "            #nn.MaxPool2d(kernel_size=3, stride=2),  # (b x 256 x 6 x 6)\n",
    "        )\n",
    "for n in range(10):\n",
    "    observation, reward, done, info = env.step(env.action_space.sample()) # take a random action\n",
    "    img_pre = process(observation)\n",
    "\n",
    "last_space = [0,0]\n",
    "\n",
    "for n in range(10):\n",
    "    observation, reward, done, info = env.step(env.action_space.sample()) # take a random action\n",
    "    img_pre = process(observation)\n",
    "grey_image = img_pre[0]\n",
    "print(\"GREY IMAGE PROCESS\")\n",
    "#print(np.amax(grey_image))\n",
    "imgplot = plt.imshow(grey_image, cmap=\"gray\")\n",
    "plt.show()\n",
    "print(np.shape(grey_image))\n",
    "print(grey_image)\n",
    "\n",
    "fc = network(img_pre[None, ...].float())\n",
    "#print(max(fc))\n",
    "fc_numpy = fc.detach().numpy()\n",
    "print(np.shape(fc_numpy))\n",
    "\n",
    "#array = grey_image.detach().numpy()\n",
    "#print(np.shape(array))\n",
    "#result = numpy.where(array == numpy.amax(array))\n",
    "#print('Tuple of arrays returned : ', result)\n",
    "#print('Max value: ', numpy.amax(array))\n",
    "#print('List of coordinates of maximum value in Numpy array : ')\n",
    "# zip the 2 arrays to get the exact coordinates\n",
    "#listOfCordinates = list(zip(result[0], result[1]))\n",
    "# travese over the list of cordinates\n",
    "#for cord in listOfCordinates:\n",
    " #   print(cord)\n",
    "print(\"1\")\n",
    "imgplot = plt.imshow(numpy.squeeze(fc.detach().numpy()), cmap=\"gray\")\n",
    "plt.show()\n",
    "'''\n",
    "print(\"2\")\n",
    "imgplot = plt.imshow(numpy.squeeze(fc.detach().numpy())[1][:][:], cmap=\"gray\")\n",
    "plt.show()\n",
    "print(\"3\")\n",
    "imgplot = plt.imshow(numpy.squeeze(fc.detach().numpy())[2][:][:], cmap=\"gray\")\n",
    "plt.show()\n",
    "print(\"4\")\n",
    "imgplot = plt.imshow(numpy.squeeze(fc.detach().numpy())[3][:][:], cmap=\"gray\")\n",
    "plt.show()\n",
    "\n",
    "print(\"5\")\n",
    "imgplot = plt.imshow(numpy.squeeze(fc.detach().numpy())[4][:][:], cmap=\"gray\")\n",
    "plt.show()\n",
    "print(\"6\")\n",
    "imgplot = plt.imshow(numpy.squeeze(fc.detach().numpy())[5][:][:], cmap=\"gray\")\n",
    "plt.show()\n",
    "print(\"7\")\n",
    "imgplot = plt.imshow(numpy.squeeze(fc.detach().numpy())[6][:][:], cmap=\"gray\")\n",
    "plt.show()\n",
    "print(\"8\")\n",
    "imgplot = plt.imshow(numpy.squeeze(fc.detach().numpy())[7][:][:], cmap=\"gray\")\n",
    "plt.show()'''\n",
    "for n in range(50):\n",
    "    observation, reward, done, info = env.step(env.action_space.sample()) # take a random action\n",
    "    img_pre = process(observation)\n",
    "    imgplot = plt.imshow(img_pre[0], cmap=\"gray\")\n",
    "    plt.show()\n",
    "\n",
    "grey_image = img_pre[0]\n",
    "imgplot = plt.imshow(grey_image, cmap=\"gray\")\n",
    "plt.show()\n",
    "\n",
    "#img_pre = process(observation)\n",
    "#fc = network(img_pre[None, ...].float())\n",
    "#print(np.shape(fc.detach().numpy()))\n",
    "#imgplot = plt.imshow(numpy.squeeze(fc.detach().numpy())[1][:][:], cmap=\"gray\")\n",
    "#plt.show()\n",
    "\n",
    "for n in range(10):\n",
    "    observation, reward, done, info = env.step(env.action_space.sample()) # take a random action\n",
    "    img_pre = process(observation)\n",
    "\n",
    "grey_image = img_pre[0]\n",
    "imgplot = plt.imshow(grey_image, cmap=\"gray\")\n",
    "plt.show()\n",
    "\n",
    "#fc = network(img_pre[None, ...].float())\n",
    "#print(np.shape(fc.detach().numpy()))\n",
    "#imgplot = plt.imshow(numpy.squeeze(fc.detach().numpy())[2][:][:], cmap=\"gray\")\n",
    "#plt.show()\n",
    "\n",
    "for n in range(10):\n",
    "    observation, reward, done, info = env.step(env.action_space.sample()) # take a random action\n",
    "    img_pre = process(observation)\n",
    "    \n",
    "grey_image = img_pre[0]\n",
    "imgplot = plt.imshow(grey_image, cmap=\"gray\")\n",
    "plt.show()\n",
    "\n",
    "#img_pre = process(observation)\n",
    "#fc = network(img_pre[None, ...].float())\n",
    "#print(np.shape(fc.detach().numpy()))\n",
    "#imgplot = plt.imshow(numpy.squeeze(fc.detach().numpy())[3][:][:], cmap=\"gray\")\n",
    "#plt.show()"
   ]
  },
  {
   "cell_type": "code",
   "execution_count": 24,
   "id": "72efd386",
   "metadata": {},
   "outputs": [
    {
     "name": "stdout",
     "output_type": "stream",
     "text": [
      "Number actions: 6\n",
      "Number observations: 900\n",
      "tensor([0.0066, 0.7941, 0.0096, 0.1664, 0.0132, 0.0099],\n",
      "       grad_fn=<SoftmaxBackward0>)\n",
      "tensor([0.0091, 0.5653, 0.0470, 0.2673, 0.0102, 0.1011],\n",
      "       grad_fn=<SoftmaxBackward0>)\n",
      "tensor([0.0188, 0.3605, 0.1204, 0.3115, 0.0121, 0.1768],\n",
      "       grad_fn=<SoftmaxBackward0>)\n",
      "tensor([0.0311, 0.4105, 0.1000, 0.2058, 0.0263, 0.2263],\n",
      "       grad_fn=<SoftmaxBackward0>)\n",
      "tensor([0.0243, 0.2930, 0.0982, 0.3585, 0.0424, 0.1835],\n",
      "       grad_fn=<SoftmaxBackward0>)\n",
      "tensor([0.0521, 0.1239, 0.0272, 0.3745, 0.0406, 0.3817],\n",
      "       grad_fn=<SoftmaxBackward0>)\n",
      "tensor([0.0636, 0.0544, 0.0233, 0.4629, 0.0792, 0.3166],\n",
      "       grad_fn=<SoftmaxBackward0>)\n",
      "tensor([0.0142, 0.0416, 0.0702, 0.3363, 0.0789, 0.4588],\n",
      "       grad_fn=<SoftmaxBackward0>)\n",
      "tensor([0.0035, 0.0527, 0.0561, 0.0874, 0.0303, 0.7699],\n",
      "       grad_fn=<SoftmaxBackward0>)\n",
      "tensor([8.7634e-04, 1.8173e-02, 2.3830e-02, 2.4461e-02, 8.0584e-03, 9.2460e-01],\n",
      "       grad_fn=<SoftmaxBackward0>)\n"
     ]
    }
   ],
   "source": [
    "class neural_network(nn.Module):\n",
    "    def __init__(self, env):\n",
    "        super().__init__()\n",
    "        #get number of actions & observations for output & input layer resp.\n",
    "        self.n_actions = env.action_space.n\n",
    "        self.n_observations = 900\n",
    "        print(\"Number actions: \" + str(self.n_actions))\n",
    "        print(\"Number observations: \" + str(self.n_observations))\n",
    "        self.network = nn.Sequential(\n",
    "            nn.Linear(self.n_observations, 32), \n",
    "            #nn.ReLU(), \n",
    "            nn.Linear(32, self.n_actions),\n",
    "            nn.Softmax(dim=-1))\n",
    "        \n",
    "        self.conv = nn.Sequential(\n",
    "            nn.Conv2d(in_channels=2, out_channels=4, kernel_size=4, stride=2),\n",
    "            nn.MaxPool2d(kernel_size=2, stride=2),\n",
    "           # nn.Conv2d(in_channels=4, out_channels = 8, kernel_size=5, stride=2)\n",
    "        )\n",
    "        \n",
    "        self.classifier = nn.Sequential(\n",
    "            nn.Linear(1600, 800),\n",
    "            nn.ReLU(),\n",
    "            nn.Linear(800, 400),\n",
    "            nn.Linear(400, self.n_actions),\n",
    "            nn.Softmax(dim=-1)\n",
    "        )\n",
    "        \n",
    "        \n",
    "        \n",
    "    def forward(self, x):\n",
    "        x = self.conv(x)\n",
    "        #print(numpy.squeeze(x.detach().numpy())[1][:][:])\n",
    "        #imgplot = plt.imshow(numpy.squeeze(x.detach().numpy())[1][:][:], cmap=\"gray\")\n",
    "        #plt.show()\n",
    "        img_temp = numpy.squeeze(x.detach().numpy())[1][:][:]\n",
    "        unique, counts = np.unique(img_temp,return_counts=True)\n",
    "        common = unique[np.argmax(counts)]\n",
    "        self.Thresh = nn.Threshold(common, 0)\n",
    "        #print(\"max:\")\n",
    "        if common < 0:\n",
    "            common = math.floor(common)\n",
    "        else:\n",
    "            common = math.ceil(common)\n",
    "        #print(common)\n",
    "        x = self.Thresh(x)\n",
    "        #print(numpy.shape(x))\n",
    "        x = x.view(-1, 1600)  # reduce the dimensions for linear layer input\n",
    "        x = x.squeeze(0)\n",
    "        #print(numpy.shape(x))\n",
    "        return self.classifier(x)\n",
    "network_optimiser = optim.Adam(n_network.parameters(), lr=alpha)\n",
    "for n in range(20):\n",
    "    observation, reward, done, info = env.step(env.action_space.sample())\n",
    "    img_pre = process(observation)\n",
    "\n",
    "network = neural_network(env)\n",
    "#print(img_pre)\n",
    "\n",
    "for n in range(10):\n",
    "    observation, reward, done, info = env.step(env.action_space.sample()) # take a random action\n",
    "    img_pre = process(observation)\n",
    "    print(network(img_pre))"
   ]
  },
  {
   "cell_type": "code",
   "execution_count": null,
   "id": "e4644b4f",
   "metadata": {},
   "outputs": [],
   "source": [
    "''''\n",
    "        self.conv = nn.Sequential(\n",
    "            nn.Conv2d(in_channels=4, out_channels=16, kernel_size=8, stride=4), \n",
    "            nn.ReLU(),\n",
    "            nn.Conv2d(in_channels=16, out_channels=32, kernel_size=4, stride=2),\n",
    "            nn.ReLU(),\n",
    "            #nn.Conv2d(in_channels=32, out_channels=1, kernel_size=1, stride=1),\n",
    "            #nn.Linear(9, 288),\n",
    "            #nn.Linear(9, self.n_actions),\n",
    "            #nn.Softmax(dim=-1)\n",
    "        )\n",
    "        \n",
    "        self.classifier = nn.Sequential(\n",
    "            #nn.Conv2d(in_channels=4, out_channels=16, kernel_size=8, stride=4), \n",
    "            #nn.ReLU(),\n",
    "            #nn.Conv2d(in_channels=16, out_channels=32, kernel_size=4, stride=2),\n",
    "            #nn.ReLU(),\n",
    "            #nn.Conv2d(in_channels=32, out_channels=1, kernel_size=1, stride=1),\n",
    "            nn.ReLU(),\n",
    "            #nn.Linear(54, 1),\n",
    "            nn.Linear(2592, self.n_actions),\n",
    "            nn.Softmax(dim=-1)\n",
    "        )\n",
    "        \n",
    "    def forward(self, x):\n",
    "        x = self.conv(x)\n",
    "        #print(np.shape(x))\n",
    "        x = x.view(-1, 2592)  # reduce the dimensions for linear layer input\n",
    "        x = x.squeeze(0)\n",
    "        #print(np.shape(x))\n",
    "        return self.classifier(x)\n",
    "        '''"
   ]
  },
  {
   "cell_type": "code",
   "execution_count": null,
   "id": "799bb066",
   "metadata": {},
   "outputs": [],
   "source": []
  }
 ],
 "metadata": {
  "kernelspec": {
   "display_name": "Python 3 (ipykernel)",
   "language": "python",
   "name": "python3"
  },
  "language_info": {
   "codemirror_mode": {
    "name": "ipython",
    "version": 3
   },
   "file_extension": ".py",
   "mimetype": "text/x-python",
   "name": "python",
   "nbconvert_exporter": "python",
   "pygments_lexer": "ipython3",
   "version": "3.10.0"
  }
 },
 "nbformat": 4,
 "nbformat_minor": 5
}
