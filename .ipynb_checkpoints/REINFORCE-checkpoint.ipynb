{
 "cells": [
  {
   "cell_type": "code",
   "execution_count": 3,
   "id": "f6cd6bed",
   "metadata": {},
   "outputs": [
    {
     "name": "stdout",
     "output_type": "stream",
     "text": [
      "2\n",
      "(4,)\n"
     ]
    },
    {
     "name": "stderr",
     "output_type": "stream",
     "text": [
      "C:\\Users\\Student\\AppData\\Local\\Programs\\Python\\Python310\\lib\\site-packages\\gym\\envs\\registration.py:505: UserWarning: \u001b[33mWARN: The environment CartPole-v0 is out of date. You should consider upgrading to version `v1` with the environment ID `CartPole-v1`.\u001b[0m\n",
      "  logger.warn(\n"
     ]
    }
   ],
   "source": [
    "import gym\n",
    "\n",
    "env = gym.make('CartPole-v0')\n",
    "env.reset()\n",
    "print(env.action_space.n)\n",
    "print(env.observation_space.shape)\n",
    "#for _ in range(1000):\n",
    " #   observation, reward, done, info = env.step(env.action_space.sample()) # take a random action\n",
    "  #  print(observation)\n",
    "env.close()"
   ]
  },
  {
   "cell_type": "code",
   "execution_count": null,
   "id": "7400e76d",
   "metadata": {},
   "outputs": [],
   "source": []
  },
  {
   "cell_type": "code",
   "execution_count": 9,
   "id": "1c69825a",
   "metadata": {},
   "outputs": [],
   "source": [
    "import torch\n",
    "from torch import nn\n",
    "from torch import optim\n",
    "\n",
    "#class for the neural network\n",
    "class neural_network():\n",
    "    def __init__(self, env):\n",
    "        #get number of actions & observations for output & input layer resp.\n",
    "        self.n_actions = env.action_space.n\n",
    "        self.n_observations = env.observation_space.shape[0]\n",
    "        print(\"Number actions: \" + str(self.n_actions))\n",
    "        print(\"Number observations: \" + str(self.n_observations))\n",
    "        \n",
    "        self.network = nn.Sequential(\n",
    "            nn.Linear(self.n_observations, 16), \n",
    "            nn.ReLU(), \n",
    "            nn.Linear(16, self.n_actions),\n",
    "            nn.Softmax())\n",
    "    \n",
    "    def predict(self, state):\n",
    "        action_probabilities = self.network(torch.FloatTensor(state))\n",
    "        return action_probabilities"
   ]
  },
  {
   "cell_type": "code",
   "execution_count": null,
   "id": "e3371e3b",
   "metadata": {},
   "outputs": [],
   "source": []
  },
  {
   "cell_type": "code",
   "execution_count": null,
   "id": "a96b51ca",
   "metadata": {},
   "outputs": [],
   "source": [
    "#function for discounted return\n",
    "\n",
    "def discounted_return():\n",
    "    "
   ]
  },
  {
   "cell_type": "code",
   "execution_count": null,
   "id": "d1c55079",
   "metadata": {},
   "outputs": [],
   "source": [
    "#reinforce function"
   ]
  },
  {
   "cell_type": "code",
   "execution_count": 10,
   "id": "22a42725",
   "metadata": {},
   "outputs": [
    {
     "name": "stdout",
     "output_type": "stream",
     "text": [
      "Number actions: 2\n",
      "Number observations: 4\n",
      "tensor([0.4607, 0.5393], grad_fn=<SoftmaxBackward0>)\n",
      "tensor([0.4622, 0.5378], grad_fn=<SoftmaxBackward0>)\n",
      "tensor([0.4644, 0.5356], grad_fn=<SoftmaxBackward0>)\n",
      "tensor([0.4541, 0.5459], grad_fn=<SoftmaxBackward0>)\n",
      "tensor([0.4659, 0.5341], grad_fn=<SoftmaxBackward0>)\n",
      "tensor([0.4654, 0.5346], grad_fn=<SoftmaxBackward0>)\n",
      "tensor([0.4621, 0.5379], grad_fn=<SoftmaxBackward0>)\n",
      "tensor([0.4654, 0.5346], grad_fn=<SoftmaxBackward0>)\n",
      "tensor([0.4629, 0.5371], grad_fn=<SoftmaxBackward0>)\n",
      "tensor([0.4655, 0.5345], grad_fn=<SoftmaxBackward0>)\n",
      "tensor([0.4623, 0.5377], grad_fn=<SoftmaxBackward0>)\n"
     ]
    }
   ],
   "source": [
    "nn = neural_network(env)\n",
    "\n",
    "observation = env.reset()\n",
    "print(nn.predict(observation))\n",
    "for _ in range(10):\n",
    "    observation, reward, done, info = env.step(env.action_space.sample())\n",
    "    print(nn.predict(observation))"
   ]
  },
  {
   "cell_type": "code",
   "execution_count": null,
   "id": "daaee8ab",
   "metadata": {},
   "outputs": [],
   "source": []
  }
 ],
 "metadata": {
  "kernelspec": {
   "display_name": "Python 3 (ipykernel)",
   "language": "python",
   "name": "python3"
  },
  "language_info": {
   "codemirror_mode": {
    "name": "ipython",
    "version": 3
   },
   "file_extension": ".py",
   "mimetype": "text/x-python",
   "name": "python",
   "nbconvert_exporter": "python",
   "pygments_lexer": "ipython3",
   "version": "3.10.0"
  }
 },
 "nbformat": 4,
 "nbformat_minor": 5
}
