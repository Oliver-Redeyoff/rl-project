{
 "cells": [
  {
   "cell_type": "code",
   "execution_count": 10,
   "id": "f6cd6bed",
   "metadata": {
    "scrolled": true
   },
   "outputs": [
    {
     "name": "stdout",
     "output_type": "stream",
     "text": [
      "6\n",
      "(210, 160, 3)\n",
      "(210, 160, 3)\n"
     ]
    }
   ],
   "source": [
    "import gym\n",
    "import numpy as np\n",
    "\n",
    "env = gym.make('ALE/Pong-v5')\n",
    "observation = env.reset()\n",
    "print(env.action_space.n)\n",
    "print(env.observation_space.shape)\n",
    "print(np.shape(observation))\n",
    "state = []"
   ]
  },
  {
   "cell_type": "code",
   "execution_count": 12,
   "id": "7d620dea",
   "metadata": {},
   "outputs": [
    {
     "name": "stdout",
     "output_type": "stream",
     "text": [
      "Populating the interactive namespace from numpy and matplotlib\n",
      "<class 'numpy.ndarray'>\n"
     ]
    },
    {
     "name": "stderr",
     "output_type": "stream",
     "text": [
      "C:\\Users\\Student\\AppData\\Roaming\\Python\\Python310\\site-packages\\IPython\\core\\magics\\pylab.py:159: UserWarning: pylab import has clobbered these variables: ['info', 'random']\n",
      "`%matplotlib` prevents importing * from pylab and numpy\n",
      "  warn(\"pylab import has clobbered these variables: %s\"  % clobbered +\n"
     ]
    },
    {
     "ename": "TypeError",
     "evalue": "Invalid shape () for image data",
     "output_type": "error",
     "traceback": [
      "\u001b[1;31m---------------------------------------------------------------------------\u001b[0m",
      "\u001b[1;31mTypeError\u001b[0m                                 Traceback (most recent call last)",
      "\u001b[1;32m~\\AppData\\Local\\Temp/ipykernel_21436/1703324148.py\u001b[0m in \u001b[0;36m<module>\u001b[1;34m\u001b[0m\n\u001b[0;32m     28\u001b[0m     \u001b[0mobservation\u001b[0m\u001b[1;33m,\u001b[0m \u001b[0mreward\u001b[0m\u001b[1;33m,\u001b[0m \u001b[0mdone\u001b[0m\u001b[1;33m,\u001b[0m \u001b[0minfo\u001b[0m \u001b[1;33m=\u001b[0m \u001b[0menv\u001b[0m\u001b[1;33m.\u001b[0m\u001b[0mstep\u001b[0m\u001b[1;33m(\u001b[0m\u001b[0menv\u001b[0m\u001b[1;33m.\u001b[0m\u001b[0maction_space\u001b[0m\u001b[1;33m.\u001b[0m\u001b[0msample\u001b[0m\u001b[1;33m(\u001b[0m\u001b[1;33m)\u001b[0m\u001b[1;33m)\u001b[0m \u001b[1;31m# take a random action\u001b[0m\u001b[1;33m\u001b[0m\u001b[1;33m\u001b[0m\u001b[0m\n\u001b[0;32m     29\u001b[0m     \u001b[0mimg_pre\u001b[0m \u001b[1;33m=\u001b[0m \u001b[0mprocess\u001b[0m\u001b[1;33m(\u001b[0m\u001b[0mobservation\u001b[0m\u001b[1;33m)\u001b[0m\u001b[1;33m\u001b[0m\u001b[1;33m\u001b[0m\u001b[0m\n\u001b[1;32m---> 30\u001b[1;33m     \u001b[0mimgplot\u001b[0m \u001b[1;33m=\u001b[0m \u001b[0mplt\u001b[0m\u001b[1;33m.\u001b[0m\u001b[0mimshow\u001b[0m\u001b[1;33m(\u001b[0m\u001b[0mimg_pre\u001b[0m\u001b[1;33m[\u001b[0m\u001b[1;36m0\u001b[0m\u001b[1;33m]\u001b[0m\u001b[1;33m,\u001b[0m \u001b[0mcmap\u001b[0m\u001b[1;33m=\u001b[0m\u001b[1;34m\"gray\"\u001b[0m\u001b[1;33m)\u001b[0m\u001b[1;33m\u001b[0m\u001b[1;33m\u001b[0m\u001b[0m\n\u001b[0m\u001b[0;32m     31\u001b[0m     \u001b[0mplt\u001b[0m\u001b[1;33m.\u001b[0m\u001b[0mshow\u001b[0m\u001b[1;33m(\u001b[0m\u001b[1;33m)\u001b[0m\u001b[1;33m\u001b[0m\u001b[1;33m\u001b[0m\u001b[0m\n",
      "\u001b[1;32m~\\AppData\\Local\\Programs\\Python\\Python310\\lib\\site-packages\\matplotlib\\_api\\deprecation.py\u001b[0m in \u001b[0;36mwrapper\u001b[1;34m(*args, **kwargs)\u001b[0m\n\u001b[0;32m    454\u001b[0m                 \u001b[1;34m\"parameter will become keyword-only %(removal)s.\"\u001b[0m\u001b[1;33m,\u001b[0m\u001b[1;33m\u001b[0m\u001b[1;33m\u001b[0m\u001b[0m\n\u001b[0;32m    455\u001b[0m                 name=name, obj_type=f\"parameter of {func.__name__}()\")\n\u001b[1;32m--> 456\u001b[1;33m         \u001b[1;32mreturn\u001b[0m \u001b[0mfunc\u001b[0m\u001b[1;33m(\u001b[0m\u001b[1;33m*\u001b[0m\u001b[0margs\u001b[0m\u001b[1;33m,\u001b[0m \u001b[1;33m**\u001b[0m\u001b[0mkwargs\u001b[0m\u001b[1;33m)\u001b[0m\u001b[1;33m\u001b[0m\u001b[1;33m\u001b[0m\u001b[0m\n\u001b[0m\u001b[0;32m    457\u001b[0m \u001b[1;33m\u001b[0m\u001b[0m\n\u001b[0;32m    458\u001b[0m     \u001b[1;31m# Don't modify *func*'s signature, as boilerplate.py needs it.\u001b[0m\u001b[1;33m\u001b[0m\u001b[1;33m\u001b[0m\u001b[0m\n",
      "\u001b[1;32m~\\AppData\\Local\\Programs\\Python\\Python310\\lib\\site-packages\\matplotlib\\pyplot.py\u001b[0m in \u001b[0;36mimshow\u001b[1;34m(X, cmap, norm, aspect, interpolation, alpha, vmin, vmax, origin, extent, interpolation_stage, filternorm, filterrad, resample, url, data, **kwargs)\u001b[0m\n\u001b[0;32m   2638\u001b[0m         \u001b[0minterpolation_stage\u001b[0m\u001b[1;33m=\u001b[0m\u001b[1;32mNone\u001b[0m\u001b[1;33m,\u001b[0m \u001b[0mfilternorm\u001b[0m\u001b[1;33m=\u001b[0m\u001b[1;32mTrue\u001b[0m\u001b[1;33m,\u001b[0m \u001b[0mfilterrad\u001b[0m\u001b[1;33m=\u001b[0m\u001b[1;36m4.0\u001b[0m\u001b[1;33m,\u001b[0m\u001b[1;33m\u001b[0m\u001b[1;33m\u001b[0m\u001b[0m\n\u001b[0;32m   2639\u001b[0m         resample=None, url=None, data=None, **kwargs):\n\u001b[1;32m-> 2640\u001b[1;33m     __ret = gca().imshow(\n\u001b[0m\u001b[0;32m   2641\u001b[0m         \u001b[0mX\u001b[0m\u001b[1;33m,\u001b[0m \u001b[0mcmap\u001b[0m\u001b[1;33m=\u001b[0m\u001b[0mcmap\u001b[0m\u001b[1;33m,\u001b[0m \u001b[0mnorm\u001b[0m\u001b[1;33m=\u001b[0m\u001b[0mnorm\u001b[0m\u001b[1;33m,\u001b[0m \u001b[0maspect\u001b[0m\u001b[1;33m=\u001b[0m\u001b[0maspect\u001b[0m\u001b[1;33m,\u001b[0m\u001b[1;33m\u001b[0m\u001b[1;33m\u001b[0m\u001b[0m\n\u001b[0;32m   2642\u001b[0m         \u001b[0minterpolation\u001b[0m\u001b[1;33m=\u001b[0m\u001b[0minterpolation\u001b[0m\u001b[1;33m,\u001b[0m \u001b[0malpha\u001b[0m\u001b[1;33m=\u001b[0m\u001b[0malpha\u001b[0m\u001b[1;33m,\u001b[0m \u001b[0mvmin\u001b[0m\u001b[1;33m=\u001b[0m\u001b[0mvmin\u001b[0m\u001b[1;33m,\u001b[0m\u001b[1;33m\u001b[0m\u001b[1;33m\u001b[0m\u001b[0m\n",
      "\u001b[1;32m~\\AppData\\Local\\Programs\\Python\\Python310\\lib\\site-packages\\matplotlib\\_api\\deprecation.py\u001b[0m in \u001b[0;36mwrapper\u001b[1;34m(*args, **kwargs)\u001b[0m\n\u001b[0;32m    454\u001b[0m                 \u001b[1;34m\"parameter will become keyword-only %(removal)s.\"\u001b[0m\u001b[1;33m,\u001b[0m\u001b[1;33m\u001b[0m\u001b[1;33m\u001b[0m\u001b[0m\n\u001b[0;32m    455\u001b[0m                 name=name, obj_type=f\"parameter of {func.__name__}()\")\n\u001b[1;32m--> 456\u001b[1;33m         \u001b[1;32mreturn\u001b[0m \u001b[0mfunc\u001b[0m\u001b[1;33m(\u001b[0m\u001b[1;33m*\u001b[0m\u001b[0margs\u001b[0m\u001b[1;33m,\u001b[0m \u001b[1;33m**\u001b[0m\u001b[0mkwargs\u001b[0m\u001b[1;33m)\u001b[0m\u001b[1;33m\u001b[0m\u001b[1;33m\u001b[0m\u001b[0m\n\u001b[0m\u001b[0;32m    457\u001b[0m \u001b[1;33m\u001b[0m\u001b[0m\n\u001b[0;32m    458\u001b[0m     \u001b[1;31m# Don't modify *func*'s signature, as boilerplate.py needs it.\u001b[0m\u001b[1;33m\u001b[0m\u001b[1;33m\u001b[0m\u001b[0m\n",
      "\u001b[1;32m~\\AppData\\Local\\Programs\\Python\\Python310\\lib\\site-packages\\matplotlib\\__init__.py\u001b[0m in \u001b[0;36minner\u001b[1;34m(ax, data, *args, **kwargs)\u001b[0m\n\u001b[0;32m   1410\u001b[0m     \u001b[1;32mdef\u001b[0m \u001b[0minner\u001b[0m\u001b[1;33m(\u001b[0m\u001b[0max\u001b[0m\u001b[1;33m,\u001b[0m \u001b[1;33m*\u001b[0m\u001b[0margs\u001b[0m\u001b[1;33m,\u001b[0m \u001b[0mdata\u001b[0m\u001b[1;33m=\u001b[0m\u001b[1;32mNone\u001b[0m\u001b[1;33m,\u001b[0m \u001b[1;33m**\u001b[0m\u001b[0mkwargs\u001b[0m\u001b[1;33m)\u001b[0m\u001b[1;33m:\u001b[0m\u001b[1;33m\u001b[0m\u001b[1;33m\u001b[0m\u001b[0m\n\u001b[0;32m   1411\u001b[0m         \u001b[1;32mif\u001b[0m \u001b[0mdata\u001b[0m \u001b[1;32mis\u001b[0m \u001b[1;32mNone\u001b[0m\u001b[1;33m:\u001b[0m\u001b[1;33m\u001b[0m\u001b[1;33m\u001b[0m\u001b[0m\n\u001b[1;32m-> 1412\u001b[1;33m             \u001b[1;32mreturn\u001b[0m \u001b[0mfunc\u001b[0m\u001b[1;33m(\u001b[0m\u001b[0max\u001b[0m\u001b[1;33m,\u001b[0m \u001b[1;33m*\u001b[0m\u001b[0mmap\u001b[0m\u001b[1;33m(\u001b[0m\u001b[0msanitize_sequence\u001b[0m\u001b[1;33m,\u001b[0m \u001b[0margs\u001b[0m\u001b[1;33m)\u001b[0m\u001b[1;33m,\u001b[0m \u001b[1;33m**\u001b[0m\u001b[0mkwargs\u001b[0m\u001b[1;33m)\u001b[0m\u001b[1;33m\u001b[0m\u001b[1;33m\u001b[0m\u001b[0m\n\u001b[0m\u001b[0;32m   1413\u001b[0m \u001b[1;33m\u001b[0m\u001b[0m\n\u001b[0;32m   1414\u001b[0m         \u001b[0mbound\u001b[0m \u001b[1;33m=\u001b[0m \u001b[0mnew_sig\u001b[0m\u001b[1;33m.\u001b[0m\u001b[0mbind\u001b[0m\u001b[1;33m(\u001b[0m\u001b[0max\u001b[0m\u001b[1;33m,\u001b[0m \u001b[1;33m*\u001b[0m\u001b[0margs\u001b[0m\u001b[1;33m,\u001b[0m \u001b[1;33m**\u001b[0m\u001b[0mkwargs\u001b[0m\u001b[1;33m)\u001b[0m\u001b[1;33m\u001b[0m\u001b[1;33m\u001b[0m\u001b[0m\n",
      "\u001b[1;32m~\\AppData\\Local\\Programs\\Python\\Python310\\lib\\site-packages\\matplotlib\\axes\\_axes.py\u001b[0m in \u001b[0;36mimshow\u001b[1;34m(self, X, cmap, norm, aspect, interpolation, alpha, vmin, vmax, origin, extent, interpolation_stage, filternorm, filterrad, resample, url, **kwargs)\u001b[0m\n\u001b[0;32m   5486\u001b[0m                               **kwargs)\n\u001b[0;32m   5487\u001b[0m \u001b[1;33m\u001b[0m\u001b[0m\n\u001b[1;32m-> 5488\u001b[1;33m         \u001b[0mim\u001b[0m\u001b[1;33m.\u001b[0m\u001b[0mset_data\u001b[0m\u001b[1;33m(\u001b[0m\u001b[0mX\u001b[0m\u001b[1;33m)\u001b[0m\u001b[1;33m\u001b[0m\u001b[1;33m\u001b[0m\u001b[0m\n\u001b[0m\u001b[0;32m   5489\u001b[0m         \u001b[0mim\u001b[0m\u001b[1;33m.\u001b[0m\u001b[0mset_alpha\u001b[0m\u001b[1;33m(\u001b[0m\u001b[0malpha\u001b[0m\u001b[1;33m)\u001b[0m\u001b[1;33m\u001b[0m\u001b[1;33m\u001b[0m\u001b[0m\n\u001b[0;32m   5490\u001b[0m         \u001b[1;32mif\u001b[0m \u001b[0mim\u001b[0m\u001b[1;33m.\u001b[0m\u001b[0mget_clip_path\u001b[0m\u001b[1;33m(\u001b[0m\u001b[1;33m)\u001b[0m \u001b[1;32mis\u001b[0m \u001b[1;32mNone\u001b[0m\u001b[1;33m:\u001b[0m\u001b[1;33m\u001b[0m\u001b[1;33m\u001b[0m\u001b[0m\n",
      "\u001b[1;32m~\\AppData\\Local\\Programs\\Python\\Python310\\lib\\site-packages\\matplotlib\\image.py\u001b[0m in \u001b[0;36mset_data\u001b[1;34m(self, A)\u001b[0m\n\u001b[0;32m    713\u001b[0m         if not (self._A.ndim == 2\n\u001b[0;32m    714\u001b[0m                 or self._A.ndim == 3 and self._A.shape[-1] in [3, 4]):\n\u001b[1;32m--> 715\u001b[1;33m             raise TypeError(\"Invalid shape {} for image data\"\n\u001b[0m\u001b[0;32m    716\u001b[0m                             .format(self._A.shape))\n\u001b[0;32m    717\u001b[0m \u001b[1;33m\u001b[0m\u001b[0m\n",
      "\u001b[1;31mTypeError\u001b[0m: Invalid shape () for image data"
     ]
    },
    {
     "data": {
      "image/png": "[encoded data removed]",
      "text/plain": [
       "<Figure size 432x288 with 1 Axes>"
      ]
     },
     "metadata": {
      "needs_background": "light"
     },
     "output_type": "display_data"
    }
   ],
   "source": [
    "def rgb2grey(rgb):\n",
    "    return np.dot(rgb[33:193][:][...,:3], [0.2989, 0.5870, 0.1140])\n",
    "\n",
    "from torchvision.transforms import functional\n",
    "\n",
    "def process(rgb):\n",
    "    frame = rgb[33:193][:][:]\n",
    "    print(type(frame))\n",
    "    transposed = frame.transpose(2, 0, 1)\n",
    "    as_tensor = torch.Tensor(transposed)\n",
    "    grey = functional.rgb_to_grayscale(as_tensor)\n",
    "    downsampled = functional.resize(grey, [30, 30])\n",
    "   # inverted = functional.invert(downsampled)\n",
    "    state.append(downsampled)\n",
    "    \n",
    "    if (len(state) > 1):\n",
    "        state.pop(0)\n",
    "    #print(numpy.shape(torch.flatten(torch.stack(state).squeeze(1), 0, -1)))\n",
    "    return torch.flatten(torch.stack(state).squeeze(1), 0, -1)\n",
    "\n",
    "%pylab inline\n",
    "import matplotlib.pyplot as plt\n",
    "import matplotlib.image as mpimg\n",
    "import torch\n",
    "from torch import nn\n",
    "\n",
    "for n in range(10):\n",
    "    observation, reward, done, info = env.step(env.action_space.sample()) # take a random action\n",
    "    img_pre = process(observation)\n",
    "    imgplot = plt.imshow(img_pre[0], cmap=\"gray\")\n",
    "    plt.show()"
   ]
  },
  {
   "cell_type": "code",
   "execution_count": null,
   "id": "403fb8eb",
   "metadata": {},
   "outputs": [],
   "source": []
  },
  {
   "cell_type": "code",
   "execution_count": 6,
   "id": "1c69825a",
   "metadata": {},
   "outputs": [],
   "source": [
    "import torch\n",
    "from torch import nn\n",
    "from torch import optim\n",
    "\n",
    "#class for the neural network\n",
    "class neural_network():\n",
    "    def __init__(self, env):\n",
    "       # super().__init__()\n",
    "        #get number of actions & observations for output & input layer resp.\n",
    "        self.n_actions = env.action_space.n\n",
    "        self.n_observations = 900\n",
    "        print(\"Number actions: \" + str(self.n_actions))\n",
    "        print(\"Number observations: \" + str(self.n_observations))\n",
    "        self.network = nn.Sequential(\n",
    "            nn.Linear(self.n_observations, 32), \n",
    "            #nn.ReLU(), \n",
    "            nn.Linear(32, self.n_actions),\n",
    "            nn.Softmax(dim=-1))\n",
    "        ''''\n",
    "        self.conv = nn.Sequential(\n",
    "            nn.Conv2d(in_channels=4, out_channels=16, kernel_size=8, stride=4), \n",
    "            nn.ReLU(),\n",
    "            nn.Conv2d(in_channels=16, out_channels=32, kernel_size=4, stride=2),\n",
    "            nn.ReLU(),\n",
    "            #nn.Conv2d(in_channels=32, out_channels=1, kernel_size=1, stride=1),\n",
    "            #nn.Linear(9, 288),\n",
    "            #nn.Linear(9, self.n_actions),\n",
    "            #nn.Softmax(dim=-1)\n",
    "        )\n",
    "        \n",
    "        self.classifier = nn.Sequential(\n",
    "            #nn.Conv2d(in_channels=4, out_channels=16, kernel_size=8, stride=4), \n",
    "            #nn.ReLU(),\n",
    "            #nn.Conv2d(in_channels=16, out_channels=32, kernel_size=4, stride=2),\n",
    "            #nn.ReLU(),\n",
    "            #nn.Conv2d(in_channels=32, out_channels=1, kernel_size=1, stride=1),\n",
    "            nn.ReLU(),\n",
    "            #nn.Linear(54, 1),\n",
    "            nn.Linear(2592, self.n_actions),\n",
    "            nn.Softmax(dim=-1)\n",
    "        )\n",
    "        \n",
    "    def forward(self, x):\n",
    "        x = self.conv(x)\n",
    "        #print(np.shape(x))\n",
    "        x = x.view(-1, 2592)  # reduce the dimensions for linear layer input\n",
    "        x = x.squeeze(0)\n",
    "        #print(np.shape(x))\n",
    "        return self.classifier(x)\n",
    "        '''\n",
    "                    \n",
    "    def predict(self, state):\n",
    "        #print(type(state))\n",
    "        action_probabilities = self.network(torch.FloatTensor(state))\n",
    "        return action_probabilities"
   ]
  },
  {
   "cell_type": "code",
   "execution_count": 7,
   "id": "a96b51ca",
   "metadata": {},
   "outputs": [],
   "source": [
    "#function for discounted return\n",
    "\n",
    "def calculate_discounted_return(rewards, discount_factor):\n",
    "    discounted_returns = [rewards[-1]]\n",
    "    \n",
    "    for i in range(len(rewards)-2, -1, -1):\n",
    "        discounted_returns.append(rewards[i] + (discount_factor*discounted_returns[-1]))\n",
    "    \n",
    "    discounted_returns.reverse()\n",
    "    return [discounted_return - (sum(discounted_returns) / len(discounted_returns)) for discounted_return in discounted_returns]\n",
    "    #return discounted_returns"
   ]
  },
  {
   "cell_type": "code",
   "execution_count": 8,
   "id": "22a42725",
   "metadata": {
    "scrolled": true
   },
   "outputs": [
    {
     "name": "stdout",
     "output_type": "stream",
     "text": [
      "Number actions: 6\n",
      "Number observations: 900\n",
      "[0, 1, 2, 3, 4, 5]\n",
      "EPISODE 0\n",
      "tensor([106.7481, 106.7481, 106.7481, 106.7481, 106.7481, 106.7481, 106.7481,\n",
      "        106.7481, 106.7481, 106.7481, 106.7481, 106.7481, 106.7481, 106.7481,\n",
      "        106.7481, 106.7481, 106.7481, 106.7481, 106.7481, 106.7481, 106.7481,\n",
      "        106.7481, 106.7481, 106.7481, 106.7481, 106.7481, 106.7481, 106.7481,\n",
      "        106.7481, 106.7481, 106.7481, 106.7481, 106.7481, 106.7481, 106.7481,\n",
      "        106.7481, 106.7481, 106.7481, 106.7481, 106.7481, 106.7481, 106.7481,\n",
      "        106.7481, 106.7481, 106.7481, 106.7481, 106.7481, 106.7481, 106.7481,\n",
      "        106.7481, 106.7481, 106.7481, 106.7481, 106.7481, 106.7481, 106.7481,\n",
      "        106.7481, 106.7481, 106.7481, 106.7481,  74.3427, 106.7481, 106.7481,\n",
      "        106.7481, 106.7481, 106.7481, 106.7481, 106.7481, 106.7481, 106.7481,\n",
      "        106.7481, 106.7481, 106.7481, 106.7481, 106.7481, 106.7481, 106.7481,\n",
      "        106.7481, 106.7481, 106.7481, 106.7481, 106.7481, 106.7481, 106.7481,\n",
      "        106.7481, 106.7481, 106.7481, 106.7481, 106.7481, 106.7481, 106.7481,\n",
      "        106.7481, 106.7481, 106.7481, 106.7481, 106.7481, 106.7481, 106.7481,\n",
      "        106.7481, 106.7481, 106.7481, 106.7481, 106.7481, 106.7481, 106.7481,\n",
      "        106.7481, 106.7481, 106.7481, 106.7481, 106.7481, 106.7481, 106.7481,\n",
      "        106.7481, 106.7481, 106.7481, 106.7481, 106.7481, 106.7481, 106.7481,\n",
      "        106.7481, 106.7481, 106.7481, 106.7481, 106.7481, 106.7481, 106.7481,\n",
      "        106.7481, 106.7481, 106.7481, 106.7481, 106.7481, 106.7481, 106.7481,\n",
      "        106.7481, 106.7481, 106.7481, 106.7481, 106.7481, 106.7481, 106.7481,\n",
      "        106.7481, 106.7481, 106.7481, 106.7481, 106.7481, 106.7481, 106.7481,\n",
      "        106.7481, 106.7481, 106.7481, 106.7481, 106.7481, 106.7481, 106.7481,\n",
      "        106.7481, 106.7481, 106.7481, 106.7481, 106.7481, 106.7481, 106.7481,\n",
      "        106.7481, 106.7481, 106.7481, 106.7481, 106.7481, 106.7481, 106.7481,\n",
      "        106.7481, 106.7481, 106.7481, 106.7481, 106.7481, 106.7481, 106.7481,\n",
      "        106.7481, 106.7481, 106.7481, 106.7481, 106.7481, 106.7481, 106.7481,\n",
      "        106.7481, 106.7481, 106.7481, 106.7481, 106.7481, 106.7481, 106.7481,\n",
      "        106.7481, 106.7481, 106.7481, 106.7481, 106.7481, 106.7481, 106.7481,\n",
      "        106.7481, 106.7481, 106.7481, 106.7481, 106.7481, 106.7481, 106.7481,\n",
      "        106.7481, 106.7481, 106.7481, 106.7481, 106.7481, 106.7481, 106.7481,\n",
      "        106.7481, 106.7481, 106.7481, 106.7481, 106.7481, 106.7481, 106.7481,\n",
      "        106.7481, 106.7481, 106.7481, 106.7481, 106.7481, 106.7481, 106.7481,\n",
      "        106.7481, 106.7481, 106.7481, 106.7481, 106.7481, 106.7481, 106.7481,\n",
      "        106.7481, 106.7481, 106.7481, 106.7481, 106.7481, 106.7481, 106.7481,\n",
      "        106.7481, 106.7481, 106.7481, 106.7481, 106.7481, 106.7481, 106.7481,\n",
      "        106.7481, 106.7481, 106.7481, 106.7481, 106.7481, 106.7481, 106.7481,\n",
      "        106.7481, 106.7481, 106.7481, 106.7481, 106.7481, 106.7481, 106.7481,\n",
      "        106.7481, 106.7481, 106.7481, 106.7481, 106.7481, 106.7481, 106.7481,\n",
      "        106.7481, 106.7481, 106.7481, 106.7481, 106.7481, 106.7481, 106.7481,\n",
      "        106.7481, 106.7481, 106.7481, 106.7481, 106.7481, 106.7481, 106.7481,\n",
      "        106.7481, 106.7481, 106.7481, 106.7481, 106.7481, 106.7481, 106.7481,\n",
      "        106.7481, 106.7481, 106.7481, 106.7481, 106.7481, 106.7481, 106.7481,\n",
      "        106.7481, 106.7481, 106.7481, 106.7481, 106.7481, 106.7481, 106.7481,\n",
      "        106.7481, 106.7481, 106.7481, 106.7481, 106.7481, 106.7481, 106.7481,\n",
      "        106.7481, 106.7481, 106.7481, 106.7481, 106.7481, 106.7481, 106.7481,\n",
      "        106.7481, 106.7481, 106.7481, 106.7481, 106.7481, 106.7481, 106.7481,\n",
      "        106.7481, 106.7481, 106.7481, 106.7481, 106.7481, 106.7481, 106.7481,\n",
      "        106.7481, 106.7481, 106.7481, 106.7481, 106.7481, 106.7481, 106.7481,\n",
      "        106.7481, 106.7481, 106.7481, 106.7481, 106.7481, 106.7481, 106.7481,\n",
      "        106.7481, 106.7481, 106.7481, 106.7481, 106.7481, 106.7481, 106.7481,\n",
      "        106.7481, 106.7481, 106.7481, 106.7481, 106.7481, 106.7481, 106.7481,\n",
      "        106.7481, 106.7481, 106.7481, 106.7481, 106.7481, 106.7481, 106.7481,\n",
      "        106.7481, 106.7481, 106.7481, 106.7481, 106.7481, 106.7481, 106.7481,\n",
      "        106.7481, 106.7481, 106.7481, 106.7481, 106.7481, 106.7481, 106.7481,\n",
      "        106.7481, 106.7481, 106.7481, 106.7481, 106.7481, 106.7481, 106.7481,\n",
      "        106.7481, 121.3379, 106.7481, 106.7481, 106.7481, 106.7481, 106.7481,\n",
      "        106.7481, 106.7481, 106.7481, 106.7481, 106.7481, 106.7481, 106.7481,\n",
      "        106.7481, 106.7481, 106.7481, 106.7481, 106.7481, 106.7481, 106.7481,\n",
      "        106.7481, 106.7481, 106.7481, 106.7481, 106.7481, 106.7481, 106.7481,\n",
      "        106.7481, 106.7481, 106.7481, 121.3379, 106.7481, 106.7481, 106.7481,\n",
      "        106.7481, 106.7481, 106.7481, 106.7481, 106.7481, 106.7481, 106.7481,\n",
      "        106.7481, 106.7481, 106.7481, 106.7481, 106.7481, 106.7481, 106.7481,\n",
      "        106.7481, 106.7481, 106.7481, 106.7481, 106.7481, 106.7481, 106.7481,\n",
      "        106.7481, 106.7481, 106.7481, 106.7481, 106.7481, 121.3379, 106.7481,\n",
      "        106.7481, 106.7481, 106.7481, 106.7481, 106.7481, 106.7481, 106.7481,\n",
      "        106.7481, 106.7481, 106.7481, 106.7481, 106.7481, 106.7481, 106.7481,\n",
      "        106.7481, 106.7481, 106.7481, 106.7481, 106.7481, 106.7481, 106.7481,\n",
      "        106.7481, 106.7481, 106.7481, 106.7481, 106.7481, 106.7481, 106.7481,\n",
      "        106.7481, 106.7481, 106.7481, 106.7481, 106.7481, 106.7481, 106.7481,\n",
      "        106.7481, 106.7481, 106.7481, 106.7481, 106.7481, 106.7481, 106.7481,\n",
      "        106.7481, 106.7481, 106.7481, 106.7481, 106.7481, 106.7481, 106.7481,\n",
      "        106.7481, 106.7481, 106.7481, 106.7481, 106.7481, 106.7481, 106.7481,\n",
      "        106.7481, 106.7481, 106.7481, 106.7481, 106.7481, 106.7481, 106.7481,\n",
      "        106.7481, 106.7481, 106.7481, 106.7481, 106.7481, 106.7481, 106.7481,\n",
      "        106.7481, 106.7481, 106.7481, 106.7481, 106.7481, 106.7481, 106.7481,\n",
      "        106.7481, 106.7481, 106.7481, 106.7481, 106.7481, 106.7481, 106.7481,\n",
      "        106.7481, 106.7481, 106.7481, 106.7481, 106.7481, 106.7481, 106.7481,\n",
      "        106.7481, 106.7481, 106.7481, 106.7481, 106.7481, 106.7481, 106.7481,\n",
      "        106.7481, 106.7481, 106.7481, 106.7481, 106.7481, 106.7481, 106.7481,\n",
      "        106.7481, 106.7481, 106.7481, 106.7481, 106.7481, 106.7481, 106.7481,\n",
      "        106.7481, 106.7481, 106.7481, 106.7481, 106.7481, 106.7481, 106.7481,\n",
      "        106.7481, 106.7481, 106.7481, 106.7481, 106.7481, 106.7481, 106.7481,\n",
      "        106.7481, 106.7481, 106.7481, 106.7481, 106.7481, 106.7481, 106.7481,\n",
      "        106.7481, 106.7481, 106.7481, 106.7481, 106.7481, 106.7481, 106.7481,\n",
      "        106.7481, 106.7481, 106.7481, 106.7481, 106.7481, 106.7481, 106.7481,\n",
      "        106.7481, 106.7481, 106.7481, 106.7481, 106.7481, 106.7481, 106.7481,\n",
      "        106.7481, 106.7481, 106.7481, 106.7481, 106.7481, 106.7481, 106.7481,\n",
      "        106.7481, 106.7481, 106.7481, 106.7481, 106.7481, 106.7481, 106.7481,\n",
      "        106.7481, 106.7481, 106.7481, 106.7481, 106.7481, 106.7481, 106.7481,\n",
      "        106.7481, 106.7481, 106.7481, 106.7481, 106.7481, 106.7481, 106.7481,\n",
      "        106.7481, 106.7481, 106.7481, 106.7481, 106.7481, 106.7481, 106.7481,\n",
      "        106.7481, 106.7481, 106.7481, 106.7481, 106.7481, 106.7481, 106.7481,\n",
      "        106.7481, 106.7481, 106.7481, 106.7481, 106.7481, 106.7481, 106.7481,\n",
      "        106.7481, 106.7481, 106.7481, 106.7481, 106.7481, 106.7481, 106.7481,\n",
      "        106.7481, 106.7481, 106.7481, 106.7481, 106.7481, 106.7481, 106.7481,\n",
      "        106.7481, 106.7481, 106.7481, 106.7481, 106.7481, 106.7481, 106.7481,\n",
      "        106.7481, 106.7481, 106.7481, 106.7481, 106.7481, 106.7481, 106.7481,\n",
      "        106.7481, 106.7481, 106.7481, 106.7481, 106.7481, 106.7481, 106.7481,\n",
      "        106.7481, 106.7481, 106.7481, 106.7481, 106.7481, 106.7481, 106.7481,\n",
      "        106.7481, 106.7481, 106.7481, 106.7481, 106.7481, 106.7481, 106.7481,\n",
      "        106.7481, 106.7481, 106.7481, 106.7481, 106.7481, 106.7481, 106.7481,\n",
      "        106.7481, 106.7481, 106.7481, 106.7481, 106.7481, 106.7481, 106.7481,\n",
      "        106.7481, 106.7481, 106.7481, 106.7481, 106.7481, 106.7481, 106.7481,\n",
      "        106.7481, 106.7481, 106.7481, 106.7481, 106.7481, 106.7481, 106.7481,\n",
      "        106.7481, 106.7481, 106.7481, 106.7481, 106.7481, 106.7481, 106.7481,\n",
      "        106.7481, 106.7481, 106.7481, 106.7481, 106.7481, 106.7481, 106.7481,\n",
      "        106.7481, 106.7481, 106.7481, 106.7481, 106.7481, 106.7481, 106.7481,\n",
      "        106.7481, 106.7481, 106.7481, 106.7481, 106.7481, 106.7481, 106.7481,\n",
      "        106.7481, 106.7481, 106.7481, 106.7481, 106.7481, 106.7481, 106.7481,\n",
      "        106.7481, 106.7481, 106.7481, 106.7481, 106.7481, 106.7481, 106.7481,\n",
      "        106.7481, 106.7481, 106.7481, 106.7481, 106.7481, 106.7481, 106.7481,\n",
      "        106.7481, 106.7481, 106.7481, 106.7481, 106.7481, 106.7481, 106.7481,\n",
      "        106.7481, 106.7481, 106.7481, 106.7481, 106.7481, 106.7481, 106.7481,\n",
      "        106.7481, 106.7481, 106.7481, 106.7481, 106.7481, 106.7481, 106.7481,\n",
      "        106.7481, 106.7481, 106.7481, 106.7481, 106.7481, 106.7481, 106.7481,\n",
      "        106.7481, 106.7481, 106.7481, 106.7481, 106.7481, 106.7481, 106.7481,\n",
      "        106.7481, 106.7481, 106.7481, 106.7481, 106.7481, 106.7481, 106.7481,\n",
      "        106.7481, 106.7481, 106.7481, 106.7481, 106.7481, 106.7481, 106.7481,\n",
      "        106.7481, 106.7481, 106.7481, 106.7481, 106.7481, 106.7481, 106.7481,\n",
      "        106.7481, 106.7481, 106.7481, 106.7481, 106.7481, 106.7481, 106.7481,\n",
      "        106.7481, 106.7481, 106.7481, 106.7481, 106.7481, 106.7481, 106.7481,\n",
      "        106.7481, 106.7481, 106.7481, 106.7481, 106.7481, 106.7481, 106.7481,\n",
      "        106.7481, 106.7481, 106.7481, 106.7481, 106.7481, 106.7481, 106.7481,\n",
      "        106.7481, 106.7481, 106.7481, 106.7481, 106.7481, 106.7481, 106.7481,\n",
      "        106.7481, 106.7481, 106.7481, 106.7481, 106.7481, 106.7481, 106.7481,\n",
      "        106.7481, 106.7481, 106.7481, 106.7481, 106.7481, 106.7481, 106.7481,\n",
      "        106.7481, 106.7481, 106.7481, 106.7481, 106.7481, 106.7481, 106.7481,\n",
      "        106.7481, 106.7481, 106.7481, 106.7481, 106.7481, 106.7481, 106.7481,\n",
      "        106.7481, 106.7481, 106.7481, 106.7481])\n"
     ]
    },
    {
     "name": "stdout",
     "output_type": "stream",
     "text": [
      "-21.0\n",
      "EPISODE 1\n",
      "tensor([106.7481, 106.7481, 106.7481, 106.7481, 106.7481, 106.7481, 106.7481,\n",
      "        106.7481, 106.7481, 106.7481, 106.7481, 106.7481, 106.7481, 106.7481,\n",
      "        106.7481, 106.7481, 106.7481, 106.7481, 106.7481, 106.7481, 106.7481,\n",
      "        106.7481, 106.7481, 106.7481, 106.7481, 106.7481, 106.7481, 106.7481,\n",
      "        106.7481, 106.7481, 106.7481, 106.7481, 106.7481, 106.7481, 106.7481,\n",
      "        106.7481, 106.7481, 106.7481, 106.7481, 106.7481, 106.7481, 106.7481,\n",
      "        106.7481, 106.7481, 106.7481, 106.7481, 106.7481, 106.7481, 106.7481,\n",
      "        106.7481, 106.7481, 106.7481, 106.7481, 106.7481, 106.7481, 106.7481,\n",
      "        106.7481, 106.7481, 106.7481, 106.7481,  74.3427, 106.7481, 106.7481,\n",
      "        106.7481, 106.7481, 106.7481, 106.7481, 106.7481, 106.7481, 106.7481,\n",
      "        106.7481, 106.7481, 106.7481, 106.7481, 106.7481, 106.7481, 106.7481,\n",
      "        106.7481, 106.7481, 106.7481, 106.7481, 106.7481, 106.7481, 106.7481,\n",
      "        106.7481, 106.7481, 106.7481, 106.7481, 106.7481, 106.7481, 106.7481,\n",
      "        106.7481, 106.7481, 106.7481, 106.7481, 106.7481, 106.7481, 106.7481,\n",
      "        106.7481, 106.7481, 106.7481, 106.7481, 106.7481, 106.7481, 106.7481,\n",
      "        106.7481, 106.7481, 106.7481, 106.7481, 106.7481, 106.7481, 106.7481,\n",
      "        106.7481, 106.7481, 106.7481, 106.7481, 106.7481, 106.7481, 106.7481,\n",
      "        106.7481, 106.7481, 106.7481, 106.7481, 106.7481, 106.7481, 106.7481,\n",
      "        106.7481, 106.7481, 106.7481, 106.7481, 106.7481, 106.7481, 106.7481,\n",
      "        106.7481, 106.7481, 106.7481, 106.7481, 106.7481, 106.7481, 106.7481,\n",
      "        106.7481, 106.7481, 106.7481, 106.7481, 106.7481, 106.7481, 106.7481,\n",
      "        106.7481, 106.7481, 106.7481, 106.7481, 106.7481, 106.7481, 106.7481,\n",
      "        106.7481, 106.7481, 106.7481, 106.7481, 106.7481, 106.7481, 106.7481,\n",
      "        106.7481, 106.7481, 106.7481, 106.7481, 106.7481, 106.7481, 106.7481,\n",
      "        106.7481, 106.7481, 106.7481, 106.7481, 106.7481, 106.7481, 106.7481,\n",
      "        106.7481, 106.7481, 106.7481, 106.7481, 106.7481, 106.7481, 106.7481,\n",
      "        106.7481, 106.7481, 106.7481, 106.7481, 106.7481, 106.7481, 106.7481,\n",
      "        106.7481, 106.7481, 106.7481, 106.7481, 106.7481, 106.7481, 106.7481,\n",
      "        106.7481, 106.7481, 106.7481, 106.7481, 106.7481, 106.7481, 106.7481,\n",
      "        106.7481, 106.7481, 106.7481, 106.7481, 106.7481, 106.7481, 106.7481,\n",
      "        106.7481, 106.7481, 106.7481, 106.7481, 106.7481, 106.7481, 106.7481,\n",
      "        106.7481, 106.7481, 106.7481, 106.7481, 106.7481, 106.7481, 106.7481,\n",
      "        106.7481, 106.7481, 106.7481, 106.7481, 106.7481, 106.7481, 106.7481,\n",
      "        106.7481, 106.7481, 106.7481, 106.7481, 106.7481, 106.7481, 106.7481,\n",
      "        106.7481, 106.7481, 106.7481, 106.7481, 106.7481, 106.7481, 106.7481,\n",
      "        106.7481, 106.7481, 106.7481, 106.7481, 106.7481, 106.7481, 106.7481,\n",
      "        106.7481, 106.7481, 106.7481, 106.7481, 106.7481, 106.7481, 106.7481,\n",
      "        106.7481, 106.7481, 106.7481, 106.7481, 106.7481, 106.7481, 106.7481,\n",
      "        106.7481, 106.7481, 106.7481, 106.7481, 106.7481, 106.7481, 106.7481,\n",
      "        106.7481, 106.7481, 106.7481, 106.7481, 106.7481, 106.7481, 106.7481,\n",
      "        106.7481, 106.7481, 106.7481, 106.7481, 106.7481, 106.7481, 106.7481,\n",
      "        106.7481, 106.7481, 106.7481, 106.7481, 106.7481, 106.7481, 106.7481,\n",
      "        106.7481, 106.7481, 106.7481, 106.7481, 106.7481, 106.7481, 106.7481,\n",
      "        106.7481, 106.7481, 106.7481, 106.7481, 106.7481, 106.7481, 106.7481,\n",
      "        106.7481, 106.7481, 106.7481, 106.7481, 106.7481, 106.7481, 106.7481,\n",
      "        106.7481, 106.7481, 106.7481, 106.7481, 106.7481, 106.7481, 106.7481,\n",
      "        106.7481, 106.7481, 106.7481, 106.7481, 106.7481, 106.7481, 106.7481,\n",
      "        106.7481, 106.7481, 106.7481, 106.7481, 106.7481, 106.7481, 106.7481,\n",
      "        106.7481, 106.7481, 106.7481, 106.7481, 106.7481, 106.7481, 106.7481,\n",
      "        106.7481, 106.7481, 106.7481, 106.7481, 106.7481, 106.7481, 106.7481,\n",
      "        106.7481, 106.7481, 106.7481, 106.7481, 106.7481, 106.7481, 106.7481,\n",
      "        106.7481, 106.7481, 106.7481, 106.7481, 106.7481, 106.7481, 106.7481,\n",
      "        106.7481, 106.7481, 106.7481, 106.7481, 106.7481, 106.7481, 106.7481,\n",
      "        106.7481, 106.7481, 106.7481, 106.7481, 106.7481, 106.7481, 106.7481,\n",
      "        106.7481, 106.7481, 106.7481, 106.7481, 106.7481, 106.7481, 106.7481,\n",
      "        106.7481, 121.3379, 106.7481, 106.7481, 106.7481, 106.7481, 106.7481,\n",
      "        106.7481, 106.7481, 106.7481, 106.7481, 106.7481, 106.7481, 106.7481,\n",
      "        106.7481, 106.7481, 106.7481, 106.7481, 106.7481, 106.7481, 106.7481,\n",
      "        106.7481, 106.7481, 106.7481, 106.7481, 106.7481, 106.7481, 106.7481,\n",
      "        106.7481, 106.7481, 106.7481, 121.3379, 106.7481, 106.7481, 106.7481,\n",
      "        106.7481, 106.7481, 106.7481, 106.7481, 106.7481, 106.7481, 106.7481,\n",
      "        106.7481, 106.7481, 106.7481, 106.7481, 106.7481, 106.7481, 106.7481,\n",
      "        106.7481, 106.7481, 106.7481, 106.7481, 106.7481, 106.7481, 106.7481,\n",
      "        106.7481, 106.7481, 106.7481, 106.7481, 106.7481, 121.3379, 106.7481,\n",
      "        106.7481, 106.7481, 106.7481, 106.7481, 106.7481, 106.7481, 106.7481,\n",
      "        106.7481, 106.7481, 106.7481, 106.7481, 106.7481, 106.7481, 106.7481,\n",
      "        106.7481, 106.7481, 106.7481, 106.7481, 106.7481, 106.7481, 106.7481,\n",
      "        106.7481, 106.7481, 106.7481, 106.7481, 106.7481, 106.7481, 106.7481,\n",
      "        106.7481, 106.7481, 106.7481, 106.7481, 106.7481, 106.7481, 106.7481,\n",
      "        106.7481, 106.7481, 106.7481, 106.7481, 106.7481, 106.7481, 106.7481,\n",
      "        106.7481, 106.7481, 106.7481, 106.7481, 106.7481, 106.7481, 106.7481,\n",
      "        106.7481, 106.7481, 106.7481, 106.7481, 106.7481, 106.7481, 106.7481,\n",
      "        106.7481, 106.7481, 106.7481, 106.7481, 106.7481, 106.7481, 106.7481,\n",
      "        106.7481, 106.7481, 106.7481, 106.7481, 106.7481, 106.7481, 106.7481,\n",
      "        106.7481, 106.7481, 106.7481, 106.7481, 106.7481, 106.7481, 106.7481,\n",
      "        106.7481, 106.7481, 106.7481, 106.7481, 106.7481, 106.7481, 106.7481,\n",
      "        106.7481, 106.7481, 106.7481, 106.7481, 106.7481, 106.7481, 106.7481,\n",
      "        106.7481, 106.7481, 106.7481, 106.7481, 106.7481, 106.7481, 106.7481,\n",
      "        106.7481, 106.7481, 106.7481, 106.7481, 106.7481, 106.7481, 106.7481,\n",
      "        106.7481, 106.7481, 106.7481, 106.7481, 106.7481, 106.7481, 106.7481,\n",
      "        106.7481, 106.7481, 106.7481, 106.7481, 106.7481, 106.7481, 106.7481,\n",
      "        106.7481, 106.7481, 106.7481, 106.7481, 106.7481, 106.7481, 106.7481,\n",
      "        106.7481, 106.7481, 106.7481, 106.7481, 106.7481, 106.7481, 106.7481,\n",
      "        106.7481, 106.7481, 106.7481, 106.7481, 106.7481, 106.7481, 106.7481,\n",
      "        106.7481, 106.7481, 106.7481, 106.7481, 106.7481, 106.7481, 106.7481,\n",
      "        106.7481, 106.7481, 106.7481, 106.7481, 106.7481, 106.7481, 106.7481,\n",
      "        106.7481, 106.7481, 106.7481, 106.7481, 106.7481, 106.7481, 106.7481,\n",
      "        106.7481, 106.7481, 106.7481, 106.7481, 106.7481, 106.7481, 106.7481,\n",
      "        106.7481, 106.7481, 106.7481, 106.7481, 106.7481, 106.7481, 106.7481,\n",
      "        106.7481, 106.7481, 106.7481, 106.7481, 106.7481, 106.7481, 106.7481,\n",
      "        106.7481, 106.7481, 106.7481, 106.7481, 106.7481, 106.7481, 106.7481,\n",
      "        106.7481, 106.7481, 106.7481, 106.7481, 106.7481, 106.7481, 106.7481,\n",
      "        106.7481, 106.7481, 106.7481, 106.7481, 106.7481, 106.7481, 106.7481,\n",
      "        106.7481, 106.7481, 106.7481, 106.7481, 106.7481, 106.7481, 106.7481,\n",
      "        106.7481, 106.7481, 106.7481, 106.7481, 106.7481, 106.7481, 106.7481,\n",
      "        106.7481, 106.7481, 106.7481, 106.7481, 106.7481, 106.7481, 106.7481,\n",
      "        106.7481, 106.7481, 106.7481, 106.7481, 106.7481, 106.7481, 106.7481,\n",
      "        106.7481, 106.7481, 106.7481, 106.7481, 106.7481, 106.7481, 106.7481,\n",
      "        106.7481, 106.7481, 106.7481, 106.7481, 106.7481, 106.7481, 106.7481,\n",
      "        106.7481, 106.7481, 106.7481, 106.7481, 106.7481, 106.7481, 106.7481,\n",
      "        106.7481, 106.7481, 106.7481, 106.7481, 106.7481, 106.7481, 106.7481,\n",
      "        106.7481, 106.7481, 106.7481, 106.7481, 106.7481, 106.7481, 106.7481,\n",
      "        106.7481, 106.7481, 106.7481, 106.7481, 106.7481, 106.7481, 106.7481,\n",
      "        106.7481, 106.7481, 106.7481, 106.7481, 106.7481, 106.7481, 106.7481,\n",
      "        106.7481, 106.7481, 106.7481, 106.7481, 106.7481, 106.7481, 106.7481,\n",
      "        106.7481, 106.7481, 106.7481, 106.7481, 106.7481, 106.7481, 106.7481,\n",
      "        106.7481, 106.7481, 106.7481, 106.7481, 106.7481, 106.7481, 106.7481,\n",
      "        106.7481, 106.7481, 106.7481, 106.7481, 106.7481, 106.7481, 106.7481,\n",
      "        106.7481, 106.7481, 106.7481, 106.7481, 106.7481, 106.7481, 106.7481,\n",
      "        106.7481, 106.7481, 106.7481, 106.7481, 106.7481, 106.7481, 106.7481,\n",
      "        106.7481, 106.7481, 106.7481, 106.7481, 106.7481, 106.7481, 106.7481,\n",
      "        106.7481, 106.7481, 106.7481, 106.7481, 106.7481, 106.7481, 106.7481,\n",
      "        106.7481, 106.7481, 106.7481, 106.7481, 106.7481, 106.7481, 106.7481,\n",
      "        106.7481, 106.7481, 106.7481, 106.7481, 106.7481, 106.7481, 106.7481,\n",
      "        106.7481, 106.7481, 106.7481, 106.7481, 106.7481, 106.7481, 106.7481,\n",
      "        106.7481, 106.7481, 106.7481, 106.7481, 106.7481, 106.7481, 106.7481,\n",
      "        106.7481, 106.7481, 106.7481, 106.7481, 106.7481, 106.7481, 106.7481,\n",
      "        106.7481, 106.7481, 106.7481, 106.7481, 106.7481, 106.7481, 106.7481,\n",
      "        106.7481, 106.7481, 106.7481, 106.7481, 106.7481, 106.7481, 106.7481,\n",
      "        106.7481, 106.7481, 106.7481, 106.7481, 106.7481, 106.7481, 106.7481,\n",
      "        106.7481, 106.7481, 106.7481, 106.7481, 106.7481, 106.7481, 106.7481,\n",
      "        106.7481, 106.7481, 106.7481, 106.7481, 106.7481, 106.7481, 106.7481,\n",
      "        106.7481, 106.7481, 106.7481, 106.7481, 106.7481, 106.7481, 106.7481,\n",
      "        106.7481, 106.7481, 106.7481, 106.7481, 106.7481, 106.7481, 106.7481,\n",
      "        106.7481, 106.7481, 106.7481, 106.7481, 106.7481, 106.7481, 106.7481,\n",
      "        106.7481, 106.7481, 106.7481, 106.7481, 106.7481, 106.7481, 106.7481,\n",
      "        106.7481, 106.7481, 106.7481, 106.7481, 106.7481, 106.7481, 106.7481,\n",
      "        106.7481, 106.7481, 106.7481, 106.7481, 106.7481, 106.7481, 106.7481,\n",
      "        106.7481, 106.7481, 106.7481, 106.7481])\n"
     ]
    },
    {
     "ename": "ValueError",
     "evalue": "Total of weights must be finite",
     "output_type": "error",
     "traceback": [
      "\u001b[1;31m---------------------------------------------------------------------------\u001b[0m",
      "\u001b[1;31mValueError\u001b[0m                                Traceback (most recent call last)",
      "\u001b[1;32m~\\AppData\\Local\\Temp/ipykernel_21436/3811381993.py\u001b[0m in \u001b[0;36m<module>\u001b[1;34m\u001b[0m\n\u001b[0;32m     38\u001b[0m         \u001b[1;31m#print(action_probs)\u001b[0m\u001b[1;33m\u001b[0m\u001b[1;33m\u001b[0m\u001b[0m\n\u001b[0;32m     39\u001b[0m         \u001b[1;31m#print(np.shape(action_probs.detach().numpy()))\u001b[0m\u001b[1;33m\u001b[0m\u001b[1;33m\u001b[0m\u001b[0m\n\u001b[1;32m---> 40\u001b[1;33m         \u001b[0maction\u001b[0m \u001b[1;33m=\u001b[0m \u001b[0mrandom\u001b[0m\u001b[1;33m.\u001b[0m\u001b[0mchoices\u001b[0m\u001b[1;33m(\u001b[0m\u001b[0mavailable_actions\u001b[0m\u001b[1;33m,\u001b[0m \u001b[0mweights\u001b[0m\u001b[1;33m=\u001b[0m\u001b[0maction_probs\u001b[0m\u001b[1;33m.\u001b[0m\u001b[0mtolist\u001b[0m\u001b[1;33m(\u001b[0m\u001b[1;33m)\u001b[0m\u001b[1;33m)\u001b[0m\u001b[1;33m[\u001b[0m\u001b[1;36m0\u001b[0m\u001b[1;33m]\u001b[0m\u001b[1;33m\u001b[0m\u001b[1;33m\u001b[0m\u001b[0m\n\u001b[0m\u001b[0;32m     41\u001b[0m         \u001b[0mactions\u001b[0m\u001b[1;33m.\u001b[0m\u001b[0mappend\u001b[0m\u001b[1;33m(\u001b[0m\u001b[0maction\u001b[0m\u001b[1;33m)\u001b[0m\u001b[1;33m\u001b[0m\u001b[1;33m\u001b[0m\u001b[0m\n\u001b[0;32m     42\u001b[0m         \u001b[1;31m#print(action_probs)\u001b[0m\u001b[1;33m\u001b[0m\u001b[1;33m\u001b[0m\u001b[0m\n",
      "\u001b[1;32m~\\AppData\\Local\\Programs\\Python\\Python310\\lib\\random.py\u001b[0m in \u001b[0;36mchoices\u001b[1;34m(self, population, weights, cum_weights, k)\u001b[0m\n\u001b[0;32m    535\u001b[0m             \u001b[1;32mraise\u001b[0m \u001b[0mValueError\u001b[0m\u001b[1;33m(\u001b[0m\u001b[1;34m'Total of weights must be greater than zero'\u001b[0m\u001b[1;33m)\u001b[0m\u001b[1;33m\u001b[0m\u001b[1;33m\u001b[0m\u001b[0m\n\u001b[0;32m    536\u001b[0m         \u001b[1;32mif\u001b[0m \u001b[1;32mnot\u001b[0m \u001b[0m_isfinite\u001b[0m\u001b[1;33m(\u001b[0m\u001b[0mtotal\u001b[0m\u001b[1;33m)\u001b[0m\u001b[1;33m:\u001b[0m\u001b[1;33m\u001b[0m\u001b[1;33m\u001b[0m\u001b[0m\n\u001b[1;32m--> 537\u001b[1;33m             \u001b[1;32mraise\u001b[0m \u001b[0mValueError\u001b[0m\u001b[1;33m(\u001b[0m\u001b[1;34m'Total of weights must be finite'\u001b[0m\u001b[1;33m)\u001b[0m\u001b[1;33m\u001b[0m\u001b[1;33m\u001b[0m\u001b[0m\n\u001b[0m\u001b[0;32m    538\u001b[0m         \u001b[0mbisect\u001b[0m \u001b[1;33m=\u001b[0m \u001b[0m_bisect\u001b[0m\u001b[1;33m\u001b[0m\u001b[1;33m\u001b[0m\u001b[0m\n\u001b[0;32m    539\u001b[0m         \u001b[0mhi\u001b[0m \u001b[1;33m=\u001b[0m \u001b[0mn\u001b[0m \u001b[1;33m-\u001b[0m \u001b[1;36m1\u001b[0m\u001b[1;33m\u001b[0m\u001b[1;33m\u001b[0m\u001b[0m\n",
      "\u001b[1;31mValueError\u001b[0m: Total of weights must be finite"
     ]
    }
   ],
   "source": [
    "import random\n",
    "import numpy\n",
    "\n",
    "#initialise parameters\n",
    "alpha = 0.001\n",
    "discount_factor = 0.9\n",
    "#initialise policy network pi with parameters theta \n",
    "#DOES IT MATTER WHAT IT ORIGINALLY OUTPUTS - SOME ACTIONS ARE HIGHLY PREFERED BY DEFAULT\n",
    "#YEAH ACTIONS SEEM TO ONLY BE ACTUALLY CHOOSING BETWEEN TWO IDK IF THIS HURTS TRAINING\n",
    "n_network = neural_network(env)\n",
    "network_optimiser = optim.Adam(n_network.network.parameters(), lr=alpha)\n",
    "available_actions = [i for i in range(n_network.n_actions)]\n",
    "print(available_actions)\n",
    "\n",
    "num_episodes = 1000\n",
    "episode_rewards = []\n",
    "\n",
    "for episode in range(num_episodes):\n",
    "    print(\"EPISODE \" + str(episode))\n",
    "    #generate an episode trajectory following policy pi\n",
    "    episode_rewards.append(0)\n",
    "    observation = env.reset()\n",
    "    cur_state = process(observation)\n",
    "    cur_state = process(observation)\n",
    "    cur_state = process(observation)\n",
    "    cur_state = process(observation)\n",
    "    print(cur_state)\n",
    "    done = False\n",
    "    \n",
    "    states = []\n",
    "    rewards = []\n",
    "    actions = []\n",
    "    log_probs = []\n",
    "    \n",
    "    while not done:\n",
    "        #print(n_network.predict(cur_state))\n",
    "        action_probs = n_network.predict(cur_state)\n",
    "        #print(action_probs)\n",
    "        #print(np.shape(action_probs.detach().numpy()))\n",
    "        action = random.choices(available_actions, weights=action_probs.tolist())[0]\n",
    "        actions.append(action)\n",
    "        #print(action_probs)\n",
    "        #print(action)\n",
    "        log_probs.append(torch.log(action_probs.squeeze(0))[action])\n",
    "        #print(action_probs)\n",
    "        #print(log_probs[-1])\n",
    "        #print(observation)\n",
    "        #print(action)\n",
    "        observation, reward, done, info = env.step(action)\n",
    "        states.append(cur_state)\n",
    "        cur_state = process(observation)\n",
    "        rewards.append(reward)\n",
    "        episode_rewards[episode] += reward\n",
    "    \n",
    "    #print(rewards)\n",
    "    discounted_returns = calculate_discounted_return(rewards, discount_factor)\n",
    "   # print(discounted_returns)\n",
    "    \n",
    "    chosen_log_probs = torch.stack(log_probs)\n",
    "    reward_tensor = torch.LongTensor(numpy.array(discounted_returns))\n",
    "    #print(chosen_log_probs)\n",
    "    \n",
    "    log_x_reward = reward_tensor * chosen_log_probs\n",
    "    loss = - log_x_reward.mean()\n",
    "    #print(loss)\n",
    "    \n",
    "    loss.backward()\n",
    "    #n_network.float()\n",
    "    network_optimiser.step()\n",
    "    print(episode_rewards[episode])\n",
    "    '''\n",
    "    states_array = torch.FloatTensor(numpy.array(states))\n",
    "    rewards_array = torch.LongTensor(numpy.array(discounted_returns))\n",
    "    actions_array = torch.LongTensor(numpy.array(actions))\n",
    "    \n",
    "   # print(len(states_array))\n",
    "    #print(len(actions_array))\n",
    "    #print(len(rewards_array))\n",
    "   # print(actions_array)\n",
    "    \n",
    "    #log_prob = n_network.predict(states_array)\n",
    "    print(\"log prob\")\n",
    "    #for prob in log_prob:\n",
    "     #   print(sum(prob))0\n",
    "    log_prob = torch.stack(log_probs)\n",
    "    print(log_prob)\n",
    "    print(rewards_array)\n",
    "    taken_log_probs = log_probs * rewards_array\n",
    "    print(\"torch gather\")\n",
    "    #print(actions_array)\n",
    "    #print(torch.gather(log_prob, 1, actions_array.unsqueeze(1)).squeeze())\n",
    "    print(\"taken log probs\")\n",
    "    print(taken_log_probs)\n",
    "    loss = -taken_log_probs.mean()\n",
    "    print(\"loss\")\n",
    "    print(loss)\n",
    "    \n",
    "    loss.backward()\n",
    "    network_optimiser.step()'''"
   ]
  },
  {
   "cell_type": "code",
   "execution_count": 31,
   "id": "790cc8ce",
   "metadata": {},
   "outputs": [
    {
     "data": {
      "image/png": "[encoded data removed]",
      "text/plain": [
       "<Figure size 432x288 with 1 Axes>"
      ]
     },
     "metadata": {
      "needs_background": "light"
     },
     "output_type": "display_data"
    }
   ],
   "source": [
    "import matplotlib.pyplot as plt\n",
    " \n",
    "plt.plot(episode_rewards)\n",
    " \n",
    "plt.xlabel('Episode number')\n",
    "plt.ylabel('Rewards')\n",
    " \n",
    "# giving a title to my graph\n",
    "plt.title('Reinforce rewards per episode')\n",
    " \n",
    "# function to show the plot\n",
    "plt.show()"
   ]
  },
  {
   "cell_type": "code",
   "execution_count": 29,
   "id": "e46e009a",
   "metadata": {},
   "outputs": [
    {
     "name": "stdout",
     "output_type": "stream",
     "text": [
      "torch.Size([900])\n"
     ]
    },
    {
     "data": {
      "image/png": "[encoded data removed]",
      "text/plain": [
       "<Figure size 432x288 with 1 Axes>"
      ]
     },
     "metadata": {
      "needs_background": "light"
     },
     "output_type": "display_data"
    },
    {
     "name": "stdout",
     "output_type": "stream",
     "text": [
      "torch.Size([900])\n"
     ]
    },
    {
     "data": {
      "image/png": "[encoded data removed]",
      "text/plain": [
       "<Figure size 432x288 with 1 Axes>"
      ]
     },
     "metadata": {
      "needs_background": "light"
     },
     "output_type": "display_data"
    },
    {
     "name": "stdout",
     "output_type": "stream",
     "text": [
      "torch.Size([900])\n"
     ]
    },
    {
     "data": {
      "image/png": "[encoded data removed]",
      "text/plain": [
       "<Figure size 432x288 with 1 Axes>"
      ]
     },
     "metadata": {
      "needs_background": "light"
     },
     "output_type": "display_data"
    },
    {
     "name": "stdout",
     "output_type": "stream",
     "text": [
      "torch.Size([900])\n"
     ]
    },
    {
     "data": {
      "image/png": "[encoded data removed]",
      "text/plain": [
       "<Figure size 432x288 with 1 Axes>"
      ]
     },
     "metadata": {
      "needs_background": "light"
     },
     "output_type": "display_data"
    },
    {
     "name": "stdout",
     "output_type": "stream",
     "text": [
      "torch.Size([900])\n"
     ]
    },
    {
     "data": {
      "image/png": "[encoded data removed]",
      "text/plain": [
       "<Figure size 432x288 with 1 Axes>"
      ]
     },
     "metadata": {
      "needs_background": "light"
     },
     "output_type": "display_data"
    },
    {
     "name": "stdout",
     "output_type": "stream",
     "text": [
      "torch.Size([900])\n"
     ]
    },
    {
     "data": {
      "image/png": "[encoded data removed]",
      "text/plain": [
       "<Figure size 432x288 with 1 Axes>"
      ]
     },
     "metadata": {
      "needs_background": "light"
     },
     "output_type": "display_data"
    },
    {
     "name": "stdout",
     "output_type": "stream",
     "text": [
      "torch.Size([900])\n"
     ]
    },
    {
     "data": {
      "image/png": "[encoded data removed]",
      "text/plain": [
       "<Figure size 432x288 with 1 Axes>"
      ]
     },
     "metadata": {
      "needs_background": "light"
     },
     "output_type": "display_data"
    },
    {
     "name": "stdout",
     "output_type": "stream",
     "text": [
      "torch.Size([900])\n"
     ]
    },
    {
     "data": {
      "image/png": "[encoded data removed]",
      "text/plain": [
       "<Figure size 432x288 with 1 Axes>"
      ]
     },
     "metadata": {
      "needs_background": "light"
     },
     "output_type": "display_data"
    },
    {
     "name": "stdout",
     "output_type": "stream",
     "text": [
      "torch.Size([900])\n"
     ]
    },
    {
     "data": {
      "image/png": "[encoded data removed]",
      "text/plain": [
       "<Figure size 432x288 with 1 Axes>"
      ]
     },
     "metadata": {
      "needs_background": "light"
     },
     "output_type": "display_data"
    },
    {
     "name": "stdout",
     "output_type": "stream",
     "text": [
      "torch.Size([900])\n"
     ]
    },
    {
     "data": {
      "image/png": "[encoded data removed]",
      "text/plain": [
       "<Figure size 432x288 with 1 Axes>"
      ]
     },
     "metadata": {
      "needs_background": "light"
     },
     "output_type": "display_data"
    },
    {
     "name": "stdout",
     "output_type": "stream",
     "text": [
      "torch.Size([900])\n"
     ]
    },
    {
     "data": {
      "image/png": "[encoded data removed]",
      "text/plain": [
       "<Figure size 432x288 with 1 Axes>"
      ]
     },
     "metadata": {
      "needs_background": "light"
     },
     "output_type": "display_data"
    },
    {
     "name": "stdout",
     "output_type": "stream",
     "text": [
      "torch.Size([900])\n"
     ]
    },
    {
     "data": {
      "image/png": "[encoded data removed]",
      "text/plain": [
       "<Figure size 432x288 with 1 Axes>"
      ]
     },
     "metadata": {
      "needs_background": "light"
     },
     "output_type": "display_data"
    },
    {
     "name": "stdout",
     "output_type": "stream",
     "text": [
      "torch.Size([900])\n"
     ]
    },
    {
     "data": {
      "image/png": "[encoded data removed]",
      "text/plain": [
       "<Figure size 432x288 with 1 Axes>"
      ]
     },
     "metadata": {
      "needs_background": "light"
     },
     "output_type": "display_data"
    },
    {
     "name": "stdout",
     "output_type": "stream",
     "text": [
      "torch.Size([900])\n"
     ]
    },
    {
     "data": {
      "image/png": "[encoded data removed]",
      "text/plain": [
       "<Figure size 432x288 with 1 Axes>"
      ]
     },
     "metadata": {
      "needs_background": "light"
     },
     "output_type": "display_data"
    },
    {
     "name": "stdout",
     "output_type": "stream",
     "text": [
      "torch.Size([900])\n"
     ]
    },
    {
     "data": {
      "image/png": "[encoded data removed]",
      "text/plain": [
       "<Figure size 432x288 with 1 Axes>"
      ]
     },
     "metadata": {
      "needs_background": "light"
     },
     "output_type": "display_data"
    },
    {
     "name": "stdout",
     "output_type": "stream",
     "text": [
      "torch.Size([900])\n"
     ]
    },
    {
     "data": {
      "image/png": "[encoded data removed]",
      "text/plain": [
       "<Figure size 432x288 with 1 Axes>"
      ]
     },
     "metadata": {
      "needs_background": "light"
     },
     "output_type": "display_data"
    },
    {
     "name": "stdout",
     "output_type": "stream",
     "text": [
      "torch.Size([900])\n"
     ]
    },
    {
     "data": {
      "image/png": "[encoded data removed]",
      "text/plain": [
       "<Figure size 432x288 with 1 Axes>"
      ]
     },
     "metadata": {
      "needs_background": "light"
     },
     "output_type": "display_data"
    },
    {
     "name": "stdout",
     "output_type": "stream",
     "text": [
      "torch.Size([900])\n"
     ]
    },
    {
     "data": {
      "image/png": "[encoded data removed]",
      "text/plain": [
       "<Figure size 432x288 with 1 Axes>"
      ]
     },
     "metadata": {
      "needs_background": "light"
     },
     "output_type": "display_data"
    },
    {
     "name": "stdout",
     "output_type": "stream",
     "text": [
      "torch.Size([900])\n"
     ]
    },
    {
     "data": {
      "image/png": "[encoded data removed]",
      "text/plain": [
       "<Figure size 432x288 with 1 Axes>"
      ]
     },
     "metadata": {
      "needs_background": "light"
     },
     "output_type": "display_data"
    },
    {
     "name": "stdout",
     "output_type": "stream",
     "text": [
      "torch.Size([900])\n"
     ]
    },
    {
     "data": {
      "image/png": "[encoded data removed]",
      "text/plain": [
       "<Figure size 432x288 with 1 Axes>"
      ]
     },
     "metadata": {
      "needs_background": "light"
     },
     "output_type": "display_data"
    },
    {
     "name": "stdout",
     "output_type": "stream",
     "text": [
      "torch.Size([900])\n"
     ]
    },
    {
     "data": {
      "image/png": "[encoded data removed]",
      "text/plain": [
       "<Figure size 432x288 with 1 Axes>"
      ]
     },
     "metadata": {
      "needs_background": "light"
     },
     "output_type": "display_data"
    },
    {
     "name": "stdout",
     "output_type": "stream",
     "text": [
      "torch.Size([900])\n"
     ]
    },
    {
     "data": {
      "image/png": "[encoded data removed]",
      "text/plain": [
       "<Figure size 432x288 with 1 Axes>"
      ]
     },
     "metadata": {
      "needs_background": "light"
     },
     "output_type": "display_data"
    },
    {
     "name": "stdout",
     "output_type": "stream",
     "text": [
      "torch.Size([900])\n"
     ]
    },
    {
     "data": {
      "image/png": "[encoded data removed]",
      "text/plain": [
       "<Figure size 432x288 with 1 Axes>"
      ]
     },
     "metadata": {
      "needs_background": "light"
     },
     "output_type": "display_data"
    },
    {
     "name": "stdout",
     "output_type": "stream",
     "text": [
      "torch.Size([900])\n"
     ]
    },
    {
     "data": {
      "image/png": "[encoded data removed]",
      "text/plain": [
       "<Figure size 432x288 with 1 Axes>"
      ]
     },
     "metadata": {
      "needs_background": "light"
     },
     "output_type": "display_data"
    },
    {
     "name": "stdout",
     "output_type": "stream",
     "text": [
      "torch.Size([900])\n"
     ]
    },
    {
     "data": {
      "image/png": "[encoded data removed]",
      "text/plain": [
       "<Figure size 432x288 with 1 Axes>"
      ]
     },
     "metadata": {
      "needs_background": "light"
     },
     "output_type": "display_data"
    },
    {
     "name": "stdout",
     "output_type": "stream",
     "text": [
      "torch.Size([900])\n"
     ]
    },
    {
     "data": {
      "image/png": "[encoded data removed]",
      "text/plain": [
       "<Figure size 432x288 with 1 Axes>"
      ]
     },
     "metadata": {
      "needs_background": "light"
     },
     "output_type": "display_data"
    },
    {
     "name": "stdout",
     "output_type": "stream",
     "text": [
      "torch.Size([900])\n"
     ]
    },
    {
     "data": {
      "image/png": "[encoded data removed]",
      "text/plain": [
       "<Figure size 432x288 with 1 Axes>"
      ]
     },
     "metadata": {
      "needs_background": "light"
     },
     "output_type": "display_data"
    },
    {
     "name": "stdout",
     "output_type": "stream",
     "text": [
      "torch.Size([900])\n"
     ]
    },
    {
     "data": {
      "image/png": "[encoded data removed]",
      "text/plain": [
       "<Figure size 432x288 with 1 Axes>"
      ]
     },
     "metadata": {
      "needs_background": "light"
     },
     "output_type": "display_data"
    },
    {
     "name": "stdout",
     "output_type": "stream",
     "text": [
      "torch.Size([900])\n"
     ]
    },
    {
     "data": {
      "image/png": "[encoded data removed]",
      "text/plain": [
       "<Figure size 432x288 with 1 Axes>"
      ]
     },
     "metadata": {
      "needs_background": "light"
     },
     "output_type": "display_data"
    },
    {
     "name": "stdout",
     "output_type": "stream",
     "text": [
      "torch.Size([900])\n"
     ]
    },
    {
     "data": {
      "image/png": "[encoded data removed]",
      "text/plain": [
       "<Figure size 432x288 with 1 Axes>"
      ]
     },
     "metadata": {
      "needs_background": "light"
     },
     "output_type": "display_data"
    },
    {
     "name": "stdout",
     "output_type": "stream",
     "text": [
      "torch.Size([900])\n"
     ]
    },
    {
     "data": {
      "image/png": "[encoded data removed]",
      "text/plain": [
       "<Figure size 432x288 with 1 Axes>"
      ]
     },
     "metadata": {
      "needs_background": "light"
     },
     "output_type": "display_data"
    },
    {
     "name": "stdout",
     "output_type": "stream",
     "text": [
      "torch.Size([900])\n"
     ]
    },
    {
     "data": {
      "image/png": "[encoded data removed]",
      "text/plain": [
       "<Figure size 432x288 with 1 Axes>"
      ]
     },
     "metadata": {
      "needs_background": "light"
     },
     "output_type": "display_data"
    },
    {
     "name": "stdout",
     "output_type": "stream",
     "text": [
      "torch.Size([900])\n"
     ]
    },
    {
     "data": {
      "image/png": "[encoded data removed]",
      "text/plain": [
       "<Figure size 432x288 with 1 Axes>"
      ]
     },
     "metadata": {
      "needs_background": "light"
     },
     "output_type": "display_data"
    },
    {
     "name": "stdout",
     "output_type": "stream",
     "text": [
      "torch.Size([900])\n"
     ]
    },
    {
     "data": {
      "image/png": "[encoded data removed]",
      "text/plain": [
       "<Figure size 432x288 with 1 Axes>"
      ]
     },
     "metadata": {
      "needs_background": "light"
     },
     "output_type": "display_data"
    },
    {
     "name": "stdout",
     "output_type": "stream",
     "text": [
      "torch.Size([900])\n"
     ]
    },
    {
     "data": {
      "image/png": "[encoded data removed]",
      "text/plain": [
       "<Figure size 432x288 with 1 Axes>"
      ]
     },
     "metadata": {
      "needs_background": "light"
     },
     "output_type": "display_data"
    },
    {
     "name": "stdout",
     "output_type": "stream",
     "text": [
      "torch.Size([900])\n"
     ]
    },
    {
     "data": {
      "image/png": "[encoded data removed]",
      "text/plain": [
       "<Figure size 432x288 with 1 Axes>"
      ]
     },
     "metadata": {
      "needs_background": "light"
     },
     "output_type": "display_data"
    },
    {
     "name": "stdout",
     "output_type": "stream",
     "text": [
      "torch.Size([900])\n"
     ]
    },
    {
     "data": {
      "image/png": "[encoded data removed]",
      "text/plain": [
       "<Figure size 432x288 with 1 Axes>"
      ]
     },
     "metadata": {
      "needs_background": "light"
     },
     "output_type": "display_data"
    },
    {
     "name": "stdout",
     "output_type": "stream",
     "text": [
      "torch.Size([900])\n"
     ]
    },
    {
     "data": {
      "image/png": "[encoded data removed]",
      "text/plain": [
       "<Figure size 432x288 with 1 Axes>"
      ]
     },
     "metadata": {
      "needs_background": "light"
     },
     "output_type": "display_data"
    },
    {
     "name": "stdout",
     "output_type": "stream",
     "text": [
      "torch.Size([900])\n"
     ]
    },
    {
     "data": {
      "image/png": "[encoded data removed]",
      "text/plain": [
       "<Figure size 432x288 with 1 Axes>"
      ]
     },
     "metadata": {
      "needs_background": "light"
     },
     "output_type": "display_data"
    },
    {
     "name": "stdout",
     "output_type": "stream",
     "text": [
      "torch.Size([900])\n"
     ]
    },
    {
     "data": {
      "image/png": "[encoded data removed]",
      "text/plain": [
       "<Figure size 432x288 with 1 Axes>"
      ]
     },
     "metadata": {
      "needs_background": "light"
     },
     "output_type": "display_data"
    },
    {
     "name": "stdout",
     "output_type": "stream",
     "text": [
      "torch.Size([900])\n"
     ]
    },
    {
     "data": {
      "image/png": "[encoded data removed]",
      "text/plain": [
       "<Figure size 432x288 with 1 Axes>"
      ]
     },
     "metadata": {
      "needs_background": "light"
     },
     "output_type": "display_data"
    },
    {
     "name": "stdout",
     "output_type": "stream",
     "text": [
      "torch.Size([900])\n"
     ]
    },
    {
     "data": {
      "image/png": "[encoded data removed]",
      "text/plain": [
       "<Figure size 432x288 with 1 Axes>"
      ]
     },
     "metadata": {
      "needs_background": "light"
     },
     "output_type": "display_data"
    },
    {
     "name": "stdout",
     "output_type": "stream",
     "text": [
      "torch.Size([900])\n"
     ]
    },
    {
     "data": {
      "image/png": "[encoded data removed]",
      "text/plain": [
       "<Figure size 432x288 with 1 Axes>"
      ]
     },
     "metadata": {
      "needs_background": "light"
     },
     "output_type": "display_data"
    },
    {
     "name": "stdout",
     "output_type": "stream",
     "text": [
      "torch.Size([900])\n"
     ]
    },
    {
     "data": {
      "image/png": "[encoded data removed]",
      "text/plain": [
       "<Figure size 432x288 with 1 Axes>"
      ]
     },
     "metadata": {
      "needs_background": "light"
     },
     "output_type": "display_data"
    },
    {
     "name": "stdout",
     "output_type": "stream",
     "text": [
      "torch.Size([900])\n"
     ]
    },
    {
     "data": {
      "image/png": "[encoded data removed]",
      "text/plain": [
       "<Figure size 432x288 with 1 Axes>"
      ]
     },
     "metadata": {
      "needs_background": "light"
     },
     "output_type": "display_data"
    },
    {
     "name": "stdout",
     "output_type": "stream",
     "text": [
      "torch.Size([900])\n"
     ]
    },
    {
     "data": {
      "image/png": "[encoded data removed]",
      "text/plain": [
       "<Figure size 432x288 with 1 Axes>"
      ]
     },
     "metadata": {
      "needs_background": "light"
     },
     "output_type": "display_data"
    },
    {
     "name": "stdout",
     "output_type": "stream",
     "text": [
      "torch.Size([900])\n"
     ]
    },
    {
     "data": {
      "image/png": "[encoded data removed]",
      "text/plain": [
       "<Figure size 432x288 with 1 Axes>"
      ]
     },
     "metadata": {
      "needs_background": "light"
     },
     "output_type": "display_data"
    },
    {
     "name": "stdout",
     "output_type": "stream",
     "text": [
      "torch.Size([900])\n"
     ]
    },
    {
     "data": {
      "image/png": "[encoded data removed]",
      "text/plain": [
       "<Figure size 432x288 with 1 Axes>"
      ]
     },
     "metadata": {
      "needs_background": "light"
     },
     "output_type": "display_data"
    },
    {
     "name": "stdout",
     "output_type": "stream",
     "text": [
      "torch.Size([900])\n"
     ]
    },
    {
     "data": {
      "image/png": "[encoded data removed]",
      "text/plain": [
       "<Figure size 432x288 with 1 Axes>"
      ]
     },
     "metadata": {
      "needs_background": "light"
     },
     "output_type": "display_data"
    },
    {
     "name": "stdout",
     "output_type": "stream",
     "text": [
      "torch.Size([900])\n"
     ]
    },
    {
     "data": {
      "image/png": "[encoded data removed]",
      "text/plain": [
       "<Figure size 432x288 with 1 Axes>"
      ]
     },
     "metadata": {
      "needs_background": "light"
     },
     "output_type": "display_data"
    }
   ],
   "source": [
    "for n in range(50):\n",
    "    observation, reward, done, info = env.step(env.action_space.sample()) # take a random action\n",
    "    if n % 2 == 0:\n",
    "        img_pre = process(observation, True)\n",
    "    else:\n",
    "        img_pre = process(observation, False)\n",
    "    imgplot = plt.imshow(img_pre[0], cmap=\"gray\")\n",
    "    plt.show()"
   ]
  },
  {
   "cell_type": "code",
   "execution_count": 14,
   "id": "1e4f0d7b",
   "metadata": {},
   "outputs": [
    {
     "name": "stdout",
     "output_type": "stream",
     "text": [
      "Populating the interactive namespace from numpy and matplotlib\n",
      "torch.Size([400])\n",
      "torch.Size([400])\n",
      "torch.Size([400])\n",
      "torch.Size([400])\n",
      "torch.Size([400])\n",
      "torch.Size([400])\n",
      "torch.Size([400])\n",
      "torch.Size([400])\n",
      "torch.Size([400])\n",
      "torch.Size([400])\n",
      "torch.Size([400])\n",
      "torch.Size([400])\n",
      "torch.Size([400])\n",
      "torch.Size([400])\n",
      "torch.Size([400])\n",
      "torch.Size([400])\n",
      "torch.Size([400])\n",
      "torch.Size([400])\n",
      "torch.Size([400])\n",
      "torch.Size([400])\n",
      "GREY IMAGE PROCESS\n"
     ]
    },
    {
     "data": {
      "image/png": "[encoded data removed]",
      "text/plain": [
       "<Figure size 432x288 with 1 Axes>"
      ]
     },
     "metadata": {
      "needs_background": "light"
     },
     "output_type": "display_data"
    },
    {
     "name": "stdout",
     "output_type": "stream",
     "text": [
      "torch.Size([20, 20])\n",
      "(1, 1, 18, 18)\n",
      "1\n"
     ]
    },
    {
     "data": {
      "image/png": "[encoded data removed]",
      "text/plain": [
       "<Figure size 432x288 with 1 Axes>"
      ]
     },
     "metadata": {
      "needs_background": "light"
     },
     "output_type": "display_data"
    },
    {
     "name": "stdout",
     "output_type": "stream",
     "text": [
      "torch.Size([400])\n"
     ]
    },
    {
     "data": {
      "image/png": "[encoded data removed]",
      "text/plain": [
       "<Figure size 432x288 with 1 Axes>"
      ]
     },
     "metadata": {
      "needs_background": "light"
     },
     "output_type": "display_data"
    },
    {
     "name": "stdout",
     "output_type": "stream",
     "text": [
      "torch.Size([400])\n"
     ]
    },
    {
     "data": {
      "image/png": "[encoded data removed]",
      "text/plain": [
       "<Figure size 432x288 with 1 Axes>"
      ]
     },
     "metadata": {
      "needs_background": "light"
     },
     "output_type": "display_data"
    },
    {
     "name": "stdout",
     "output_type": "stream",
     "text": [
      "torch.Size([400])\n"
     ]
    },
    {
     "data": {
      "image/png": "[encoded data removed]",
      "text/plain": [
       "<Figure size 432x288 with 1 Axes>"
      ]
     },
     "metadata": {
      "needs_background": "light"
     },
     "output_type": "display_data"
    },
    {
     "name": "stdout",
     "output_type": "stream",
     "text": [
      "torch.Size([400])\n"
     ]
    },
    {
     "data": {
      "image/png": "[encoded data removed]",
      "text/plain": [
       "<Figure size 432x288 with 1 Axes>"
      ]
     },
     "metadata": {
      "needs_background": "light"
     },
     "output_type": "display_data"
    },
    {
     "name": "stdout",
     "output_type": "stream",
     "text": [
      "torch.Size([400])\n"
     ]
    },
    {
     "data": {
      "image/png": "[encoded data removed]",
      "text/plain": [
       "<Figure size 432x288 with 1 Axes>"
      ]
     },
     "metadata": {
      "needs_background": "light"
     },
     "output_type": "display_data"
    },
    {
     "name": "stdout",
     "output_type": "stream",
     "text": [
      "torch.Size([400])\n"
     ]
    },
    {
     "data": {
      "image/png": "[encoded data removed]",
      "text/plain": [
       "<Figure size 432x288 with 1 Axes>"
      ]
     },
     "metadata": {
      "needs_background": "light"
     },
     "output_type": "display_data"
    },
    {
     "name": "stdout",
     "output_type": "stream",
     "text": [
      "torch.Size([400])\n"
     ]
    },
    {
     "data": {
      "image/png": "[encoded data removed]",
      "text/plain": [
       "<Figure size 432x288 with 1 Axes>"
      ]
     },
     "metadata": {
      "needs_background": "light"
     },
     "output_type": "display_data"
    },
    {
     "name": "stdout",
     "output_type": "stream",
     "text": [
      "torch.Size([400])\n"
     ]
    },
    {
     "data": {
      "image/png": "[encoded data removed]",
      "text/plain": [
       "<Figure size 432x288 with 1 Axes>"
      ]
     },
     "metadata": {
      "needs_background": "light"
     },
     "output_type": "display_data"
    },
    {
     "name": "stdout",
     "output_type": "stream",
     "text": [
      "torch.Size([400])\n"
     ]
    },
    {
     "data": {
      "image/png": "[encoded data removed]",
      "text/plain": [
       "<Figure size 432x288 with 1 Axes>"
      ]
     },
     "metadata": {
      "needs_background": "light"
     },
     "output_type": "display_data"
    },
    {
     "name": "stdout",
     "output_type": "stream",
     "text": [
      "torch.Size([400])\n"
     ]
    },
    {
     "data": {
      "image/png": "[encoded data removed]",
      "text/plain": [
       "<Figure size 432x288 with 1 Axes>"
      ]
     },
     "metadata": {
      "needs_background": "light"
     },
     "output_type": "display_data"
    },
    {
     "name": "stdout",
     "output_type": "stream",
     "text": [
      "torch.Size([400])\n"
     ]
    },
    {
     "data": {
      "image/png": "[encoded data removed]",
      "text/plain": [
       "<Figure size 432x288 with 1 Axes>"
      ]
     },
     "metadata": {
      "needs_background": "light"
     },
     "output_type": "display_data"
    },
    {
     "name": "stdout",
     "output_type": "stream",
     "text": [
      "torch.Size([400])\n"
     ]
    },
    {
     "data": {
      "image/png": "[encoded data removed]",
      "text/plain": [
       "<Figure size 432x288 with 1 Axes>"
      ]
     },
     "metadata": {
      "needs_background": "light"
     },
     "output_type": "display_data"
    },
    {
     "name": "stdout",
     "output_type": "stream",
     "text": [
      "torch.Size([400])\n"
     ]
    },
    {
     "data": {
      "image/png": "[encoded data removed]",
      "text/plain": [
       "<Figure size 432x288 with 1 Axes>"
      ]
     },
     "metadata": {
      "needs_background": "light"
     },
     "output_type": "display_data"
    },
    {
     "name": "stdout",
     "output_type": "stream",
     "text": [
      "torch.Size([400])\n"
     ]
    },
    {
     "data": {
      "image/png": "[encoded data removed]",
      "text/plain": [
       "<Figure size 432x288 with 1 Axes>"
      ]
     },
     "metadata": {
      "needs_background": "light"
     },
     "output_type": "display_data"
    },
    {
     "name": "stdout",
     "output_type": "stream",
     "text": [
      "torch.Size([400])\n"
     ]
    },
    {
     "data": {
      "image/png": "[encoded data removed]",
      "text/plain": [
       "<Figure size 432x288 with 1 Axes>"
      ]
     },
     "metadata": {
      "needs_background": "light"
     },
     "output_type": "display_data"
    },
    {
     "name": "stdout",
     "output_type": "stream",
     "text": [
      "torch.Size([400])\n"
     ]
    },
    {
     "data": {
      "image/png": "[encoded data removed]",
      "text/plain": [
       "<Figure size 432x288 with 1 Axes>"
      ]
     },
     "metadata": {
      "needs_background": "light"
     },
     "output_type": "display_data"
    },
    {
     "name": "stdout",
     "output_type": "stream",
     "text": [
      "torch.Size([400])\n"
     ]
    },
    {
     "data": {
      "image/png": "[encoded data removed]",
      "text/plain": [
       "<Figure size 432x288 with 1 Axes>"
      ]
     },
     "metadata": {
      "needs_background": "light"
     },
     "output_type": "display_data"
    },
    {
     "name": "stdout",
     "output_type": "stream",
     "text": [
      "torch.Size([400])\n"
     ]
    },
    {
     "data": {
      "image/png": "[encoded data removed]",
      "text/plain": [
       "<Figure size 432x288 with 1 Axes>"
      ]
     },
     "metadata": {
      "needs_background": "light"
     },
     "output_type": "display_data"
    },
    {
     "name": "stdout",
     "output_type": "stream",
     "text": [
      "torch.Size([400])\n"
     ]
    },
    {
     "data": {
      "image/png": "[encoded data removed]",
      "text/plain": [
       "<Figure size 432x288 with 1 Axes>"
      ]
     },
     "metadata": {
      "needs_background": "light"
     },
     "output_type": "display_data"
    },
    {
     "name": "stdout",
     "output_type": "stream",
     "text": [
      "torch.Size([400])\n"
     ]
    },
    {
     "data": {
      "image/png": "[encoded data removed]",
      "text/plain": [
       "<Figure size 432x288 with 1 Axes>"
      ]
     },
     "metadata": {
      "needs_background": "light"
     },
     "output_type": "display_data"
    },
    {
     "name": "stdout",
     "output_type": "stream",
     "text": [
      "torch.Size([400])\n"
     ]
    },
    {
     "data": {
      "image/png": "[encoded data removed]",
      "text/plain": [
       "<Figure size 432x288 with 1 Axes>"
      ]
     },
     "metadata": {
      "needs_background": "light"
     },
     "output_type": "display_data"
    },
    {
     "name": "stdout",
     "output_type": "stream",
     "text": [
      "torch.Size([400])\n"
     ]
    },
    {
     "data": {
      "image/png": "[encoded data removed]",
      "text/plain": [
       "<Figure size 432x288 with 1 Axes>"
      ]
     },
     "metadata": {
      "needs_background": "light"
     },
     "output_type": "display_data"
    },
    {
     "name": "stdout",
     "output_type": "stream",
     "text": [
      "torch.Size([400])\n"
     ]
    },
    {
     "data": {
      "image/png": "[encoded data removed]",
      "text/plain": [
       "<Figure size 432x288 with 1 Axes>"
      ]
     },
     "metadata": {
      "needs_background": "light"
     },
     "output_type": "display_data"
    },
    {
     "name": "stdout",
     "output_type": "stream",
     "text": [
      "torch.Size([400])\n"
     ]
    },
    {
     "data": {
      "image/png": "[encoded data removed]",
      "text/plain": [
       "<Figure size 432x288 with 1 Axes>"
      ]
     },
     "metadata": {
      "needs_background": "light"
     },
     "output_type": "display_data"
    },
    {
     "name": "stdout",
     "output_type": "stream",
     "text": [
      "torch.Size([400])\n"
     ]
    },
    {
     "data": {
      "image/png": "[encoded data removed]",
      "text/plain": [
       "<Figure size 432x288 with 1 Axes>"
      ]
     },
     "metadata": {
      "needs_background": "light"
     },
     "output_type": "display_data"
    },
    {
     "name": "stdout",
     "output_type": "stream",
     "text": [
      "torch.Size([400])\n"
     ]
    },
    {
     "data": {
      "image/png": "[encoded data removed]",
      "text/plain": [
       "<Figure size 432x288 with 1 Axes>"
      ]
     },
     "metadata": {
      "needs_background": "light"
     },
     "output_type": "display_data"
    },
    {
     "name": "stdout",
     "output_type": "stream",
     "text": [
      "torch.Size([400])\n"
     ]
    },
    {
     "data": {
      "image/png": "[encoded data removed]",
      "text/plain": [
       "<Figure size 432x288 with 1 Axes>"
      ]
     },
     "metadata": {
      "needs_background": "light"
     },
     "output_type": "display_data"
    },
    {
     "name": "stdout",
     "output_type": "stream",
     "text": [
      "torch.Size([400])\n"
     ]
    },
    {
     "data": {
      "image/png": "[encoded data removed]",
      "text/plain": [
       "<Figure size 432x288 with 1 Axes>"
      ]
     },
     "metadata": {
      "needs_background": "light"
     },
     "output_type": "display_data"
    },
    {
     "name": "stdout",
     "output_type": "stream",
     "text": [
      "torch.Size([400])\n"
     ]
    },
    {
     "data": {
      "image/png": "[encoded data removed]",
      "text/plain": [
       "<Figure size 432x288 with 1 Axes>"
      ]
     },
     "metadata": {
      "needs_background": "light"
     },
     "output_type": "display_data"
    },
    {
     "name": "stdout",
     "output_type": "stream",
     "text": [
      "torch.Size([400])\n"
     ]
    },
    {
     "data": {
      "image/png": "[encoded data removed]",
      "text/plain": [
       "<Figure size 432x288 with 1 Axes>"
      ]
     },
     "metadata": {
      "needs_background": "light"
     },
     "output_type": "display_data"
    },
    {
     "name": "stdout",
     "output_type": "stream",
     "text": [
      "torch.Size([400])\n"
     ]
    },
    {
     "data": {
      "image/png": "[encoded data removed]",
      "text/plain": [
       "<Figure size 432x288 with 1 Axes>"
      ]
     },
     "metadata": {
      "needs_background": "light"
     },
     "output_type": "display_data"
    },
    {
     "name": "stdout",
     "output_type": "stream",
     "text": [
      "torch.Size([400])\n"
     ]
    },
    {
     "data": {
      "image/png": "[encoded data removed]",
      "text/plain": [
       "<Figure size 432x288 with 1 Axes>"
      ]
     },
     "metadata": {
      "needs_background": "light"
     },
     "output_type": "display_data"
    },
    {
     "name": "stdout",
     "output_type": "stream",
     "text": [
      "torch.Size([400])\n"
     ]
    },
    {
     "data": {
      "image/png": "[encoded data removed]",
      "text/plain": [
       "<Figure size 432x288 with 1 Axes>"
      ]
     },
     "metadata": {
      "needs_background": "light"
     },
     "output_type": "display_data"
    },
    {
     "name": "stdout",
     "output_type": "stream",
     "text": [
      "torch.Size([400])\n"
     ]
    },
    {
     "data": {
      "image/png": "[encoded data removed]",
      "text/plain": [
       "<Figure size 432x288 with 1 Axes>"
      ]
     },
     "metadata": {
      "needs_background": "light"
     },
     "output_type": "display_data"
    },
    {
     "name": "stdout",
     "output_type": "stream",
     "text": [
      "torch.Size([400])\n"
     ]
    },
    {
     "data": {
      "image/png": "[encoded data removed]",
      "text/plain": [
       "<Figure size 432x288 with 1 Axes>"
      ]
     },
     "metadata": {
      "needs_background": "light"
     },
     "output_type": "display_data"
    },
    {
     "name": "stdout",
     "output_type": "stream",
     "text": [
      "torch.Size([400])\n"
     ]
    },
    {
     "data": {
      "image/png": "[encoded data removed]",
      "text/plain": [
       "<Figure size 432x288 with 1 Axes>"
      ]
     },
     "metadata": {
      "needs_background": "light"
     },
     "output_type": "display_data"
    },
    {
     "name": "stdout",
     "output_type": "stream",
     "text": [
      "torch.Size([400])\n"
     ]
    },
    {
     "data": {
      "image/png": "[encoded data removed]",
      "text/plain": [
       "<Figure size 432x288 with 1 Axes>"
      ]
     },
     "metadata": {
      "needs_background": "light"
     },
     "output_type": "display_data"
    },
    {
     "name": "stdout",
     "output_type": "stream",
     "text": [
      "torch.Size([400])\n"
     ]
    },
    {
     "data": {
      "image/png": "[encoded data removed]",
      "text/plain": [
       "<Figure size 432x288 with 1 Axes>"
      ]
     },
     "metadata": {
      "needs_background": "light"
     },
     "output_type": "display_data"
    },
    {
     "name": "stdout",
     "output_type": "stream",
     "text": [
      "torch.Size([400])\n"
     ]
    },
    {
     "data": {
      "image/png": "[encoded data removed]",
      "text/plain": [
       "<Figure size 432x288 with 1 Axes>"
      ]
     },
     "metadata": {
      "needs_background": "light"
     },
     "output_type": "display_data"
    },
    {
     "name": "stdout",
     "output_type": "stream",
     "text": [
      "torch.Size([400])\n"
     ]
    },
    {
     "data": {
      "image/png": "[encoded data removed]",
      "text/plain": [
       "<Figure size 432x288 with 1 Axes>"
      ]
     },
     "metadata": {
      "needs_background": "light"
     },
     "output_type": "display_data"
    },
    {
     "name": "stdout",
     "output_type": "stream",
     "text": [
      "torch.Size([400])\n"
     ]
    },
    {
     "data": {
      "image/png": "[encoded data removed]",
      "text/plain": [
       "<Figure size 432x288 with 1 Axes>"
      ]
     },
     "metadata": {
      "needs_background": "light"
     },
     "output_type": "display_data"
    },
    {
     "name": "stdout",
     "output_type": "stream",
     "text": [
      "torch.Size([400])\n"
     ]
    },
    {
     "data": {
      "image/png": "[encoded data removed]",
      "text/plain": [
       "<Figure size 432x288 with 1 Axes>"
      ]
     },
     "metadata": {
      "needs_background": "light"
     },
     "output_type": "display_data"
    },
    {
     "name": "stdout",
     "output_type": "stream",
     "text": [
      "torch.Size([400])\n"
     ]
    },
    {
     "data": {
      "image/png": "[encoded data removed]",
      "text/plain": [
       "<Figure size 432x288 with 1 Axes>"
      ]
     },
     "metadata": {
      "needs_background": "light"
     },
     "output_type": "display_data"
    },
    {
     "name": "stdout",
     "output_type": "stream",
     "text": [
      "torch.Size([400])\n"
     ]
    },
    {
     "data": {
      "image/png": "[encoded data removed]",
      "text/plain": [
       "<Figure size 432x288 with 1 Axes>"
      ]
     },
     "metadata": {
      "needs_background": "light"
     },
     "output_type": "display_data"
    },
    {
     "name": "stdout",
     "output_type": "stream",
     "text": [
      "torch.Size([400])\n"
     ]
    },
    {
     "data": {
      "image/png": "[encoded data removed]",
      "text/plain": [
       "<Figure size 432x288 with 1 Axes>"
      ]
     },
     "metadata": {
      "needs_background": "light"
     },
     "output_type": "display_data"
    },
    {
     "name": "stdout",
     "output_type": "stream",
     "text": [
      "torch.Size([400])\n"
     ]
    },
    {
     "data": {
      "image/png": "[encoded data removed]",
      "text/plain": [
       "<Figure size 432x288 with 1 Axes>"
      ]
     },
     "metadata": {
      "needs_background": "light"
     },
     "output_type": "display_data"
    },
    {
     "name": "stdout",
     "output_type": "stream",
     "text": [
      "torch.Size([400])\n"
     ]
    },
    {
     "data": {
      "image/png": "[encoded data removed]",
      "text/plain": [
       "<Figure size 432x288 with 1 Axes>"
      ]
     },
     "metadata": {
      "needs_background": "light"
     },
     "output_type": "display_data"
    },
    {
     "name": "stdout",
     "output_type": "stream",
     "text": [
      "torch.Size([400])\n"
     ]
    },
    {
     "data": {
      "image/png": "[encoded data removed]",
      "text/plain": [
       "<Figure size 432x288 with 1 Axes>"
      ]
     },
     "metadata": {
      "needs_background": "light"
     },
     "output_type": "display_data"
    },
    {
     "name": "stdout",
     "output_type": "stream",
     "text": [
      "torch.Size([400])\n"
     ]
    },
    {
     "data": {
      "image/png": "[encoded data removed]",
      "text/plain": [
       "<Figure size 432x288 with 1 Axes>"
      ]
     },
     "metadata": {
      "needs_background": "light"
     },
     "output_type": "display_data"
    },
    {
     "name": "stdout",
     "output_type": "stream",
     "text": [
      "torch.Size([400])\n"
     ]
    },
    {
     "data": {
      "image/png": "[encoded data removed]",
      "text/plain": [
       "<Figure size 432x288 with 1 Axes>"
      ]
     },
     "metadata": {
      "needs_background": "light"
     },
     "output_type": "display_data"
    },
    {
     "data": {
      "image/png": "[encoded data removed]",
      "text/plain": [
       "<Figure size 432x288 with 1 Axes>"
      ]
     },
     "metadata": {
      "needs_background": "light"
     },
     "output_type": "display_data"
    },
    {
     "name": "stdout",
     "output_type": "stream",
     "text": [
      "torch.Size([400])\n",
      "torch.Size([400])\n",
      "torch.Size([400])\n",
      "torch.Size([400])\n",
      "torch.Size([400])\n",
      "torch.Size([400])\n",
      "torch.Size([400])\n",
      "torch.Size([400])\n",
      "torch.Size([400])\n",
      "torch.Size([400])\n"
     ]
    },
    {
     "data": {
      "image/png": "[encoded data removed]",
      "text/plain": [
       "<Figure size 432x288 with 1 Axes>"
      ]
     },
     "metadata": {
      "needs_background": "light"
     },
     "output_type": "display_data"
    },
    {
     "name": "stdout",
     "output_type": "stream",
     "text": [
      "torch.Size([400])\n",
      "torch.Size([400])\n",
      "torch.Size([400])\n",
      "torch.Size([400])\n",
      "torch.Size([400])\n",
      "torch.Size([400])\n",
      "torch.Size([400])\n",
      "torch.Size([400])\n",
      "torch.Size([400])\n",
      "torch.Size([400])\n"
     ]
    },
    {
     "data": {
      "image/png": "[encoded data removed]",
      "text/plain": [
       "<Figure size 432x288 with 1 Axes>"
      ]
     },
     "metadata": {
      "needs_background": "light"
     },
     "output_type": "display_data"
    }
   ],
   "source": [
    "%pylab inline\n",
    "import matplotlib.pyplot as plt\n",
    "import matplotlib.image as mpimg\n",
    "import torch\n",
    "from torch import nn\n",
    "\n",
    "#transposed = observation.transpose(2, 0, 1\n",
    "\n",
    "conv2 = nn.Conv2d(in_channels=1, out_channels=4, kernel_size=8, stride=4)\n",
    "network = nn.Sequential(\n",
    "            nn.Conv2d(in_channels=1, out_channels=1, kernel_size=3, stride=1))\n",
    "            #nn.ReLU())\n",
    "            #nn.MaxPool2d(kernel_size=4, stride=2),\n",
    "            #nn.Conv2d(in_channels=16, out_channels=32, kernel_size=4, stride=2),\n",
    "            #nn.ReLU())\n",
    "            #nn.MaxPool2d(kernel_size=2, stride=1))\n",
    "            #nn.BatchNorm2d(16))\n",
    "\n",
    "networ2k = nn.Sequential(\n",
    "            nn.Conv2d(in_channels=4, out_channels=96, kernel_size=10, stride=3),  # (b x 96 x 55 x 55)\n",
    "            nn.LeakyReLU(),\n",
    "            nn.LocalResponseNorm(size=5, alpha=0.0001, beta=0.75, k=2),  # section 3.3\n",
    "            nn.MaxPool2d(kernel_size=3, stride=2),  # (b x 96 x 27 x 27)\n",
    "            nn.Conv2d(96, 256, 5, padding=2),  # (b x 256 x 27 x 27)\n",
    "            #nn.LeakyReLU(),\n",
    "            #nn.LocalResponseNorm(size=5, alpha=0.0001, beta=0.75, k=2),\n",
    "            #nn.MaxPool2d(kernel_size=3, stride=2),  # (b x 256 x 13 x 13)\n",
    "            #nn.Conv2d(256, 384, 3, padding=1),  # (b x 384 x 13 x 13)\n",
    "            #nn.LeakyReLU(),\n",
    "            #nn.Conv2d(384, 384, 3, padding=1),  # (b x 384 x 13 x 13)\n",
    "            #nn.LeakyReLU(),\n",
    "            #nn.Conv2d(384, 256, 3, padding=1),  # (b x 256 x 13 x 13)\n",
    "            #nn.LeakyReLU(),\n",
    "            #nn.MaxPool2d(kernel_size=3, stride=2),  # (b x 256 x 6 x 6)\n",
    "        )\n",
    "for n in range(10):\n",
    "    observation, reward, done, info = env.step(env.action_space.sample()) # take a random action\n",
    "    img_pre = process(observation)\n",
    "\n",
    "last_space = [0,0]\n",
    "\n",
    "for n in range(10):\n",
    "    observation, reward, done, info = env.step(env.action_space.sample()) # take a random action\n",
    "    img_pre = process(observation)\n",
    "grey_image = img_pre[0]\n",
    "print(\"GREY IMAGE PROCESS\")\n",
    "#print(np.amax(grey_image))\n",
    "imgplot = plt.imshow(grey_image, cmap=\"gray\")\n",
    "plt.show()\n",
    "print(np.shape(grey_image))\n",
    "\n",
    "fc = network(img_pre[None, ...].float())\n",
    "#print(max(fc))\n",
    "fc_numpy = fc.detach().numpy()\n",
    "print(np.shape(fc_numpy))\n",
    "\n",
    "#array = grey_image.detach().numpy()\n",
    "#print(np.shape(array))\n",
    "#result = numpy.where(array == numpy.amax(array))\n",
    "#print('Tuple of arrays returned : ', result)\n",
    "#print('Max value: ', numpy.amax(array))\n",
    "#print('List of coordinates of maximum value in Numpy array : ')\n",
    "# zip the 2 arrays to get the exact coordinates\n",
    "#listOfCordinates = list(zip(result[0], result[1]))\n",
    "# travese over the list of cordinates\n",
    "#for cord in listOfCordinates:\n",
    " #   print(cord)\n",
    "print(\"1\")\n",
    "imgplot = plt.imshow(numpy.squeeze(fc.detach().numpy()), cmap=\"gray\")\n",
    "plt.show()\n",
    "'''\n",
    "print(\"2\")\n",
    "imgplot = plt.imshow(numpy.squeeze(fc.detach().numpy())[1][:][:], cmap=\"gray\")\n",
    "plt.show()\n",
    "print(\"3\")\n",
    "imgplot = plt.imshow(numpy.squeeze(fc.detach().numpy())[2][:][:], cmap=\"gray\")\n",
    "plt.show()\n",
    "print(\"4\")\n",
    "imgplot = plt.imshow(numpy.squeeze(fc.detach().numpy())[3][:][:], cmap=\"gray\")\n",
    "plt.show()\n",
    "\n",
    "print(\"5\")\n",
    "imgplot = plt.imshow(numpy.squeeze(fc.detach().numpy())[4][:][:], cmap=\"gray\")\n",
    "plt.show()\n",
    "print(\"6\")\n",
    "imgplot = plt.imshow(numpy.squeeze(fc.detach().numpy())[5][:][:], cmap=\"gray\")\n",
    "plt.show()\n",
    "print(\"7\")\n",
    "imgplot = plt.imshow(numpy.squeeze(fc.detach().numpy())[6][:][:], cmap=\"gray\")\n",
    "plt.show()\n",
    "print(\"8\")\n",
    "imgplot = plt.imshow(numpy.squeeze(fc.detach().numpy())[7][:][:], cmap=\"gray\")\n",
    "plt.show()'''\n",
    "for n in range(50):\n",
    "    observation, reward, done, info = env.step(env.action_space.sample()) # take a random action\n",
    "    img_pre = process(observation)\n",
    "    imgplot = plt.imshow(img_pre[0], cmap=\"gray\")\n",
    "    plt.show()\n",
    "\n",
    "grey_image = img_pre[0]\n",
    "imgplot = plt.imshow(grey_image, cmap=\"gray\")\n",
    "plt.show()\n",
    "\n",
    "#img_pre = process(observation)\n",
    "#fc = network(img_pre[None, ...].float())\n",
    "#print(np.shape(fc.detach().numpy()))\n",
    "#imgplot = plt.imshow(numpy.squeeze(fc.detach().numpy())[1][:][:], cmap=\"gray\")\n",
    "#plt.show()\n",
    "\n",
    "for n in range(10):\n",
    "    observation, reward, done, info = env.step(env.action_space.sample()) # take a random action\n",
    "    img_pre = process(observation)\n",
    "\n",
    "grey_image = img_pre[0]\n",
    "imgplot = plt.imshow(grey_image, cmap=\"gray\")\n",
    "plt.show()\n",
    "\n",
    "#fc = network(img_pre[None, ...].float())\n",
    "#print(np.shape(fc.detach().numpy()))\n",
    "#imgplot = plt.imshow(numpy.squeeze(fc.detach().numpy())[2][:][:], cmap=\"gray\")\n",
    "#plt.show()\n",
    "\n",
    "for n in range(10):\n",
    "    observation, reward, done, info = env.step(env.action_space.sample()) # take a random action\n",
    "    img_pre = process(observation)\n",
    "    \n",
    "grey_image = img_pre[0]\n",
    "imgplot = plt.imshow(grey_image, cmap=\"gray\")\n",
    "plt.show()\n",
    "\n",
    "#img_pre = process(observation)\n",
    "#fc = network(img_pre[None, ...].float())\n",
    "#print(np.shape(fc.detach().numpy()))\n",
    "#imgplot = plt.imshow(numpy.squeeze(fc.detach().numpy())[3][:][:], cmap=\"gray\")\n",
    "#plt.show()"
   ]
  },
  {
   "cell_type": "code",
   "execution_count": 1,
   "id": "12e61ea6",
   "metadata": {},
   "outputs": [],
   "source": [
    "import numpy as np\n",
    "import matplotlib.pyplot as plt\n",
    "import gym\n",
    "import sys\n",
    "import torch\n",
    "from torch import nn\n",
    "from torch import optim"
   ]
  },
  {
   "cell_type": "code",
   "execution_count": 2,
   "id": "801d6a17",
   "metadata": {},
   "outputs": [],
   "source": [
    "class policy_estimator():\n",
    "    def __init__(self, env):\n",
    "        self.n_inputs = env.observation_space.shape[0]\n",
    "        self.n_outputs = env.action_space.n\n",
    "        \n",
    "        # Define network\n",
    "        self.network = nn.Sequential(\n",
    "            nn.Linear(self.n_inputs, 16), \n",
    "            nn.ReLU(), \n",
    "            nn.Linear(16, self.n_outputs),\n",
    "            nn.Softmax(dim=-1))\n",
    "    \n",
    "    def predict(self, state):\n",
    "        action_probs = self.network(torch.FloatTensor(state))\n",
    "        return action_probs"
   ]
  },
  {
   "cell_type": "code",
   "execution_count": 3,
   "id": "99d1b92f",
   "metadata": {},
   "outputs": [],
   "source": [
    "def discount_rewards(rewards, gamma=0.99):\n",
    "    r = np.array([gamma**i * rewards[i] \n",
    "        for i in range(len(rewards))])\n",
    "    # Reverse the array direction for cumsum and then\n",
    "    # revert back to the original order\n",
    "    r = r[::-1].cumsum()[::-1]\n",
    "    return r - r.mean()"
   ]
  },
  {
   "cell_type": "code",
   "execution_count": 8,
   "id": "8944cfcd",
   "metadata": {},
   "outputs": [],
   "source": [
    "def reinforce(env, policy_estimator, num_episodes=2000,\n",
    "              batch_size=10, gamma=0.99):\n",
    "    print(\"here\")\n",
    "    # Set up lists to hold results\n",
    "    total_rewards = []\n",
    "    batch_rewards = []\n",
    "    batch_actions = []\n",
    "    batch_states = []\n",
    "    batch_counter = 1\n",
    "    \n",
    "    # Define optimizer\n",
    "    optimizer = optim.Adam(policy_estimator.network.parameters(), \n",
    "                           lr=0.01)\n",
    "    \n",
    "    action_space = np.arange(env.action_space.n)\n",
    "    ep = 0\n",
    "    while ep < num_episodes:\n",
    "        print(ep)\n",
    "        s_0 = env.reset()\n",
    "        states = []\n",
    "        rewards = []\n",
    "        actions = []\n",
    "        done = False\n",
    "        while done == False:\n",
    "            # Get actions and convert to numpy array\n",
    "            action_probs = policy_estimator.predict(\n",
    "                s_0).detach().numpy()\n",
    "            print(action_probs)\n",
    "            action = np.random.choice(action_space, \n",
    "                p=action_probs)\n",
    "            s_1, r, done, _ = env.step(action)\n",
    "            \n",
    "            states.append(s_0)\n",
    "            rewards.append(r)\n",
    "            actions.append(action)\n",
    "            s_0 = s_1\n",
    "            \n",
    "            # If done, batch data\n",
    "            if done:\n",
    "                batch_rewards.extend(discount_rewards(\n",
    "                    rewards, gamma))\n",
    "                batch_states.extend(states)\n",
    "                batch_actions.extend(actions)\n",
    "                batch_counter += 1\n",
    "                total_rewards.append(sum(rewards))\n",
    "                \n",
    "                # If batch is complete, update network\n",
    "                if True:\n",
    "                    optimizer.zero_grad()\n",
    "                    state_tensor = torch.FloatTensor(batch_states)\n",
    "                    reward_tensor = torch.FloatTensor(\n",
    "                        batch_rewards)\n",
    "                    # Actions are used as indices, must be \n",
    "                    # LongTensor\n",
    "                    action_tensor = torch.LongTensor(\n",
    "                       batch_actions)\n",
    "                    \n",
    "                    # Calculate loss\n",
    "                    logprob = torch.log(\n",
    "                        policy_estimator.predict(state_tensor))\n",
    "                    print(\"policy estimator\")\n",
    "                    print(policy_estimator.predict(state_tensor))\n",
    "                    selected_logprobs = reward_tensor * torch.gather(logprob, 1, action_tensor.unsqueeze(1)).squeeze()\n",
    "                    loss = -selected_logprobs.mean()\n",
    "                    \n",
    "                    # Calculate gradients\n",
    "                    loss.backward()\n",
    "                    # Apply gradients\n",
    "                    optimizer.step()\n",
    "                    \n",
    "                    batch_rewards = []\n",
    "                    batch_actions = []\n",
    "                    batch_states = []\n",
    "                    batch_counter = 1\n",
    "                    \n",
    "                avg_rewards = np.mean(total_rewards[-100:])\n",
    "                # Print running average\n",
    "              #  print(\"\\rEp: {} Average of last 100:\" +   \n",
    "               #      \"{:.2f}\".format(\n",
    "                #     ep + 1, avg_rewards), end=\"\")\n",
    "                ep += 1\n",
    "                \n",
    "    return total_rewards"
   ]
  },
  {
   "cell_type": "code",
   "execution_count": 9,
   "id": "1da2ebfe",
   "metadata": {},
   "outputs": [
    {
     "name": "stdout",
     "output_type": "stream",
     "text": [
      "here\n",
      "0\n",
      "[9.9088422e-22 2.9804762e-05 2.2092629e-18 9.9997020e-01 5.6669892e-15\n",
      " 2.1604774e-15]\n",
      "[1.03470455e-22 2.97094120e-05 2.38910192e-18 9.99970317e-01\n",
      " 2.27929844e-13 3.43329638e-16]\n",
      "[1.3507067e-22 4.7325766e-06 3.5102299e-18 9.9999523e-01 1.3804515e-13\n",
      " 7.9965323e-17]\n",
      "[1.5914672e-22 6.8528129e-07 4.8611436e-18 9.9999928e-01 8.3105262e-14\n",
      " 1.6273424e-17]\n",
      "[1.5143204e-22 1.1086508e-07 5.7994394e-18 9.9999988e-01 5.2907636e-14\n",
      " 3.4517796e-18]\n",
      "[1.2847803e-22 2.4871568e-08 6.2462191e-18 1.0000000e+00 3.6820763e-14\n",
      " 9.8921185e-19]\n",
      "[1.0636545e-22 1.2984275e-08 6.1712823e-18 1.0000000e+00 3.0990703e-14\n",
      " 6.7777204e-19]\n",
      "[8.7445780e-23 8.6285148e-09 5.9487355e-18 1.0000000e+00 2.7539633e-14\n",
      " 5.9571351e-19]\n",
      "[7.1765946e-23 6.0904961e-09 5.6989961e-18 1.0000000e+00 2.4807484e-14\n",
      " 5.5722665e-19]\n",
      "[5.8897195e-23 4.2990260e-09 5.4597829e-18 1.0000000e+00 2.2346472e-14\n",
      " 5.2122636e-19]\n",
      "[4.8336382e-23 3.0345200e-09 5.2305707e-18 1.0000000e+00 2.0129526e-14\n",
      " 4.8755002e-19]\n",
      "[3.9668918e-23 2.1419406e-09 5.0110006e-18 1.0000000e+00 1.8132588e-14\n",
      " 4.5605124e-19]\n",
      "[3.2555911e-23 1.5119120e-09 4.8006655e-18 1.0000000e+00 1.6333724e-14\n",
      " 4.2658909e-19]\n",
      "[2.6718132e-23 1.0671913e-09 4.5991068e-18 1.0000000e+00 1.4713206e-14\n",
      " 3.9902725e-19]\n",
      "[2.1927323e-23 7.5329143e-10 4.4060611e-18 1.0000000e+00 1.3253642e-14\n",
      " 3.7324902e-19]\n",
      "[2.0065075e-23 1.9363456e-12 1.6206054e-22 1.0000000e+00 1.9997153e-22\n",
      " 3.3972508e-20]\n",
      "[1.1972037e-23 2.3076131e-12 1.3798042e-22 1.0000000e+00 2.7140034e-22\n",
      " 4.7229531e-20]\n",
      "[2.9657960e-25 5.9663151e-14 7.9319560e-23 1.0000000e+00 1.3606631e-22\n",
      " 1.9280583e-22]\n",
      "[5.8855165e-24 3.3084802e-12 9.8362580e-23 1.0000000e+00 4.5260335e-22\n",
      " 7.6352900e-20]\n",
      "[4.6220627e-24 4.1960380e-12 8.3177576e-23 1.0000000e+00 5.8627557e-22\n",
      " 1.1151359e-19]\n",
      "[1.4247698e-25 1.2977507e-13 4.8621360e-23 1.0000000e+00 2.9152348e-22\n",
      " 4.1829916e-22]\n",
      "[1.1158686e-25 1.6814559e-13 4.1302523e-23 1.0000000e+00 3.7582303e-22\n",
      " 5.4150937e-22]\n",
      "[2.0109585e-24 7.7401028e-12 4.9905379e-23 1.0000000e+00 1.2300267e-21\n",
      " 2.5657703e-19]\n",
      "[1.5238049e-24 9.4925474e-12 4.2091605e-23 1.0000000e+00 1.5746390e-21\n",
      " 3.3872625e-19]\n",
      "[5.3605767e-26 3.6573424e-13 2.5317746e-23 1.0000000e+00 8.0519853e-22\n",
      " 1.1748195e-21]\n",
      "[4.1983618e-26 4.7387067e-13 2.1506819e-23 1.0000000e+00 1.0380330e-21\n",
      " 1.5208747e-21]\n",
      "[6.6297675e-25 1.7510124e-11 2.5254566e-23 1.0000000e+00 3.3036475e-21\n",
      " 7.7935830e-19]\n",
      "[5.0236723e-25 2.1474485e-11 2.1300414e-23 1.0000000e+00 4.2292513e-21\n",
      " 1.0288845e-18]\n",
      "[2.0169027e-26 1.0307340e-12 1.3183365e-23 1.0000000e+00 2.2240047e-21\n",
      " 3.2996047e-21]\n",
      "[1.5796225e-26 1.3354828e-12 1.1198911e-23 1.0000000e+00 2.8670851e-21\n",
      " 4.2715045e-21]\n",
      "[1.7121001e-17 4.9762340e-04 6.0397827e-16 9.9950242e-01 6.9940208e-14\n",
      " 1.6045408e-15]\n",
      "[2.0827943e-17 3.3542624e-04 4.6103368e-16 9.9966455e-01 5.9863552e-14\n",
      " 8.2276286e-16]\n",
      "[2.6165736e-17 5.4606419e-02 2.0216569e-14 9.4539362e-01 3.4627383e-12\n",
      " 4.5677208e-12]\n",
      "[3.4694784e-17 3.8890570e-02 1.6076233e-14 9.6110940e-01 3.0396770e-12\n",
      " 2.3735694e-12]\n",
      "[5.48843899e-17 1.02375576e-04 2.28419931e-16 9.99897599e-01\n",
      " 3.56097361e-14 8.81205168e-17]\n",
      "[7.1586579e-17 7.1721493e-05 1.7867304e-16 9.9992824e-01 3.0748614e-14\n",
      " 4.5043118e-17]\n",
      "[9.3942717e-17 1.2196614e-02 8.1843415e-15 9.8780340e-01 1.8579298e-12\n",
      " 2.6121659e-13]\n",
      "[1.2297587e-16 8.5757012e-03 6.4251439e-15 9.9142432e-01 1.6101364e-12\n",
      " 1.3400662e-13]\n",
      "[1.7208283e-16 2.5143472e-05 1.4816200e-16 9.9997485e-01 2.6676437e-14\n",
      " 8.2056275e-18]\n",
      "[2.1846658e-16 1.9332632e-05 1.4845649e-16 9.9998069e-01 2.7642034e-14\n",
      " 5.3424692e-18]\n",
      "[3.2592563e-16 2.6324550e-03 3.2016852e-15 9.9736756e-01 9.6330398e-13\n",
      " 1.4435235e-14]\n",
      "[4.2594958e-16 1.6910606e-03 2.3512684e-15 9.9830890e-01 7.7805460e-13\n",
      " 6.3632393e-15]\n",
      "[5.0959599e-16 7.6770511e-06 1.6857018e-16 9.9999237e-01 3.0232585e-14\n",
      " 1.3187625e-18]\n",
      "[7.8556165e-16 9.4592897e-04 1.9095022e-15 9.9905401e-01 6.9302414e-13\n",
      " 2.0765991e-15]\n",
      "[1.1087769e-15 7.2701386e-04 2.0509385e-15 9.9927300e-01 7.1825288e-13\n",
      " 1.2487590e-15]\n",
      "[1.1133153e-15 3.2616813e-06 1.8016162e-16 9.9999678e-01 3.3349364e-14\n",
      " 3.4420632e-19]\n",
      "[1.5090746e-15 2.3440168e-06 1.9178705e-16 9.9999762e-01 3.4262432e-14\n",
      " 2.1194067e-19]\n",
      "[6.5711350e-16 3.7643480e-05 2.9750594e-11 9.9996233e-01 5.4617965e-14\n",
      " 1.5642110e-13]\n",
      "[5.4067476e-17 1.1796886e-08 3.3696483e-17 1.0000000e+00 3.6733776e-18\n",
      " 2.9724922e-16]\n",
      "[4.2591146e-17 4.1747179e-11 6.0237241e-19 1.0000000e+00 3.8945363e-20\n",
      " 2.6007911e-20]\n",
      "[2.2221013e-17 3.7659723e-11 2.9267607e-19 1.0000000e+00 2.2272746e-20\n",
      " 2.6672041e-20]\n",
      "[1.1509303e-17 8.2288025e-09 9.2489025e-18 1.0000000e+00 9.6694953e-19\n",
      " 3.3613949e-16]\n",
      "[5.9905913e-18 8.6480387e-09 5.9386460e-18 1.0000000e+00 6.7977879e-19\n",
      " 4.4565744e-16]\n",
      "[3.6879095e-18 3.4448534e-11 6.7805617e-20 1.0000000e+00 6.3149456e-21\n",
      " 4.2390415e-20]\n",
      "[1.9116136e-18 3.5704169e-11 4.3309348e-20 1.0000000e+00 4.4226581e-21\n",
      " 5.5762404e-20]\n",
      "[9.9153158e-19 8.5708596e-09 1.6035376e-18 1.0000000e+00 2.1588485e-19\n",
      " 8.1476703e-16]\n",
      "[5.2072157e-19 8.4719760e-09 9.7544457e-19 1.0000000e+00 1.4285838e-19\n",
      " 9.4466324e-16]\n",
      "[2.7221987e-19 2.7512636e-11 1.1309389e-20 1.0000000e+00 1.3596729e-21\n",
      " 1.1121111e-19]\n",
      "[2.0114622e-19 9.6344372e-09 4.3823398e-19 1.0000000e+00 7.0506685e-20\n",
      " 1.7448412e-15]\n",
      "[1.3460346e-19 9.6248129e-09 2.8797923e-19 1.0000000e+00 4.6906702e-20\n",
      " 2.0949958e-15]\n",
      "[3.4674287e-20 2.1564457e-11 2.8867515e-21 1.0000000e+00 4.3255644e-22\n",
      " 2.5148770e-19]\n",
      "[1.8238777e-20 1.8703891e-11 1.8472003e-21 1.0000000e+00 2.8680463e-22\n",
      " 3.0900847e-19]\n",
      "[3.4576279e-20 1.1250078e-08 8.0153407e-20 1.0000000e+00 1.5104623e-20\n",
      " 4.6260704e-15]\n",
      "[2.3137651e-20 1.1238797e-08 5.2671068e-20 1.0000000e+00 1.0048692e-20\n",
      " 5.5543876e-15]\n",
      "[2.7665294e-22 2.5940369e-10 4.7272900e-23 1.0000000e+00 5.8985586e-22\n",
      " 4.1573883e-18]\n",
      "[1.4767959e-20 4.3748938e-10 1.0659616e-22 1.0000000e+00 1.0077180e-19\n",
      " 2.6353574e-19]\n",
      "[1.5283314e-20 2.4732935e-10 1.0744205e-22 1.0000000e+00 8.2947345e-20\n",
      " 1.5731276e-19]\n",
      "[1.4431473e-20 1.6790261e-10 1.3572159e-22 1.0000000e+00 8.5045024e-20\n",
      " 1.3082245e-19]\n",
      "[1.5919193e-20 1.1219081e-10 1.8056415e-22 1.0000000e+00 8.5190168e-20\n",
      " 9.8015138e-20]\n",
      "[1.7315554e-20 7.9223586e-11 2.2228586e-22 1.0000000e+00 8.4119338e-20\n",
      " 7.5677559e-20]\n",
      "[2.0500230e-20 5.3989736e-11 2.9194525e-22 1.0000000e+00 8.2692703e-20\n",
      " 5.4633192e-20]\n",
      "[2.2298421e-20 3.8124944e-11 3.5940440e-22 1.0000000e+00 8.1653893e-20\n",
      " 4.2182327e-20]\n",
      "[2.6399544e-20 2.5981602e-11 4.7203185e-22 1.0000000e+00 8.0268767e-20\n",
      " 3.0452296e-20]\n",
      "[2.8715307e-20 1.8346952e-11 5.8110544e-22 1.0000000e+00 7.9260705e-20\n",
      " 2.3512237e-20]\n",
      "[3.3996361e-20 1.2503137e-11 7.6320503e-22 1.0000000e+00 7.7916472e-20\n",
      " 1.6973906e-20]\n",
      "[3.6978515e-20 8.8291622e-12 9.3955712e-22 1.0000000e+00 7.6937361e-20\n",
      " 1.3105565e-20]\n",
      "[4.3779600e-20 6.0169244e-12 1.2339885e-21 1.0000000e+00 7.5632536e-20\n",
      " 9.4612143e-21]\n",
      "[4.7619754e-20 4.2488617e-12 1.5191177e-21 1.0000000e+00 7.4682131e-20\n",
      " 7.3049548e-21]\n",
      "[5.6377761e-20 2.8955547e-12 1.9951827e-21 1.0000000e+00 7.3415543e-20\n",
      " 5.2736181e-21]\n",
      "[6.1323203e-20 2.0446932e-12 2.4561864e-21 1.0000000e+00 7.2493275e-20\n",
      " 4.0717489e-21]\n",
      "[1.4450755e-20 2.0428981e-10 4.1622674e-22 1.0000000e+00 1.2625303e-19\n",
      " 5.5442995e-19]\n",
      "[8.3934986e-21 1.7020158e-10 2.5301538e-22 1.0000000e+00 8.6981143e-20\n",
      " 5.3587965e-19]\n",
      "[4.1072074e-21 7.8077429e-09 1.2474395e-21 1.0000000e+00 1.0205077e-18\n",
      " 9.1856213e-16]\n",
      "[2.7606482e-21 6.8708990e-09 7.4330190e-22 1.0000000e+00 6.7996030e-19\n",
      " 8.3146146e-16]\n",
      "[2.3423778e-21 1.0861801e-10 5.3286368e-23 1.0000000e+00 2.5889918e-20\n",
      " 4.0188847e-19]\n",
      "[1.5672261e-21 9.4131127e-11 3.1567635e-23 1.0000000e+00 1.7178118e-20\n",
      " 3.6064374e-19]\n",
      "[8.3794497e-22 4.7244031e-09 1.6004299e-22 1.0000000e+00 2.0377053e-19\n",
      " 6.2659855e-16]\n",
      "[5.6148050e-22 4.4416382e-09 1.0862730e-22 1.0000000e+00 1.4952196e-19\n",
      " 6.3855506e-16]\n",
      "[4.6941561e-22 6.1267484e-11 6.5632139e-24 1.0000000e+00 5.0177834e-21\n",
      " 2.6061354e-19]\n",
      "[3.1407418e-22 5.3095958e-11 3.8881455e-24 1.0000000e+00 3.3293424e-21\n",
      " 2.3386748e-19]\n",
      "[1.6892242e-22 3.6908259e-09 3.3965590e-23 1.0000000e+00 5.9072567e-20\n",
      " 6.7579809e-16]\n",
      "[1.1420405e-22 3.2636160e-09 2.1840670e-23 1.0000000e+00 4.0800535e-20\n",
      " 6.0226531e-16]\n",
      "[9.3602221e-23 3.4272633e-11 8.0750736e-25 1.0000000e+00 9.7148829e-22\n",
      " 1.6950297e-19]\n",
      "[5.0820805e-23 3.0669538e-09 1.0620443e-23 1.0000000e+00 2.3338344e-20\n",
      " 7.1522139e-16]\n",
      "[3.4053289e-23 2.8833684e-09 7.2085005e-24 1.0000000e+00 1.7124989e-20\n",
      " 7.2886343e-16]\n",
      "[2.4200514e-23 1.7465527e-11 1.6263191e-25 1.0000000e+00 2.7507130e-22\n",
      " 1.3365534e-19]\n",
      "[1.54171489e-23 1.39505196e-11 9.53288607e-26 1.00000000e+00\n",
      " 1.80625469e-22 1.23477619e-19]\n",
      "[1.0245032e-23 2.3959881e-09 2.2539714e-24 1.0000000e+00 6.7657534e-21\n",
      " 7.7137946e-16]\n",
      "[6.8648206e-24 2.2525490e-09 1.5298449e-24 1.0000000e+00 4.9644541e-21\n",
      " 7.8608961e-16]\n",
      "[3.3449189e-24 2.3208974e-10 4.0629699e-27 1.0000000e+00 3.8798373e-22\n",
      " 5.9727217e-19]\n",
      "[3.8145168e-22 1.5125610e-09 1.0889971e-25 1.0000000e+00 8.8051153e-19\n",
      " 1.8119301e-19]\n",
      "[3.6019361e-22 1.0268326e-09 1.3756239e-25 1.0000000e+00 9.0278254e-19\n",
      " 1.5068259e-19]\n",
      "[3.7019690e-22 6.7272776e-10 1.8538604e-25 1.0000000e+00 9.2148427e-19\n",
      " 1.1716476e-19]\n",
      "[3.7517987e-22 4.6578141e-10 2.3118358e-25 1.0000000e+00 9.2718944e-19\n",
      " 9.3884870e-20]\n",
      "[4.4418120e-22 3.1742273e-10 3.0363017e-25 1.0000000e+00 9.1146463e-19\n",
      " 6.7777170e-20]\n",
      "[4.8314098e-22 2.2414776e-10 3.7378932e-25 1.0000000e+00 9.0000766e-19\n",
      " 5.2330602e-20]\n",
      "[5.7200024e-22 1.5275289e-10 4.9092274e-25 1.0000000e+00 8.8474721e-19\n",
      " 3.7778544e-20]\n",
      "[6.2217598e-22 1.0786775e-10 6.0436611e-25 1.0000000e+00 8.7363270e-19\n",
      " 2.9169064e-20]\n",
      "[7.3660651e-22 7.3510045e-11 7.9375174e-25 1.0000000e+00 8.5881624e-19\n",
      " 2.1057669e-20]\n",
      "[8.0122146e-22 5.1909341e-11 9.7716595e-25 1.0000000e+00 8.4802427e-19\n",
      " 1.6258518e-20]\n",
      "[9.4857835e-22 3.5375335e-11 1.2833829e-24 1.0000000e+00 8.3364208e-19\n",
      " 1.1737450e-20]\n",
      "[3.5731049e-20 7.6140890e-12 2.3815270e-20 1.0000000e+00 1.2849972e-20\n",
      " 1.0938967e-19]\n",
      "[4.23023784e-20 5.18885282e-12 3.12783227e-20 1.00000000e+00\n",
      " 1.26320415e-20 7.89703709e-20]\n",
      "[4.6013308e-20 3.6641593e-12 3.8506030e-20 1.0000000e+00 1.2473354e-20\n",
      " 6.0973312e-20]\n",
      "[5.4475860e-20 2.4970529e-12 5.0572566e-20 1.0000000e+00 1.2261810e-20\n",
      " 4.4017728e-20]\n",
      "[6.7992107e-20 1.3541032e-10 4.1696456e-20 1.0000000e+00 2.3311383e-20\n",
      " 1.8820772e-18]\n",
      "[3.9440382e-20 1.1602844e-10 2.6787772e-20 1.0000000e+00 1.6731864e-20\n",
      " 1.9130361e-18]\n",
      "[2.1550953e-20 2.1899444e-08 9.5002841e-19 1.0000000e+00 8.4371657e-19\n",
      " 2.2111502e-14]\n",
      "[1.4440504e-20 2.0588601e-08 6.4481562e-19 1.0000000e+00 6.1909201e-19\n",
      " 2.2533340e-14]\n",
      "[1.0914578e-20 8.8587207e-11 8.0318034e-21 1.0000000e+00 6.4696837e-21\n",
      " 1.9787229e-18]\n",
      "[7.2801684e-21 8.2018579e-11 5.4199943e-21 1.0000000e+00 4.7274390e-21\n",
      " 1.9991016e-18]\n",
      "[4.3444681e-21 1.7108215e-08 2.0162252e-19 1.0000000e+00 2.4458947e-19\n",
      " 2.3847616e-14]\n",
      "[2.9110911e-21 1.6084286e-08 1.3684837e-19 1.0000000e+00 1.7947324e-19\n",
      " 2.4302575e-14]\n",
      "[2.1603869e-21 6.5092508e-11 1.6655184e-21 1.0000000e+00 1.8443767e-21\n",
      " 2.0614981e-18]\n",
      "[1.4410067e-21 6.0266445e-11 1.1239109e-21 1.0000000e+00 1.3476978e-21\n",
      " 2.0827213e-18]\n",
      "[8.7580696e-22 1.3365406e-08 4.2789759e-20 1.0000000e+00 7.0905605e-20\n",
      " 2.5720044e-14]\n",
      "[5.9211481e-22 1.1818439e-08 2.7515029e-20 1.0000000e+00 4.8973997e-20\n",
      " 2.2921609e-14]\n",
      "[4.2761815e-22 4.7829699e-11 3.4536696e-22 1.0000000e+00 5.2578869e-22\n",
      " 2.1477277e-18]\n",
      "[2.8104819e-22 1.1225407e-08 1.3446687e-20 1.0000000e+00 2.7905607e-20\n",
      " 2.7449380e-14]\n",
      "[2.0312993e-22 1.0686524e-08 9.1803792e-21 1.0000000e+00 2.0383806e-20\n",
      " 2.8249181e-14]\n",
      "[1.1960130e-22 3.4399487e-11 1.0477754e-22 1.0000000e+00 2.0257587e-22\n",
      " 2.2938969e-18]\n",
      "[7.5957694e-23 2.9354439e-11 6.9960028e-23 1.0000000e+00 1.4649441e-22\n",
      " 2.3859123e-18]\n",
      "[7.6190143e-23 9.0189394e-09 2.8971767e-21 1.0000000e+00 7.8967621e-21\n",
      " 3.0410248e-14]\n",
      "[5.4815982e-23 8.4553964e-09 1.9665444e-21 1.0000000e+00 5.7441235e-21\n",
      " 3.1026603e-14]\n",
      "[1.6336704e-23 5.8836730e-10 4.3040310e-24 1.0000000e+00 4.1298292e-22\n",
      " 1.6118423e-17]\n",
      "[1.6446835e-21 1.0976455e-09 1.1396594e-23 1.0000000e+00 1.7695990e-19\n",
      " 7.2606228e-19]\n",
      "[1.7063880e-21 5.8802846e-10 1.0331216e-23 1.0000000e+00 1.3465686e-19\n",
      " 3.9353384e-19]\n",
      "[1.6112796e-21 3.9919273e-10 1.3050419e-23 1.0000000e+00 1.3806119e-19\n",
      " 3.2726566e-19]\n",
      "[1.7773773e-21 2.6673397e-10 1.7362423e-23 1.0000000e+00 1.3829733e-19\n",
      " 2.4519575e-19]\n",
      "[1.9332810e-21 1.8835501e-10 2.1374240e-23 1.0000000e+00 1.3655895e-19\n",
      " 1.8931582e-19]\n",
      "[2.2888586e-21 1.2836222e-10 2.8072445e-23 1.0000000e+00 1.3424348e-19\n",
      " 1.3667101e-19]\n",
      "[2.4896272e-21 9.0643028e-11 3.4558952e-23 1.0000000e+00 1.3255656e-19\n",
      " 1.0552378e-19]\n",
      "[2.9475194e-21 6.1771921e-11 4.5388778e-23 1.0000000e+00 1.3030894e-19\n",
      " 7.6180090e-20]\n",
      "[3.2060628e-21 4.3620101e-11 5.5876873e-23 1.0000000e+00 1.2867147e-19\n",
      " 5.8818254e-20]\n",
      "[3.7957069e-21 2.9726471e-11 7.3387156e-23 1.0000000e+00 1.2648925e-19\n",
      " 4.2461950e-20]\n",
      "[4.1286656e-21 2.0991439e-11 9.0344219e-23 1.0000000e+00 1.2490025e-19\n",
      " 3.2785026e-20]\n",
      "[4.8879718e-21 1.4305364e-11 1.1865561e-22 1.0000000e+00 1.2278199e-19\n",
      " 2.3668099e-20]\n",
      "[5.3167846e-21 1.0101777e-11 1.4607366e-22 1.0000000e+00 1.2123955e-19\n",
      " 1.8274226e-20]\n",
      "[6.2945989e-21 6.8842159e-12 1.9184840e-22 1.0000000e+00 1.1918292e-19\n",
      " 1.3192541e-20]\n",
      "[6.8467597e-21 4.8612915e-12 2.3617839e-22 1.0000000e+00 1.1768571e-19\n",
      " 1.0185971e-20]\n",
      "[9.3651604e-21 2.1979976e-10 1.5574392e-22 1.0000000e+00 1.7993665e-19\n",
      " 3.1329329e-19]\n",
      "[5.4396302e-21 1.8312316e-10 9.4673425e-23 1.0000000e+00 1.2396609e-19\n",
      " 3.0281100e-19]\n",
      "[2.5445869e-21 7.2247976e-09 4.4088600e-22 1.0000000e+00 1.3956671e-18\n",
      " 4.7668558e-16]\n",
      "[1.7103242e-21 6.3578400e-09 2.6270525e-22 1.0000000e+00 9.2992048e-19\n",
      " 4.3147996e-16]\n",
      "[1.5180402e-21 1.1686510e-10 1.9938873e-23 1.0000000e+00 3.6898621e-20\n",
      " 2.2709797e-19]\n",
      "[1.0156865e-21 1.0127788e-10 1.1811994e-23 1.0000000e+00 2.4482363e-20\n",
      " 2.0379073e-19]\n",
      "[5.1935987e-22 4.3328181e-09 5.5577138e-23 1.0000000e+00 2.7507173e-19\n",
      " 3.2000471e-16]\n",
      "[3.4908365e-22 3.8128838e-09 3.3116059e-23 1.0000000e+00 1.8327851e-19\n",
      " 2.8965763e-16]\n",
      "[3.0421960e-22 6.5919492e-11 2.4558360e-24 1.0000000e+00 7.1514045e-21\n",
      " 1.4726674e-19]\n",
      "[2.0354569e-22 5.7127511e-11 1.4548738e-24 1.0000000e+00 4.7450186e-21\n",
      " 1.3215265e-19]\n",
      "[1.0600252e-22 2.5984206e-09 7.0059337e-24 1.0000000e+00 5.4213411e-20\n",
      " 2.1482051e-16]\n",
      "[7.1843185e-23 2.1798958e-09 4.0613802e-24 1.0000000e+00 3.4677062e-20\n",
      " 1.7421001e-16]\n",
      "[5.31359540e-23 2.95835405e-11 2.93622361e-25 1.00000000e+00\n",
      " 1.34626421e-21 1.03608766e-19]\n",
      "[3.2137124e-23 1.8323855e-09 1.5854436e-24 1.0000000e+00 1.6856918e-20\n",
      " 1.6939271e-16]\n",
      "[2.1534074e-23 1.7227036e-09 1.0761135e-24 1.0000000e+00 1.2369158e-20\n",
      " 1.7262631e-16]\n",
      "[1.3738109e-23 1.5075968e-11 5.9135516e-26 1.0000000e+00 3.8118842e-22\n",
      " 8.1697508e-20]\n",
      "[8.7519487e-24 1.2041914e-11 3.4663072e-26 1.0000000e+00 2.5030817e-22\n",
      " 7.5475746e-20]\n",
      "[6.4785896e-24 1.4315096e-09 3.3647920e-25 1.0000000e+00 4.8867973e-21\n",
      " 1.8269454e-16]\n",
      "[4.3410984e-24 1.3458180e-09 2.2838041e-25 1.0000000e+00 3.5857880e-21\n",
      " 1.8617993e-16]\n",
      "[1.9294911e-24 1.4231674e-10 7.5320982e-28 1.0000000e+00 3.2642978e-22\n",
      " 1.9774918e-19]\n",
      "[2.47210858e-22 1.62740599e-09 4.07486162e-26 1.00000000e+00\n",
      " 1.25492036e-18 1.02388016e-19]\n",
      "[2.3343217e-22 1.1047890e-09 5.1473559e-26 1.0000000e+00 1.2866515e-18\n",
      " 8.5147284e-20]\n",
      "[2.3991595e-22 7.2380490e-10 6.9368897e-26 1.0000000e+00 1.3133204e-18\n",
      " 6.6207368e-20]\n",
      "[2.4314531e-22 5.0114224e-10 8.6505051e-26 1.0000000e+00 1.3214364e-18\n",
      " 5.3052188e-20]\n",
      "[2.8786456e-22 3.4152126e-10 1.1361335e-25 1.0000000e+00 1.2990253e-18\n",
      " 3.8299325e-20]\n",
      "[1.0606370e-20 1.1781066e-10 5.3395486e-21 1.0000000e+00 3.9854935e-20\n",
      " 8.3158711e-19]\n",
      "[1.26770324e-20 6.55235033e-11 4.69949740e-21 1.00000000e+00\n",
      " 2.91260343e-20 4.17036341e-19]\n"
     ]
    },
    {
     "name": "stdout",
     "output_type": "stream",
     "text": [
      "[1.3905108e-20 3.8683834e-11 4.0655713e-21 1.0000000e+00 2.2146257e-20\n",
      " 2.3356168e-19]\n",
      "[1.6531760e-20 2.4107048e-11 4.4770274e-21 1.0000000e+00 1.9107003e-20\n",
      " 1.4363103e-19]\n",
      "[1.7981921e-20 1.7023364e-11 5.5115666e-21 1.0000000e+00 1.8866975e-20\n",
      " 1.1089805e-19]\n",
      "[2.1288831e-20 1.1601023e-11 7.2386293e-21 1.0000000e+00 1.8546856e-20\n",
      " 8.0058372e-20]\n",
      "[2.3156370e-20 8.1921293e-12 8.9113121e-21 1.0000000e+00 1.8313795e-20\n",
      " 6.1813365e-20]\n",
      "[2.7415182e-20 5.5828077e-12 1.1703828e-20 1.0000000e+00 1.8003198e-20\n",
      " 4.4624345e-20]\n",
      "[2.9820036e-20 3.9423317e-12 1.4408205e-20 1.0000000e+00 1.7777037e-20\n",
      " 3.4454489e-20]\n",
      "[3.5304534e-20 2.6866374e-12 1.8923412e-20 1.0000000e+00 1.7475611e-20\n",
      " 2.4873408e-20]\n",
      "[4.43666852e-20 1.25870828e-10 1.16967305e-20 1.00000000e+00\n",
      " 2.68389154e-20 8.18223074e-19]\n",
      "[2.5769805e-20 1.0486775e-10 7.1102208e-21 1.0000000e+00 1.8490484e-20\n",
      " 7.9084060e-19]\n",
      "[1.3628048e-20 1.3084065e-08 1.4182345e-19 1.0000000e+00 6.0940324e-19\n",
      " 5.2369675e-15]\n",
      "[9.1316555e-21 1.2300887e-08 9.6259887e-20 1.0000000e+00 4.4716216e-19\n",
      " 5.3368158e-15]\n",
      "[7.1915648e-21 6.6923737e-11 1.4974442e-21 1.0000000e+00 5.5036668e-21\n",
      " 5.9310137e-19]\n",
      "[4.8117322e-21 5.7998370e-11 8.8711152e-22 1.0000000e+00 3.6517443e-21\n",
      " 5.3223298e-19]\n",
      "[2.7472958e-21 1.0221610e-08 3.0098892e-20 1.0000000e+00 1.7666448e-19\n",
      " 5.6481444e-15]\n",
      "[1.8408763e-21 9.6098258e-09 2.0429422e-20 1.0000000e+00 1.2963268e-19\n",
      " 5.7559421e-15]\n",
      "[1.4290728e-21 4.5219602e-11 2.6323089e-22 1.0000000e+00 1.3882577e-21\n",
      " 5.3165059e-19]\n",
      "[9.5320328e-22 4.1866389e-11 1.7763190e-22 1.0000000e+00 1.0144048e-21\n",
      " 5.3712399e-19]\n",
      "[5.5383089e-22 7.9854310e-09 6.3878490e-21 1.0000000e+00 5.1214787e-20\n",
      " 6.0916738e-15]\n",
      "[3.7442923e-22 7.0610842e-09 4.1075208e-21 1.0000000e+00 3.5373151e-20\n",
      " 5.4288053e-15]\n",
      "[2.7054135e-22 3.0854212e-11 5.4061540e-23 1.0000000e+00 3.9204686e-22\n",
      " 5.6872224e-19]\n",
      "[1.6662102e-22 6.6355272e-09 1.9973530e-21 1.0000000e+00 2.0233744e-20\n",
      " 6.4469393e-15]\n",
      "[1.1164750e-22 6.2383774e-09 1.3556901e-21 1.0000000e+00 1.4847096e-20\n",
      " 6.5699823e-15]\n",
      "[6.9300238e-23 1.9172145e-11 1.6092325e-23 1.0000000e+00 1.4826196e-22\n",
      " 6.3993184e-19]\n",
      "[4.4012118e-23 1.6360345e-11 1.0744814e-23 1.0000000e+00 1.0721686e-22\n",
      " 6.6560153e-19]\n",
      "[3.8560064e-23 5.3036295e-09 4.2845416e-22 1.0000000e+00 5.8175560e-21\n",
      " 7.0789034e-15]\n",
      "[2.7869503e-23 5.0489768e-09 2.9251490e-22 1.0000000e+00 4.2494498e-21\n",
      " 7.2851356e-15]\n",
      "[9.4659293e-24 3.2792075e-10 6.6103477e-25 1.0000000e+00 3.0225656e-22\n",
      " 4.4965807e-18]\n",
      "[1.0759837e-21 9.6569319e-10 2.8684921e-24 1.0000000e+00 1.8801747e-19\n",
      " 2.8599224e-19]\n",
      "[1.1058701e-21 6.3267236e-10 3.8657691e-24 1.0000000e+00 1.9191457e-19\n",
      " 2.2237526e-19]\n",
      "[1.0442326e-21 4.2949916e-10 4.8832494e-24 1.0000000e+00 1.9676570e-19\n",
      " 1.8492962e-19]\n",
      "[1.1518767e-21 2.8698477e-10 6.4967054e-24 1.0000000e+00 1.9710226e-19\n",
      " 1.3855397e-19]\n",
      "[1.25291428e-21 2.02655170e-10 7.99785445e-24 1.00000000e+00\n",
      " 1.94624716e-19 1.06977614e-19]\n",
      "[1.4833445e-21 1.3810607e-10 1.0504162e-23 1.0000000e+00 1.9132394e-19\n",
      " 7.7229647e-20]\n",
      "[1.61345698e-21 9.75242109e-11 1.29312864e-23 1.00000000e+00\n",
      " 1.88920465e-19 5.96288396e-20]\n",
      "[1.9102111e-21 6.6461225e-11 1.6983726e-23 1.0000000e+00 1.8571645e-19\n",
      " 4.3047293e-20]\n",
      "[2.0777903e-21 4.6932333e-11 2.0908197e-23 1.0000000e+00 1.8338482e-19\n",
      " 3.3237099e-20]\n",
      "[2.4598996e-21 3.1983284e-11 2.7460043e-23 1.0000000e+00 1.8027261e-19\n",
      " 2.3994366e-20]\n",
      "[2.6756916e-21 2.2585224e-11 3.3805302e-23 1.0000000e+00 1.7800865e-19\n",
      " 1.8526067e-20]\n",
      "[3.1677926e-21 1.5391447e-11 4.4398786e-23 1.0000000e+00 1.7498968e-19\n",
      " 1.3374249e-20]\n",
      "[3.4456572e-21 1.0868676e-11 5.4657913e-23 1.0000000e+00 1.7279074e-19\n",
      " 1.0326306e-20]\n",
      "[4.0793822e-21 7.4068607e-12 7.1786481e-23 1.0000000e+00 1.6986027e-19\n",
      " 7.4548029e-21]\n",
      "[4.4371911e-21 5.2303275e-12 8.8373683e-23 1.0000000e+00 1.6772515e-19\n",
      " 5.7558147e-21]\n",
      "[6.0693646e-21 2.3648725e-10 5.8276563e-23 1.0000000e+00 2.5644786e-19\n",
      " 1.7703485e-19]\n",
      "[3.5253242e-21 1.9702799e-10 3.5425490e-23 1.0000000e+00 1.7667863e-19\n",
      " 1.7111220e-19]\n",
      "[1.5764842e-21 6.6854149e-09 1.5582237e-22 1.0000000e+00 1.9087499e-18\n",
      " 2.4737388e-16]\n",
      "[1.0596254e-21 5.8831819e-09 9.2848297e-23 1.0000000e+00 1.2717877e-18\n",
      " 2.2391634e-16]\n",
      "[9.8381391e-22 1.2573766e-10 7.4608224e-24 1.0000000e+00 5.2588353e-20\n",
      " 1.2832833e-19]\n",
      "[6.5824518e-22 1.0896828e-10 4.4198685e-24 1.0000000e+00 3.4892824e-20\n",
      " 1.1515835e-19]\n",
      "[3.2176642e-22 4.0093120e-09 1.9642782e-23 1.0000000e+00 3.7619510e-19\n",
      " 1.6606503e-16]\n",
      "[2.1627193e-22 3.5282113e-09 1.1704301e-23 1.0000000e+00 2.5065542e-19\n",
      " 1.5031654e-16]\n",
      "[1.8313776e-22 6.2734998e-11 9.0438603e-25 1.0000000e+00 1.0034213e-20\n",
      " 8.6938020e-20]\n",
      "[1.1666951e-22 5.0109895e-11 5.3012602e-25 1.0000000e+00 6.5890372e-21\n",
      " 8.0318074e-20]\n",
      "[6.5672992e-23 2.4044209e-09 2.4761172e-24 1.0000000e+00 7.4143643e-20\n",
      " 1.1148015e-16]\n",
      "[4.4509520e-23 2.0171278e-09 1.4354139e-24 1.0000000e+00 4.7424694e-20\n",
      " 9.0405170e-17]\n",
      "[3.0164249e-23 2.5536287e-11 1.0676570e-25 1.0000000e+00 1.8656408e-21\n",
      " 6.3331630e-20]\n",
      "[1.9942371e-23 1.6385845e-09 5.2384195e-25 1.0000000e+00 2.1931705e-20\n",
      " 8.2678006e-17]\n",
      "[1.3404159e-23 1.4419586e-09 3.1213759e-25 1.0000000e+00 1.4613066e-20\n",
      " 7.4837670e-17]\n",
      "[7.7988872e-24 1.3013462e-11 2.1502603e-26 1.0000000e+00 5.2824746e-22\n",
      " 4.9938018e-20]\n",
      "[4.96831106e-24 1.03944492e-11 1.26040374e-26 1.00000000e+00\n",
      " 3.46872162e-22 4.61351101e-20]\n",
      "[4.0702829e-24 9.8267594e-10 6.6034893e-26 1.0000000e+00 4.3225316e-21\n",
      " 5.5502304e-17]\n",
      "[2.7358085e-24 8.6475893e-10 3.9347091e-26 1.0000000e+00 2.8800749e-21\n",
      " 5.0239225e-17]\n",
      "[3.1925630e-22 1.1445384e-09 8.1326162e-22 1.0000000e+00 2.8662745e-22\n",
      " 1.5594534e-16]\n",
      "[5.2763347e-21 1.5603814e-09 1.9026186e-21 1.0000000e+00 1.3361763e-19\n",
      " 4.7812748e-18]\n",
      "[5.0331775e-21 8.5257085e-10 1.5670288e-21 1.0000000e+00 9.9796678e-20\n",
      " 2.6940596e-18]\n",
      "[5.2317203e-21 4.3885162e-10 1.3130429e-21 1.0000000e+00 7.1639683e-20\n",
      " 1.3592808e-18]\n",
      "[5.3515593e-21 2.4924873e-10 1.1083577e-21 1.0000000e+00 5.3987222e-20\n",
      " 7.6358474e-19]\n",
      "[6.3963344e-21 1.3862650e-10 9.7549888e-22 1.0000000e+00 3.9453772e-20\n",
      " 3.8293210e-19]\n",
      "[7.0160272e-21 8.1842776e-11 8.4390840e-22 1.0000000e+00 2.9998936e-20\n",
      " 2.1446319e-19]\n",
      "[8.3196703e-21 5.3897650e-11 1.0361024e-21 1.0000000e+00 2.8053540e-20\n",
      " 1.4560990e-19]\n",
      "[9.0494698e-21 3.8060208e-11 1.2755075e-21 1.0000000e+00 2.7701122e-20\n",
      " 1.1242508e-19]\n",
      "[1.0713847e-20 2.5937386e-11 1.6752228e-21 1.0000000e+00 2.7231322e-20\n",
      " 8.1162296e-20]\n",
      "[1.1653663e-20 1.8315764e-11 2.0623208e-21 1.0000000e+00 2.6889335e-20\n",
      " 6.2665704e-20]\n",
      "[1.3796846e-20 1.2481788e-11 2.7085748e-21 1.0000000e+00 2.6432999e-20\n",
      " 4.5239151e-20]\n",
      "[1.5007160e-20 8.8141872e-12 3.3344519e-21 1.0000000e+00 2.6101138e-20\n",
      " 3.4929446e-20]\n",
      "[1.7767206e-20 6.0066847e-12 4.3793773e-21 1.0000000e+00 2.5658472e-20\n",
      " 2.5216099e-20]\n",
      "[1.9325815e-20 4.2416630e-12 5.3912902e-21 1.0000000e+00 2.5335948e-20\n",
      " 1.9469441e-20]\n",
      "[2.2880044e-20 2.8906216e-12 7.0808260e-21 1.0000000e+00 2.4906355e-20\n",
      " 1.4055338e-20]\n",
      "[2.8753121e-20 1.3542710e-10 4.3767051e-21 1.0000000e+00 3.8251142e-20\n",
      " 4.6235731e-19]\n",
      "[1.6700872e-20 1.1283031e-10 2.6605164e-21 1.0000000e+00 2.6352856e-20\n",
      " 4.4688588e-19]\n",
      "[8.6179190e-21 7.8173539e-09 2.1171885e-20 1.0000000e+00 4.4016912e-19\n",
      " 1.2403351e-15]\n",
      "[5.7745301e-21 7.3493713e-09 1.4370111e-20 1.0000000e+00 3.2298190e-19\n",
      " 1.2639979e-15]\n",
      "[4.6607205e-21 7.2005228e-11 5.6031869e-22 1.0000000e+00 7.8439219e-21\n",
      " 3.3514797e-19]\n",
      "[3.1183831e-21 6.2401917e-11 3.3194111e-22 1.0000000e+00 5.2045093e-21\n",
      " 3.0075380e-19]\n",
      "[1.7372909e-21 6.1070256e-09 4.4932645e-21 1.0000000e+00 1.2760295e-19\n",
      " 1.3377191e-15]\n",
      "[1.1640995e-21 5.7415628e-09 3.0497501e-21 1.0000000e+00 9.3631650e-20\n",
      " 1.3632502e-15]\n",
      "[9.3401808e-22 4.0615851e-11 6.9013471e-23 1.0000000e+00 1.5202540e-21\n",
      " 2.1733418e-19]\n",
      "[6.0652650e-22 3.3491675e-11 4.0621414e-23 1.0000000e+00 1.0023381e-21\n",
      " 1.9851785e-19]\n",
      "[3.5022006e-22 4.7709663e-09 9.5359243e-22 1.0000000e+00 3.6991494e-20\n",
      " 1.4427547e-15]\n",
      "[2.3677737e-22 4.2187631e-09 6.1318928e-22 1.0000000e+00 2.5549763e-20\n",
      " 1.2857704e-15]\n",
      "[1.5675960e-22 1.7196192e-11 8.3030750e-24 1.0000000e+00 2.8693267e-22\n",
      " 1.5865608e-19]\n",
      "[1.0536554e-22 3.9645145e-09 2.9817390e-22 1.0000000e+00 1.4614682e-20\n",
      " 1.5269192e-15]\n",
      "[7.0602123e-23 3.7272092e-09 2.0238123e-22 1.0000000e+00 1.0723824e-20\n",
      " 1.5560493e-15]\n",
      "[4.01548976e-23 1.06854265e-11 2.47156866e-24 1.00000000e+00\n",
      " 1.08510493e-22 1.78524795e-19]\n",
      "[2.5501914e-23 9.1182435e-12 1.6502490e-24 1.0000000e+00 7.8469963e-23\n",
      " 1.8568386e-19]\n",
      "[2.1240776e-23 3.0971752e-09 6.3281059e-23 1.0000000e+00 4.2367440e-21\n",
      " 1.6468105e-15]\n",
      "[1.4232720e-23 2.9117864e-09 4.2951107e-23 1.0000000e+00 3.1087980e-21\n",
      " 1.6782278e-15]\n",
      "[5.4848584e-24 1.8276236e-10 1.0152583e-25 1.0000000e+00 2.2121495e-22\n",
      " 1.2544178e-18]\n",
      "[6.9731724e-22 1.0390040e-09 1.0733379e-24 1.0000000e+00 2.6796270e-19\n",
      " 1.6160580e-19]\n",
      "[7.1668859e-22 6.8070827e-10 1.4465009e-24 1.0000000e+00 2.7351789e-19\n",
      " 1.2566012e-19]\n",
      "[6.76742793e-22 4.62108185e-10 1.82721662e-24 1.00000000e+00\n",
      " 2.80431754e-19 1.04499485e-19]\n",
      "[7.4650435e-22 3.0877362e-10 2.4309404e-24 1.0000000e+00 2.8091036e-19\n",
      " 7.8293369e-20]\n",
      "[8.1199066e-22 2.1804268e-10 2.9926639e-24 1.0000000e+00 2.7738251e-19\n",
      " 6.0450598e-20]\n",
      "[9.6132453e-22 1.4859154e-10 3.9304675e-24 1.0000000e+00 2.7267510e-19\n",
      " 4.3640372e-20]\n",
      "[1.0456478e-21 1.0492837e-10 4.8386720e-24 1.0000000e+00 2.6925068e-19\n",
      " 3.3694763e-20]\n",
      "[1.2379679e-21 7.1507453e-11 6.3550276e-24 1.0000000e+00 2.6468528e-19\n",
      " 2.4325038e-20]\n",
      "[1.3465621e-21 5.0495400e-11 7.8234397e-24 1.0000000e+00 2.6135924e-19\n",
      " 1.8781380e-20]\n",
      "[1.5942095e-21 3.4411696e-11 1.0275091e-23 1.0000000e+00 2.5692667e-19\n",
      " 1.3558615e-20]\n",
      "[1.7340533e-21 2.4299830e-11 1.2649285e-23 1.0000000e+00 2.5369810e-19\n",
      " 1.0468656e-20]\n",
      "[2.0529722e-21 1.6560017e-11 1.6613351e-23 1.0000000e+00 2.4939643e-19\n",
      " 7.5574815e-21]\n",
      "[2.2330585e-21 1.1693885e-11 2.0452082e-23 1.0000000e+00 2.4626343e-19\n",
      " 5.8351590e-21]\n",
      "[2.6437522e-21 7.9691843e-12 2.6861203e-23 1.0000000e+00 2.4208596e-19\n",
      " 4.2125219e-21]\n",
      "[2.8756617e-21 5.6274638e-12 3.3068090e-23 1.0000000e+00 2.3904390e-19\n",
      " 3.2524911e-21]\n",
      "[3.9334134e-21 2.5444072e-10 2.1806121e-23 1.0000000e+00 3.6548975e-19\n",
      " 1.0003795e-19]\n",
      "[2.2846714e-21 2.1198540e-10 1.3255528e-23 1.0000000e+00 2.5180161e-19\n",
      " 9.6690841e-20]\n",
      "[9.7669795e-22 6.1862537e-09 5.5072734e-23 1.0000000e+00 2.6104451e-18\n",
      " 1.2837406e-16]\n",
      "[6.5647980e-22 5.4438982e-09 3.2815506e-23 1.0000000e+00 1.7393160e-18\n",
      " 1.1620039e-16]\n",
      "[6.3119803e-22 1.3303639e-10 2.7856201e-24 1.0000000e+00 7.4789322e-20\n",
      " 7.2949058e-20]\n",
      "[4.0210714e-22 1.0626228e-10 1.6328284e-24 1.0000000e+00 4.9110194e-20\n",
      " 6.7394056e-20]\n",
      "[1.9934699e-22 3.7099528e-09 6.9423507e-24 1.0000000e+00 5.1449202e-19\n",
      " 8.6178383e-17]\n",
      "[1.3399054e-22 3.2647989e-09 4.1366836e-24 1.0000000e+00 3.4280404e-19\n",
      " 7.8006699e-17]\n",
      "[1.0396335e-22 5.4152374e-11 3.2885148e-25 1.0000000e+00 1.3905321e-20\n",
      " 5.3141307e-20]\n",
      "[6.6230509e-23 4.3254070e-11 1.9276068e-25 1.0000000e+00 9.1309584e-21\n",
      " 4.9094833e-20]\n",
      "[4.06874796e-23 2.22490937e-09 8.75144342e-25 1.00000000e+00\n",
      " 1.01401124e-19 5.78525753e-17]\n",
      "[2.7575510e-23 1.8665314e-09 5.0732232e-25 1.0000000e+00 6.4859471e-20\n",
      " 4.6915540e-17]\n",
      "[1.7123723e-23 2.2042604e-11 3.8821984e-26 1.0000000e+00 2.5853782e-21\n",
      " 3.8711781e-20]\n",
      "[4.1093388e-21 1.7050327e-08 4.1336498e-19 1.0000000e+00 1.4795193e-20\n",
      " 6.9041567e-14]\n",
      "[2.95652809e-21 1.59851936e-08 2.80585842e-19 1.00000000e+00\n",
      " 1.07621004e-20 7.04418417e-14]\n",
      "[6.2901547e-22 3.2850399e-11 2.8654342e-21 1.0000000e+00 1.0772769e-22\n",
      " 5.6046735e-18]\n",
      "[4.3089966e-22 2.8385818e-11 1.9244735e-21 1.0000000e+00 7.7551616e-23\n",
      " 5.8870163e-18]\n",
      "[1.1010504e-21 1.3172256e-08 8.7750337e-20 1.0000000e+00 4.1421219e-21\n",
      " 7.4813663e-14]\n",
      "[7.9216493e-22 1.2349220e-08 5.9563137e-20 1.0000000e+00 3.0129779e-21\n",
      " 7.6330421e-14]\n",
      "[1.4707675e-22 6.1413996e-10 1.2270642e-22 1.0000000e+00 2.1267137e-22\n",
      " 4.2228116e-17]\n",
      "[3.4902522e-21 1.0839910e-09 3.0070630e-22 1.0000000e+00 1.0057402e-19\n",
      " 1.2330775e-18]\n",
      "[3.3293933e-21 5.9227429e-10 2.4766582e-22 1.0000000e+00 7.5116704e-20\n",
      " 6.9478787e-19]\n",
      "[3.4607270e-21 3.0486855e-10 2.0752544e-22 1.0000000e+00 5.3923213e-20\n",
      " 3.5055609e-19]\n",
      "[3.5365037e-21 1.7682372e-10 1.8256997e-22 1.0000000e+00 4.1900068e-20\n",
      " 2.0447834e-19]\n",
      "[4.1869370e-21 1.2050283e-10 2.3978239e-22 1.0000000e+00 4.1189459e-20\n",
      " 1.4761602e-19]\n",
      "[4.5542141e-21 8.5093606e-11 2.9518837e-22 1.0000000e+00 4.0671866e-20\n",
      " 1.1397486e-19]\n",
      "[5.3917838e-21 5.7989741e-11 3.8769080e-22 1.0000000e+00 3.9982088e-20\n",
      " 8.2280496e-20]\n",
      "[5.8647719e-21 4.0949709e-11 4.7727549e-22 1.0000000e+00 3.9479818e-20\n",
      " 6.3529074e-20]\n",
      "[6.9434470e-21 2.7906800e-11 6.2684291e-22 1.0000000e+00 3.8810552e-20\n",
      " 4.5863126e-20]\n",
      "[7.5524668e-21 1.9706247e-11 7.7168318e-22 1.0000000e+00 3.8322564e-20\n",
      " 3.5410681e-20]\n",
      "[8.9415155e-21 1.3429550e-11 1.0135075e-21 1.0000000e+00 3.7672768e-20\n",
      " 2.5563802e-20]\n",
      "[9.7257893e-21 9.4832996e-12 1.2476917e-21 1.0000000e+00 3.7199227e-20\n",
      " 1.9737680e-20]\n",
      "[1.1514555e-20 6.4627327e-12 1.6386964e-21 1.0000000e+00 3.6568760e-20\n",
      " 1.4249092e-20]\n",
      "[1.2524561e-20 4.5636698e-12 2.0173386e-21 1.0000000e+00 3.6109096e-20\n",
      " 1.1001651e-20]\n",
      "[1.4828133e-20 3.1100873e-12 2.6495375e-21 1.0000000e+00 3.5496834e-20\n",
      " 7.9423192e-21]\n",
      "[1.8634297e-20 1.4570947e-10 1.6376965e-21 1.0000000e+00 5.4515778e-20\n",
      " 2.6126753e-19]\n",
      "[1.0823445e-20 1.2139653e-10 9.9551712e-22 1.0000000e+00 3.7558262e-20\n",
      " 2.5252498e-19]\n",
      "[5.390118e-21 5.906163e-09 5.018664e-21 1.000000e+00 4.477989e-19\n",
      " 4.474768e-16]\n",
      "[3.6229113e-21 5.1973990e-09 2.9903862e-21 1.0000000e+00 2.9836436e-19\n",
      " 4.0504115e-16]\n",
      "[3.02051564e-21 7.74722578e-11 2.09662732e-22 1.00000000e+00\n",
      " 1.11792935e-20 1.89385883e-19]\n",
      "[2.0209589e-21 6.7139939e-11 1.2420779e-22 1.0000000e+00 7.4175289e-21\n",
      " 1.6994906e-19]\n",
      "[1.0986044e-21 3.6487589e-09 6.7077229e-22 1.0000000e+00 9.2166312e-20\n",
      " 3.1683082e-16]\n",
      "[7.3614021e-22 3.4303733e-09 4.5528048e-22 1.0000000e+00 6.7629440e-20\n",
      " 3.2287644e-16]\n",
      "[5.4047130e-22 3.6193385e-11 2.5198655e-23 1.0000000e+00 2.1152903e-21\n",
      " 1.3134700e-19]\n",
      "[3.4431330e-22 2.8909538e-11 1.4770584e-23 1.0000000e+00 1.3890152e-21\n",
      " 1.2134551e-19]\n",
      "[2.2146910e-22 2.8505154e-09 1.4235767e-22 1.0000000e+00 2.6718885e-20\n",
      " 3.4170916e-16]\n",
      "[1.4973007e-22 2.5205613e-09 9.1538624e-23 1.0000000e+00 1.8454264e-20\n",
      " 3.0452706e-16]\n",
      "[8.9020612e-23 1.4732465e-11 2.9747828e-24 1.0000000e+00 3.9329013e-22\n",
      " 9.5681817e-20]\n",
      "[6.6629369e-23 2.3686657e-09 4.4512407e-23 1.0000000e+00 1.0555996e-20\n",
      " 3.6163897e-16]\n",
      "[4.4646242e-23 2.2268793e-09 3.0212385e-23 1.0000000e+00 7.7457386e-21\n",
      " 3.6853961e-16]\n",
      "[2.3015781e-23 7.5077193e-12 5.9912097e-25 1.0000000e+00 1.1135783e-22\n",
      " 7.5446672e-20]\n",
      "[1.4662460e-23 5.9968515e-12 3.5118409e-25 1.0000000e+00 7.3123916e-23\n",
      " 6.9702006e-20]\n",
      "[1.3431954e-23 1.8504558e-09 9.4468468e-24 1.0000000e+00 3.0601686e-21\n",
      " 3.9003427e-16]\n",
      "[9.0002939e-24 1.7396956e-09 6.4119107e-24 1.0000000e+00 2.2454615e-21\n",
      " 3.9747826e-16]\n",
      "[3.1780758e-24 1.0186061e-10 1.5592790e-26 1.0000000e+00 1.6190359e-22\n",
      " 3.4994817e-19]\n",
      "[4.5191673e-22 1.1178930e-09 4.0162671e-25 1.0000000e+00 3.8190363e-19\n",
      " 9.1319731e-20]\n",
      "[4.6446913e-22 7.3238576e-10 5.4125453e-25 1.0000000e+00 3.8981799e-19\n",
      " 7.1007110e-20]\n",
      "[4.3858117e-22 4.9719395e-10 6.8371408e-25 1.0000000e+00 3.9967470e-19\n",
      " 5.9050259e-20]\n",
      "[4.8379201e-22 3.3221675e-10 9.0961746e-25 1.0000000e+00 4.0035526e-19\n",
      " 4.4241791e-20]\n",
      "[5.2623217e-22 2.3459679e-10 1.1197965e-24 1.0000000e+00 3.9532585e-19\n",
      " 3.4159377e-20]\n",
      "[6.2301432e-22 1.5987373e-10 1.4707211e-24 1.0000000e+00 3.8861979e-19\n",
      " 2.4660267e-20]\n"
     ]
    },
    {
     "name": "stdout",
     "output_type": "stream",
     "text": [
      "[6.7766504e-22 1.1289575e-10 1.8105575e-24 1.0000000e+00 3.8373930e-19\n",
      " 1.9040282e-20]\n",
      "[8.0229805e-22 7.6936540e-11 2.3779273e-24 1.0000000e+00 3.7722977e-19\n",
      " 1.3745522e-20]\n",
      "[8.7267545e-22 5.4329180e-11 2.9274009e-24 1.0000000e+00 3.7249088e-19\n",
      " 1.0612886e-20]\n",
      "[1.0331738e-21 3.7024418e-11 3.8447680e-24 1.0000000e+00 3.6617357e-19\n",
      " 7.6616910e-21]\n",
      "[1.1238080e-21 2.6145055e-11 4.7331702e-24 1.0000000e+00 3.6157494e-19\n",
      " 5.9156197e-21]\n",
      "[1.3304884e-21 1.7817343e-11 6.2164630e-24 1.0000000e+00 3.5544142e-19\n",
      " 4.2705921e-21]\n",
      "[1.44719853e-21 1.25817716e-11 7.65285797e-24 1.00000000e+00\n",
      " 3.50976249e-19 3.29731459e-21]\n",
      "[1.71336065e-21 8.57429665e-12 1.00510535e-23 1.00000000e+00\n",
      " 3.45023806e-19 2.38039962e-21]\n",
      "[1.8636563e-21 6.0547773e-12 1.2373529e-23 1.0000000e+00 3.4069080e-19\n",
      " 1.8379151e-21]\n",
      "[2.5491534e-21 2.7375974e-10 8.1594566e-24 1.0000000e+00 5.2089838e-19\n",
      " 5.6528935e-20]\n",
      "[1.4727726e-21 2.2606654e-10 4.9542871e-24 1.0000000e+00 3.5846567e-19\n",
      " 5.4811049e-20]\n",
      "[6.0510756e-22 5.7243841e-09 1.9464584e-23 1.0000000e+00 3.5701248e-18\n",
      " 6.6619664e-17]\n",
      "[4.0671825e-22 5.0374722e-09 1.1598076e-23 1.0000000e+00 2.3787421e-18\n",
      " 6.0302135e-17]\n",
      "[3.58318824e-22 1.14836224e-10 1.01289908e-24 1.00000000e+00\n",
      " 1.03641970e-19 4.45908220e-20]\n",
      "[2.2826928e-22 9.1725495e-11 5.9372433e-25 1.0000000e+00 6.8056459e-20\n",
      " 4.1195116e-20]\n",
      "[1.2350428e-22 3.4329783e-09 2.4536635e-24 1.0000000e+00 7.0363509e-19\n",
      " 4.4722062e-17]\n",
      "[1.5250118e-20 1.5622344e-08 6.3849322e-19 1.0000000e+00 7.4723451e-20\n",
      " 1.4709025e-14]\n",
      "[4.0933804e-21 4.9007021e-11 7.0139940e-21 1.0000000e+00 7.9775385e-22\n",
      " 1.0758499e-18]\n",
      "[2.8041435e-21 4.2346973e-11 4.7107871e-21 1.0000000e+00 5.7430033e-22\n",
      " 1.1300602e-18]\n",
      "[5.7578128e-21 1.3478712e-08 2.0318448e-19 1.0000000e+00 2.9123255e-20\n",
      " 1.6032626e-14]\n",
      "[4.11087560e-21 1.18533405e-08 1.30495484e-19 1.00000000e+00\n",
      " 1.99605160e-20 1.42745702e-14]\n",
      "[9.0142876e-22 2.7321085e-11 1.4271172e-21 1.0000000e+00 2.1425354e-22\n",
      " 1.3096083e-18]\n",
      "[2.16123594e-21 1.14037695e-08 6.41821328e-20 1.00000000e+00\n",
      " 1.12901203e-20 1.72833380e-14]\n",
      "[1.5549468e-21 1.0691376e-08 4.3565855e-20 1.0000000e+00 8.2125860e-21\n",
      " 1.7633938e-14]\n",
      "[2.8977943e-22 1.7626936e-11 4.3234197e-22 1.0000000e+00 7.9931918e-23\n",
      " 1.5176894e-18]\n",
      "[1.9850922e-22 1.5231408e-11 2.9037031e-22 1.0000000e+00 5.7542499e-23\n",
      " 1.5941451e-18]\n",
      "[5.7907626e-22 8.8099315e-09 1.3624773e-20 1.0000000e+00 3.1608035e-21\n",
      " 1.8728244e-14]\n",
      "[4.1662705e-22 8.2595433e-09 9.2482533e-21 1.0000000e+00 2.2992024e-21\n",
      " 1.9108082e-14]\n",
      "[4.9394384e-23 1.0484220e-09 6.6536921e-23 1.0000000e+00 3.8333781e-22\n",
      " 1.3572976e-16]\n",
      "[2.9030845e-21 1.5650222e-09 1.6983928e-22 1.0000000e+00 1.6210098e-19\n",
      " 5.1971369e-18]\n",
      "[2.7692973e-21 8.5510654e-10 1.3988196e-22 1.0000000e+00 1.2107041e-19\n",
      " 2.9283817e-18]\n",
      "[2.8785481e-21 4.4015516e-10 1.1721062e-22 1.0000000e+00 8.6911163e-20\n",
      " 1.4775073e-18]\n",
      "[2.9444738e-21 2.4998908e-10 9.8938348e-23 1.0000000e+00 6.5495715e-20\n",
      " 8.2999297e-19]\n",
      "[3.5193583e-21 1.3903960e-10 8.7078947e-23 1.0000000e+00 4.7864525e-20\n",
      " 4.1623850e-19]\n",
      "[3.8376083e-21 9.3085054e-11 9.6510865e-23 1.0000000e+00 4.3724690e-20\n",
      " 2.9207603e-19]\n",
      "[4.5434212e-21 6.3436006e-11 1.2675471e-22 1.0000000e+00 4.2983297e-20\n",
      " 2.1085573e-19]\n",
      "[4.9419688e-21 4.4795702e-11 1.5604365e-22 1.0000000e+00 4.2443490e-20\n",
      " 1.6280310e-19]\n",
      "[5.8508953e-21 3.0527629e-11 2.0494345e-22 1.0000000e+00 4.1723504e-20\n",
      " 1.1753003e-19]\n",
      "[6.3641346e-21 2.1557136e-11 2.5229928e-22 1.0000000e+00 4.1199359e-20\n",
      " 9.0745022e-20]\n",
      "[7.5345394e-21 1.4690740e-11 3.3136167e-22 1.0000000e+00 4.0500634e-20\n",
      " 6.5510960e-20]\n",
      "[8.1954987e-21 1.0374010e-11 4.0793025e-22 1.0000000e+00 3.9991850e-20\n",
      " 5.0580863e-20]\n",
      "[9.7027397e-21 7.0696847e-12 5.3576439e-22 1.0000000e+00 3.9313452e-20\n",
      " 3.6515371e-20]\n",
      "[1.0553902e-20 4.9922796e-12 6.5956476e-22 1.0000000e+00 3.8819583e-20\n",
      " 2.8193543e-20]\n",
      "[1.2494974e-20 3.4021668e-12 8.6625096e-22 1.0000000e+00 3.8161218e-20\n",
      " 2.0353503e-20]\n",
      "[1.5702250e-20 1.5939509e-10 5.3543950e-22 1.0000000e+00 5.8608163e-20\n",
      " 6.6953855e-19]\n",
      "[9.1204102e-21 1.3279758e-10 3.2548229e-22 1.0000000e+00 4.0377532e-20\n",
      " 6.4713193e-19]\n",
      "[4.4802222e-21 6.4845729e-09 1.7589030e-21 1.0000000e+00 5.0697372e-19\n",
      " 1.2111037e-15]\n",
      "[3.0020329e-21 6.0963421e-09 1.1938210e-21 1.0000000e+00 3.7199814e-19\n",
      " 1.2341994e-15]\n",
      "[2.54524706e-21 8.47481182e-11 6.85482766e-23 1.00000000e+00\n",
      " 1.20184084e-20 4.85328837e-19]\n",
      "[1.7029674e-21 7.3445576e-11 4.0609174e-23 1.0000000e+00 7.9742869e-21\n",
      " 4.3552083e-19]\n",
      "[9.0317733e-22 5.0659157e-09 3.7328974e-22 1.0000000e+00 1.4696986e-19\n",
      " 1.3061976e-15]\n",
      "[6.0519066e-22 4.7626743e-09 2.5336599e-22 1.0000000e+00 1.0784257e-19\n",
      " 1.3311220e-15]\n",
      "[5.1007090e-22 4.7803435e-11 8.4430039e-24 1.0000000e+00 2.3293150e-21\n",
      " 3.1472110e-19]\n",
      "[3.4127693e-22 4.1427910e-11 5.0017607e-24 1.0000000e+00 1.5455264e-21\n",
      " 2.8242213e-19]\n",
      "[1.8207199e-22 3.9575943e-09 7.9222492e-23 1.0000000e+00 4.2606031e-20\n",
      " 1.4087582e-15]\n",
      "[1.2309460e-22 3.4995127e-09 5.0941728e-23 1.0000000e+00 2.9427461e-20\n",
      " 1.2554730e-15]\n",
      "[9.2733963e-23 2.2932182e-11 1.0182376e-24 1.0000000e+00 4.4223522e-22\n",
      " 2.1622112e-19]\n",
      "[5.4776892e-23 3.2886232e-09 2.4771294e-23 1.0000000e+00 1.6832694e-20\n",
      " 1.4909337e-15]\n",
      "[3.67041297e-23 3.09175707e-09 1.68132875e-23 1.00000000e+00\n",
      " 1.23513826e-20 1.51937742e-15]\n",
      "[2.39245925e-23 1.22346265e-11 2.24458365e-25 1.00000000e+00\n",
      " 1.33881194e-22 1.85101114e-19]\n",
      "[1.51941757e-23 1.04402285e-11 1.49869262e-25 1.00000000e+00\n",
      " 9.68165518e-23 1.92525370e-19]\n",
      "[1.1042587e-23 2.5691720e-09 5.2572199e-24 1.0000000e+00 4.8797933e-21\n",
      " 1.6080117e-15]\n",
      "[7.3992329e-24 2.4153650e-09 3.5682486e-24 1.0000000e+00 3.5806213e-21\n",
      " 1.6386702e-15]\n",
      "[3.2679202e-24 2.0926050e-10 9.2201847e-27 1.0000000e+00 2.7293691e-22\n",
      " 1.3006467e-18]\n",
      "[3.8080762e-22 1.2228784e-09 1.3131003e-25 1.0000000e+00 4.1056766e-19\n",
      " 2.3402098e-19]\n",
      "[3.9138787e-22 8.0117285e-10 1.7696274e-25 1.0000000e+00 4.1908082e-19\n",
      " 1.8196673e-19]\n",
      "[3.6957323e-22 5.4389032e-10 2.2353892e-25 1.0000000e+00 4.2967744e-19\n",
      " 1.5132546e-19]\n",
      "[4.0767044e-22 3.6341852e-10 2.9739644e-25 1.0000000e+00 4.3040746e-19\n",
      " 1.1337645e-19]\n",
      "[4.4342954e-22 2.5663008e-10 3.6611518e-25 1.0000000e+00 4.2500054e-19\n",
      " 8.7538366e-20]\n",
      "[5.2498903e-22 1.7488938e-10 4.8084745e-25 1.0000000e+00 4.1779269e-19\n",
      " 6.3195759e-20]\n",
      "[5.710366e-22 1.234989e-10 5.919558e-25 1.000000e+00 4.125458e-19\n",
      " 4.879349e-20]\n",
      "[6.7606157e-22 8.4162573e-11 7.7746147e-25 1.0000000e+00 4.0554918e-19\n",
      " 3.5225299e-20]\n",
      "[7.3536553e-22 5.9432112e-11 9.5710413e-25 1.0000000e+00 4.0045455e-19\n",
      " 2.7197269e-20]\n",
      "[8.7061396e-22 4.0501900e-11 1.2570390e-24 1.0000000e+00 3.9366148e-19\n",
      " 1.9634197e-20]\n",
      "[9.4697670e-22 2.8600485e-11 1.5474885e-24 1.0000000e+00 3.8871616e-19\n",
      " 1.5159636e-20]\n",
      "[1.1211446e-21 1.9490784e-11 2.0324443e-24 1.0000000e+00 3.8212368e-19\n",
      " 1.0944012e-20]\n",
      "[1.2194818e-21 1.3763450e-11 2.5020672e-24 1.0000000e+00 3.7732332e-19\n",
      " 8.4499117e-21]\n",
      "[1.4437743e-21 9.3795579e-12 3.2861464e-24 1.0000000e+00 3.7092262e-19\n",
      " 6.1001432e-21]\n",
      "[1.5704099e-21 6.6234162e-12 4.0454692e-24 1.0000000e+00 3.6626299e-19\n",
      " 4.7099248e-21]\n",
      "[2.1480604e-21 2.9947067e-10 2.6677177e-24 1.0000000e+00 5.6000329e-19\n",
      " 1.4486472e-19]\n",
      "[4.22615719e-20 1.21990737e-10 6.20171943e-20 1.00000000e+00\n",
      " 1.20030595e-20 3.94380153e-18]\n",
      "[2.3228652e-20 2.3482398e-08 2.2158785e-18 1.0000000e+00 6.0853212e-19\n",
      " 4.6093470e-14]\n",
      "[1.5564668e-20 2.2076636e-08 1.5039841e-18 1.0000000e+00 4.4651783e-19\n",
      " 4.6972561e-14]\n",
      "[1.16953475e-20 9.31390451e-11 1.85945323e-20 1.00000000e+00\n",
      " 4.64120460e-21 4.07920190e-18]\n",
      "[7.8009223e-21 8.6233236e-11 1.2547946e-20 1.0000000e+00 3.3913706e-21\n",
      " 4.1212446e-18]\n",
      "[5.6654335e-21 1.8932337e-08 4.7725617e-19 1.0000000e+00 1.7441189e-19\n",
      " 5.0957218e-14]\n",
      "[4.0947706e-21 1.8023581e-08 3.2583683e-19 1.0000000e+00 1.2740110e-19\n",
      " 5.2442473e-14]\n",
      "[2.3149380e-21 6.8437915e-11 3.8558632e-21 1.0000000e+00 1.3231141e-21\n",
      " 4.2498939e-18]\n",
      "[1.5440767e-21 6.3363093e-11 2.6019903e-21 1.0000000e+00 9.6680046e-22\n",
      " 4.2936472e-18]\n",
      "[1.54601581e-21 1.55504019e-08 1.03689823e-19 1.00000000e+00\n",
      " 4.96540334e-20 5.71614289e-14]\n",
      "[1.1088525e-21 1.3885582e-08 6.6980898e-20 1.0000000e+00 3.4174366e-20\n",
      " 5.1334062e-14]\n",
      "[4.5616189e-22 4.9914725e-11 7.9879833e-22 1.0000000e+00 3.7683368e-22\n",
      " 4.4393989e-18]\n",
      "[5.8371375e-22 1.3416590e-08 3.2996942e-20 1.0000000e+00 1.9352522e-20\n",
      " 6.2305846e-14]\n",
      "[4.2188720e-22 1.2772590e-08 2.2528070e-20 1.0000000e+00 1.4136318e-20\n",
      " 6.4121634e-14]\n",
      "[1.1684856e-22 3.1016176e-11 2.3777664e-22 1.0000000e+00 1.4250872e-22\n",
      " 4.9953313e-18]\n",
      "[7.4209458e-23 2.6467224e-11 1.5876240e-22 1.0000000e+00 1.0305597e-22\n",
      " 5.1956902e-18]\n",
      "[1.5731553e-22 1.0569579e-08 7.0567190e-21 1.0000000e+00 5.4470639e-21\n",
      " 6.8264025e-14]\n",
      "[1.1318268e-22 9.9091650e-09 4.7899755e-21 1.0000000e+00 3.9622073e-21\n",
      " 6.9647731e-14]\n",
      "[2.2755103e-23 5.6256233e-10 1.0039136e-23 1.0000000e+00 2.8442727e-22\n",
      " 3.6753980e-17]\n",
      "[1.9203666e-21 1.0872149e-09 2.6842766e-23 1.0000000e+00 1.2201392e-19\n",
      " 1.3403221e-18]\n",
      "[1.8318605e-21 5.9403693e-10 2.2108153e-23 1.0000000e+00 9.1129732e-20\n",
      " 7.5521574e-19]\n",
      "[1.9041362e-21 3.0577293e-10 1.8524907e-23 1.0000000e+00 6.5418057e-20\n",
      " 3.8104359e-19]\n",
      "[1.9312983e-21 2.0811573e-10 2.2335077e-23 1.0000000e+00 6.4198541e-20\n",
      " 2.9610119e-19]\n",
      "[2.2865023e-21 1.4182842e-10 2.9334503e-23 1.0000000e+00 6.3109997e-20\n",
      " 2.1376158e-19]\n",
      "[2.48706432e-21 1.00152574e-10 3.61123483e-23 1.00000000e+00\n",
      " 6.23167113e-20 1.65045474e-19]\n",
      "[2.9444849e-21 6.8252154e-11 4.7429145e-23 1.0000000e+00 6.1260072e-20\n",
      " 1.1914973e-19]\n",
      "[3.2027745e-21 4.8196468e-11 5.8388714e-23 1.0000000e+00 6.0490277e-20\n",
      " 9.1995596e-20]\n",
      "[3.7918286e-21 3.2845327e-11 7.6686134e-23 1.0000000e+00 5.9464605e-20\n",
      " 6.6413524e-20]\n",
      "[4.1244154e-21 2.3193650e-11 9.4405471e-23 1.0000000e+00 5.8717144e-20\n",
      " 5.1277734e-20]\n",
      "[4.8829772e-21 1.5806049e-11 1.2399003e-22 1.0000000e+00 5.7721542e-20\n",
      " 3.7018597e-20]\n",
      "[5.3113110e-21 1.1161575e-11 1.5263955e-22 1.0000000e+00 5.6996208e-20\n",
      " 2.8581976e-20]\n",
      "[6.2881188e-21 7.6064389e-12 2.0047335e-22 1.0000000e+00 5.6030003e-20\n",
      " 2.0633920e-20]\n",
      "[6.8397376e-21 5.3713206e-12 2.4679628e-22 1.0000000e+00 5.5325710e-20\n",
      " 1.5931465e-20]\n",
      "[8.0977008e-21 3.6604777e-12 3.2413545e-22 1.0000000e+00 5.4387616e-20\n",
      " 1.1501254e-20]\n",
      "[1.0176261e-20 1.7149658e-10 2.0035179e-22 1.0000000e+00 8.3528737e-20\n",
      " 3.7833799e-19]\n",
      "[5.9107475e-21 1.4288083e-10 1.2178913e-22 1.0000000e+00 5.7546322e-20\n",
      " 3.6567941e-19]\n",
      "[2.7812710e-21 5.7491349e-09 5.7139833e-22 1.0000000e+00 6.5137950e-19\n",
      " 5.8208565e-16]\n",
      "[1.8694023e-21 5.0592242e-09 3.4047073e-22 1.0000000e+00 4.3400993e-19\n",
      " 5.2688657e-16]\n",
      "[1.6495152e-21 9.1182305e-11 2.5649527e-23 1.0000000e+00 1.7128649e-20\n",
      " 2.7424716e-19]\n",
      "[1.1036492e-21 7.9021206e-11 1.5195103e-23 1.0000000e+00 1.1364962e-20\n",
      " 2.4610190e-19]\n",
      "[5.6766365e-22 3.4477954e-09 7.2029242e-23 1.0000000e+00 1.2838024e-19\n",
      " 3.9075803e-16]\n",
      "[3.8155357e-22 3.0341032e-09 4.2919495e-23 1.0000000e+00 8.5539251e-20\n",
      " 3.5370524e-16]\n",
      "[3.1961456e-22 4.8630190e-11 3.1362850e-24 1.0000000e+00 3.2961449e-21\n",
      " 1.8143094e-19]\n",
      "[2.0361247e-22 3.8843314e-11 1.8383753e-24 1.0000000e+00 2.1644289e-21\n",
      " 1.6761450e-19]\n",
      "[1.1513665e-22 2.3645355e-09 1.1826647e-23 1.0000000e+00 3.0774020e-20\n",
      " 3.3365599e-16]\n",
      "[7.7841191e-23 2.0908466e-09 7.6047824e-24 1.0000000e+00 2.1255154e-20\n",
      " 2.9735129e-16]\n",
      "[5.2643067e-23 1.9794773e-11 3.7024718e-25 1.0000000e+00 6.1284319e-22\n",
      " 1.3216626e-19]\n",
      "[3.4639198e-23 1.9648467e-09 3.6979567e-24 1.0000000e+00 1.2158176e-20\n",
      " 3.5311880e-16]\n",
      "[2.3210547e-23 1.8472291e-09 2.5099444e-24 1.0000000e+00 8.9212778e-21\n",
      " 3.5985549e-16]\n",
      "[1.3610623e-23 1.0087491e-11 7.4567459e-26 1.0000000e+00 1.7352236e-22\n",
      " 1.0421485e-19]\n",
      "[8.6707986e-24 8.0574341e-12 4.3709045e-26 1.0000000e+00 1.1394426e-22\n",
      " 9.6278983e-20]\n",
      "[6.9829344e-24 1.5349715e-09 7.8481257e-25 1.0000000e+00 3.5245980e-21\n",
      " 3.8084073e-16]\n",
      "[4.6790086e-24 1.4430893e-09 5.3267616e-25 1.0000000e+00 2.5862363e-21\n",
      " 3.8810631e-16]\n",
      "[1.8935289e-24 1.1662929e-10 1.4160879e-27 1.0000000e+00 1.9975806e-22\n",
      " 3.6284474e-19]\n",
      "[2.4679252e-22 1.3157209e-09 4.9133653e-26 1.0000000e+00 5.8514591e-19\n",
      " 1.3223939e-19]\n",
      "[2.53650310e-22 8.62002247e-10 6.62165098e-26 1.00000000e+00\n",
      " 5.97276721e-19 1.02825613e-19]\n",
      "[2.3951178e-22 5.8518318e-10 8.3644228e-26 1.0000000e+00 6.1237675e-19\n",
      " 8.5510545e-20]\n",
      "[2.6420269e-22 3.9101272e-10 1.1128080e-25 1.0000000e+00 6.1342184e-19\n",
      " 6.4066431e-20]\n",
      "[2.8737849e-22 2.7611483e-10 1.3699473e-25 1.0000000e+00 6.0571582e-19\n",
      " 4.9465924e-20]\n",
      "[3.4023182e-22 1.8816829e-10 1.7992512e-25 1.0000000e+00 5.9544312e-19\n",
      " 3.5710473e-20]\n",
      "[3.7007548e-22 1.3287485e-10 2.2149918e-25 1.0000000e+00 5.8796070e-19\n",
      " 2.7572082e-20]\n",
      "[4.3813971e-22 9.0552309e-11 2.9091092e-25 1.0000000e+00 5.7798914e-19\n",
      " 1.9904780e-20]\n",
      "[4.7657140e-22 6.3943913e-11 3.5813245e-25 1.0000000e+00 5.7072826e-19\n",
      " 1.5368436e-20]\n",
      "[5.6422235e-22 4.3576857e-11 4.7036132e-25 1.0000000e+00 5.6104673e-19\n",
      " 1.1094835e-20]\n",
      "[2.1253128e-20 9.3793437e-12 8.7283573e-21 1.0000000e+00 8.6481515e-21\n",
      " 1.0340108e-19]\n",
      "[2.5162001e-20 6.3918515e-12 1.1463628e-20 1.0000000e+00 8.5014820e-21\n",
      " 7.4647092e-20]\n",
      "[2.7369099e-20 4.5136252e-12 1.4112449e-20 1.0000000e+00 8.3946836e-21\n",
      " 5.7634856e-20]\n",
      "[3.2402823e-20 3.0759650e-12 1.8534974e-20 1.0000000e+00 8.2523125e-21\n",
      " 4.1607954e-20]\n",
      "[3.5244786e-20 2.1720898e-12 2.2817810e-20 1.0000000e+00 8.1485821e-21\n",
      " 3.2125407e-20]\n",
      "[4.81930288e-20 9.89025389e-11 1.52567519e-20 1.00000000e+00\n",
      " 1.25874505e-20 1.00063191e-18]\n",
      "[2.7955684e-20 8.4746175e-11 9.8016581e-21 1.0000000e+00 9.0347066e-21\n",
      " 1.0170800e-18]\n",
      "[1.4689075e-20 1.4029980e-08 3.3079511e-19 1.0000000e+00 4.3953653e-19\n",
      " 1.0916985e-14]\n",
      "[9.84261080e-21 1.31900055e-08 2.24519850e-19 1.00000000e+00\n",
      " 3.22516506e-19 1.11251713e-14]\n",
      "[7.7364070e-21 6.4703583e-11 2.9388631e-21 1.0000000e+00 3.4934624e-21\n",
      " 1.0520148e-18]\n",
      "[5.1602463e-21 5.9905671e-11 1.9831934e-21 1.0000000e+00 2.5526856e-21\n",
      " 1.0628576e-18]\n",
      "[2.9611784e-21 1.0960478e-08 7.0203949e-20 1.0000000e+00 1.2742005e-19\n",
      " 1.1774124e-14]\n",
      "[2.05875218e-21 1.03674775e-08 4.77858944e-20 1.00000000e+00\n",
      " 9.32908060e-20 1.20563282e-14]\n",
      "[1.5312952e-21 4.7543195e-11 6.0941158e-22 1.0000000e+00 9.9590456e-22\n",
      " 1.0960234e-18]\n",
      "[1.0213825e-21 4.4017675e-11 4.1123791e-22 1.0000000e+00 7.2770826e-22\n",
      " 1.1073028e-18]\n",
      "[7.7729658e-22 8.9448795e-09 1.5206782e-20 1.0000000e+00 3.6359832e-20\n",
      " 1.3141324e-14]\n",
      "[5.5750433e-22 7.9872748e-09 9.8231809e-21 1.0000000e+00 2.5024732e-20\n",
      " 1.1801553e-14]\n",
      "[2.6431359e-22 2.7819325e-11 1.2268395e-22 1.0000000e+00 2.7579627e-22\n",
      " 1.2384704e-18]\n",
      "[2.9347723e-22 7.7175599e-09 4.8392332e-21 1.0000000e+00 1.4171252e-20\n",
      " 1.4323908e-14]\n",
      "[2.1211394e-22 7.3470310e-09 3.3038870e-21 1.0000000e+00 1.0351509e-20\n",
      " 1.4741380e-14]\n",
      "[6.7705748e-23 1.7286594e-11 3.6519076e-23 1.0000000e+00 1.0429980e-22\n",
      " 1.3935604e-18]\n",
      "[4.2999303e-23 1.4751277e-11 2.4383623e-23 1.0000000e+00 7.5424973e-23\n",
      " 1.4494549e-18]\n",
      "[8.0085740e-23 6.3388903e-09 1.0513834e-21 1.0000000e+00 4.0344563e-21\n",
      " 1.6067924e-14]\n",
      "[5.7883300e-23 6.0346448e-09 7.1781314e-22 1.0000000e+00 2.9470359e-21\n",
      " 1.6536257e-14]\n",
      "[1.0483066e-23 3.0186434e-10 1.5147349e-24 1.0000000e+00 2.1104291e-22\n",
      " 9.9526098e-18]\n",
      "[1.2703070e-21 7.5528117e-10 4.2424786e-24 1.0000000e+00 9.1840267e-20\n",
      " 3.4566671e-19]\n",
      "[1.2016431e-21 4.9363630e-10 4.9729567e-24 1.0000000e+00 8.9088354e-20\n",
      " 2.6854496e-19]\n",
      "[1.2350104e-21 3.2340441e-10 6.7018081e-24 1.0000000e+00 9.0933878e-20\n",
      " 2.0880980e-19]\n"
     ]
    },
    {
     "name": "stdout",
     "output_type": "stream",
     "text": [
      "[1.2516388e-21 2.2391786e-10 8.3574141e-24 1.0000000e+00 9.1496871e-20\n",
      " 1.6732063e-19]\n",
      "[1.48183439e-21 1.52596519e-10 1.09763566e-23 1.00000000e+00\n",
      " 8.99447764e-20 1.20791763e-19]\n",
      "[1.6118144e-21 1.0775629e-10 1.3512742e-23 1.0000000e+00 8.8814518e-20\n",
      " 9.3263767e-20]\n",
      "[1.9082520e-21 7.3434508e-11 1.7747196e-23 1.0000000e+00 8.7308591e-20\n",
      " 6.7329045e-20]\n",
      "[2.0756433e-21 5.1855902e-11 2.1848003e-23 1.0000000e+00 8.6211788e-20\n",
      " 5.1984602e-20]\n",
      "[2.4573955e-21 3.5339055e-11 2.8694677e-23 1.0000000e+00 8.4749669e-20\n",
      " 3.7528903e-20]\n",
      "[2.6729576e-21 2.4954781e-11 3.5325090e-23 1.0000000e+00 8.3684693e-20\n",
      " 2.8976092e-20]\n",
      "[3.1645555e-21 1.7006195e-11 4.6395002e-23 1.0000000e+00 8.2265749e-20\n",
      " 2.0918360e-20]\n",
      "[3.4421498e-21 1.2009092e-11 5.7115398e-23 1.0000000e+00 8.1231986e-20\n",
      " 1.6151020e-20]\n",
      "[4.0751986e-21 8.1839457e-12 7.5013787e-23 1.0000000e+00 7.9854019e-20\n",
      " 1.1659711e-20]\n",
      "[4.4326569e-21 5.7790960e-12 9.2346708e-23 1.0000000e+00 7.8850565e-20\n",
      " 9.0025055e-21]\n",
      "[5.2478907e-21 3.9383562e-12 1.2128609e-22 1.0000000e+00 7.7513286e-20\n",
      " 6.4990700e-21]\n",
      "[6.5949971e-21 1.8451682e-10 7.4968020e-23 1.0000000e+00 1.1904525e-19\n",
      " 2.1379094e-19]\n",
      "[3.8306027e-21 1.5372795e-10 4.5571292e-23 1.0000000e+00 8.2015391e-20\n",
      " 2.0663706e-19]\n",
      "[1.7231073e-21 5.3198397e-09 2.0195090e-22 1.0000000e+00 8.9083640e-19\n",
      " 3.0206960e-16]\n",
      "[1.1581818e-21 4.6815258e-09 1.2033489e-22 1.0000000e+00 5.9356532e-19\n",
      " 2.7342859e-16]\n",
      "[1.0690122e-21 9.8105364e-11 9.5976265e-24 1.0000000e+00 2.4411861e-20\n",
      " 1.5497078e-19]\n",
      "[7.0176566e-22 8.2371950e-11 5.6624215e-24 1.0000000e+00 1.6132363e-20\n",
      " 1.4064464e-19]\n",
      "[3.5169004e-22 3.1903562e-09 2.5457494e-23 1.0000000e+00 1.7557475e-19\n",
      " 2.0278215e-16]\n",
      "[2.3638839e-22 2.8075537e-09 1.5169041e-23 1.0000000e+00 1.1698477e-19\n",
      " 1.8355376e-16]\n",
      "[1.8143827e-22 4.1977054e-11 1.1404025e-24 1.0000000e+00 4.5677503e-21\n",
      " 1.1090017e-19]\n",
      "[1.1558728e-22 3.3529193e-11 6.6846722e-25 1.0000000e+00 2.9994229e-21\n",
      " 1.0245561e-19]\n",
      "[7.1781275e-23 1.9133040e-09 3.2091169e-24 1.0000000e+00 3.4604122e-20\n",
      " 1.3613060e-16]\n",
      "[4.86493770e-23 1.60512093e-09 1.86034346e-24 1.00000000e+00\n",
      " 2.21340090e-20 1.10395094e-16]\n",
      "[2.9884329e-23 1.7086601e-11 1.3462769e-25 1.0000000e+00 8.4926609e-22\n",
      " 8.0786989e-20]\n",
      "[2.17970551e-23 1.30388178e-09 6.78911149e-25 1.00000000e+00\n",
      " 1.02358286e-20 1.00958955e-16]\n",
      "[1.4650830e-23 1.1474236e-09 4.0453744e-25 1.0000000e+00 6.8201187e-21\n",
      " 9.1385385e-17]\n",
      "[7.7264555e-24 8.7074124e-12 2.7113901e-26 1.0000000e+00 2.4046480e-22\n",
      " 6.3701612e-20]\n",
      "[4.9222065e-24 6.9550498e-12 1.5893174e-26 1.0000000e+00 1.5790111e-22\n",
      " 5.8851018e-20]\n",
      "[4.4157732e-24 9.1709623e-10 1.1716038e-25 1.0000000e+00 2.5457909e-21\n",
      " 9.0200896e-17]\n",
      "[2.9588591e-24 8.6219959e-10 7.9520612e-26 1.0000000e+00 1.8680194e-21\n",
      " 9.1920671e-17]\n",
      "[1.0851701e-24 8.2198214e-11 3.4535537e-28 1.0000000e+00 2.0592224e-22\n",
      " 1.5419063e-19]\n",
      "[1.5994169e-22 1.4156311e-09 1.8385135e-26 1.0000000e+00 8.3396013e-19\n",
      " 7.4725726e-20]\n",
      "[1.6438421e-22 9.2745012e-10 2.4776927e-26 1.0000000e+00 8.5124588e-19\n",
      " 5.8103958e-20]\n",
      "[1.5522258e-22 6.2961231e-10 3.1298278e-26 1.0000000e+00 8.7276995e-19\n",
      " 4.8320046e-20]\n",
      "[1.7122294e-22 4.2069812e-10 4.1639422e-26 1.0000000e+00 8.7425277e-19\n",
      " 3.6202471e-20]\n",
      "[6.2898943e-21 1.5471217e-10 2.2198517e-21 1.0000000e+00 2.9447898e-20\n",
      " 8.8161065e-19]\n",
      "[7.5178875e-21 8.6047905e-11 1.9537657e-21 1.0000000e+00 2.1520640e-20\n",
      " 4.4212623e-19]\n",
      "[8.2462080e-21 5.0800957e-11 1.6902047e-21 1.0000000e+00 1.6363423e-20\n",
      " 2.4761331e-19]\n",
      "[9.8331540e-21 2.9695871e-11 1.6408295e-21 1.0000000e+00 1.2859093e-20\n",
      " 1.3576633e-19]\n",
      "[1.0695757e-20 2.0969950e-11 2.0199722e-21 1.0000000e+00 1.2697601e-20\n",
      " 1.0482568e-19]\n",
      "[1.2662871e-20 1.4290638e-11 2.6529861e-21 1.0000000e+00 1.2482207e-20\n",
      " 7.5675536e-20]\n",
      "[1.3773656e-20 1.0091455e-11 3.2659934e-21 1.0000000e+00 1.2325448e-20\n",
      " 5.8429357e-20]\n",
      "[1.6306841e-20 6.8771291e-12 4.2894824e-21 1.0000000e+00 1.2116367e-20\n",
      " 4.2181200e-20]\n",
      "[1.7737342e-20 4.8563428e-12 5.2806439e-21 1.0000000e+00 1.1964203e-20\n",
      " 3.2568133e-20]\n",
      "[2.0999511e-20 3.3095026e-12 6.9354522e-21 1.0000000e+00 1.1761250e-20\n",
      " 2.3511610e-20]\n",
      "[2.2841497e-20 2.3370065e-12 8.5380121e-21 1.0000000e+00 1.1613457e-20\n",
      " 1.8153399e-20]\n",
      "[3.1243500e-20 1.0566686e-10 5.6302723e-21 1.0000000e+00 1.7756637e-20\n",
      " 5.5835012e-19]\n",
      "[1.8147307e-20 8.8034892e-11 3.4225228e-21 1.0000000e+00 1.2233311e-20\n",
      " 5.3966659e-19]\n",
      "[9.2888069e-21 8.3823988e-09 4.9382023e-20 1.0000000e+00 3.1747153e-19\n",
      " 2.5855933e-15]\n",
      "[6.2240890e-21 7.8805904e-09 3.3517081e-20 1.0000000e+00 2.3295040e-19\n",
      " 2.6349105e-15]\n",
      "[5.0643584e-21 5.6181362e-11 7.2080127e-22 1.0000000e+00 3.6412281e-21\n",
      " 4.0473006e-19]\n",
      "[3.3884610e-21 4.8688567e-11 4.2701503e-22 1.0000000e+00 2.4159862e-21\n",
      " 3.6319650e-19]\n",
      "[1.8725426e-21 6.5484840e-09 1.0480283e-20 1.0000000e+00 9.2033860e-20\n",
      " 2.7886205e-15]\n",
      "[1.2547222e-21 6.1565437e-09 7.1133413e-21 1.0000000e+00 6.7531995e-20\n",
      " 2.8418101e-15]\n",
      "[9.4140838e-22 2.9240384e-11 9.4802804e-23 1.0000000e+00 7.3808038e-22\n",
      " 2.9520458e-19]\n",
      "[5.9788447e-22 2.4952210e-11 6.3299890e-23 1.0000000e+00 5.3375298e-22\n",
      " 3.0704851e-19]\n",
      "[3.9080752e-22 5.1452900e-09 2.2301811e-21 1.0000000e+00 2.6625076e-20\n",
      " 3.0211241e-15]\n",
      "[2.8029871e-22 4.5944111e-09 1.4406384e-21 1.0000000e+00 1.8324626e-20\n",
      " 2.7131435e-15]\n",
      "[1.5315106e-22 1.5504828e-11 1.8842492e-23 1.0000000e+00 2.0185077e-22\n",
      " 3.4549796e-19]\n",
      "[1.4755273e-22 4.4392752e-09 7.0970476e-22 1.0000000e+00 1.0377089e-20\n",
      " 3.2930005e-15]\n",
      "[1.0664537e-22 4.2261323e-09 4.8453634e-22 1.0000000e+00 7.5800311e-21\n",
      " 3.3889884e-15]\n",
      "[3.9230397e-23 9.6343671e-12 5.6087841e-24 1.0000000e+00 7.6334441e-23\n",
      " 3.8876064e-19]\n",
      "[2.4914868e-23 8.2213377e-12 3.7449598e-24 1.0000000e+00 5.5201671e-23\n",
      " 4.0435199e-19]\n",
      "[4.0265493e-23 3.6462890e-09 1.5419392e-22 1.0000000e+00 2.9543297e-21\n",
      " 3.6939696e-15]\n",
      "[2.91020002e-23 3.47119999e-09 1.05271525e-22 1.00000000e+00\n",
      " 2.15799002e-21 3.80160203e-15]\n",
      "[5.3586193e-24 1.6478766e-10 2.3039652e-25 1.0000000e+00 1.5562041e-22\n",
      " 2.7316873e-18]\n",
      "[8.2472416e-22 7.8235851e-10 1.4730794e-24 1.0000000e+00 1.2383801e-19\n",
      " 1.8247555e-19]\n",
      "[7.7875682e-22 5.3111282e-10 1.8607834e-24 1.0000000e+00 1.2696881e-19\n",
      " 1.5174743e-19]\n",
      "[8.0038443e-22 3.4795969e-10 2.5077050e-24 1.0000000e+00 1.2959954e-19\n",
      " 1.1799363e-19]\n",
      "[8.1115788e-22 2.4091801e-10 3.1271935e-24 1.0000000e+00 1.3040144e-19\n",
      " 9.4548696e-20]\n",
      "[9.6034225e-22 1.6418154e-10 4.1071858e-24 1.0000000e+00 1.2818987e-19\n",
      " 6.8256139e-20]\n",
      "[1.0445832e-21 1.1593774e-10 5.0562434e-24 1.0000000e+00 1.2657903e-19\n",
      " 5.2701215e-20]\n",
      "[1.2366935e-21 7.9009604e-11 6.6407053e-24 1.0000000e+00 1.2443277e-19\n",
      " 3.8045953e-20]\n",
      "[1.3451811e-21 5.5793297e-11 8.1751588e-24 1.0000000e+00 1.2287007e-19\n",
      " 2.9375420e-20]\n",
      "[1.5925806e-21 3.8022113e-11 1.0737070e-23 1.0000000e+00 1.2078578e-19\n",
      " 2.1206641e-20]\n",
      "[1.73228786e-21 2.68495851e-11 1.32181115e-23 1.00000000e+00\n",
      " 1.19268885e-19 1.63737252e-20]\n",
      "[2.0508822e-21 1.8297468e-11 1.7360238e-23 1.0000000e+00 1.1724568e-19\n",
      " 1.1820486e-20]\n",
      "[2.2307769e-21 1.2920789e-11 2.1371548e-23 1.0000000e+00 1.1577191e-19\n",
      " 9.1265705e-21]\n",
      "[2.6410510e-21 8.8053150e-12 2.8068804e-23 1.0000000e+00 1.1380890e-19\n",
      " 6.5886604e-21]\n",
      "[2.8727233e-21 6.2179003e-12 3.4554733e-23 1.0000000e+00 1.1237877e-19\n",
      " 5.0871091e-21]\n",
      "[3.4010484e-21 4.2373856e-12 4.5383237e-23 1.0000000e+00 1.1047287e-19\n",
      " 3.6724755e-21]\n",
      "[4.2740798e-21 1.9852633e-10 2.8051679e-23 1.0000000e+00 1.6966405e-19\n",
      " 1.2080789e-19]\n",
      "[2.4825336e-21 1.6539950e-10 1.7052019e-23 1.0000000e+00 1.1688841e-19\n",
      " 1.1676497e-19]\n",
      "[1.0675451e-21 4.9226947e-09 7.1376072e-23 1.0000000e+00 1.2183398e-18\n",
      " 1.5676008e-16]\n",
      "[7.1753935e-22 4.3319588e-09 4.2529972e-23 1.0000000e+00 8.1177200e-19\n",
      " 1.4189456e-16]\n",
      "[6.2534062e-22 8.9016572e-11 3.5125661e-24 1.0000000e+00 3.4045158e-20\n",
      " 9.3055518e-20]\n",
      "[3.9837721e-22 7.1101895e-11 2.0589376e-24 1.0000000e+00 2.2355826e-20\n",
      " 8.5969424e-20]\n",
      "[2.1788919e-22 2.9521847e-09 8.9975132e-24 1.0000000e+00 2.4012234e-19\n",
      " 1.0523410e-16]\n",
      "[1.4645251e-22 2.5979350e-09 5.3611957e-24 1.0000000e+00 1.5999135e-19\n",
      " 9.5254778e-17]\n",
      "[1.0299859e-22 3.6233998e-11 4.1466824e-25 1.0000000e+00 6.3298748e-21\n",
      " 6.7788033e-20]\n",
      "[6.5616402e-23 2.8941979e-11 2.4306424e-25 1.0000000e+00 4.1565575e-21\n",
      " 6.2626277e-20]\n",
      "[4.4471333e-23 1.7704385e-09 1.1341985e-24 1.0000000e+00 4.7325116e-20\n",
      " 7.0644096e-17]\n",
      "[3.0140324e-23 1.4852758e-09 6.5750137e-25 1.0000000e+00 3.0270920e-20\n",
      " 5.7289047e-17]\n",
      "[1.6964754e-23 1.4749053e-11 4.8952930e-26 1.0000000e+00 1.1768963e-21\n",
      " 4.9381458e-20]\n",
      "[1.3504240e-23 1.2065353e-09 2.3994945e-25 1.0000000e+00 1.3998833e-20\n",
      " 5.2392402e-17]\n",
      "[9.0768032e-24 1.0617521e-09 1.4297570e-25 1.0000000e+00 9.3272967e-21\n",
      " 4.7424041e-17]\n",
      "[4.3861755e-24 7.5161578e-12 9.8591150e-27 1.0000000e+00 3.3323267e-22\n",
      " 3.8937934e-20]\n",
      "[2.7942514e-24 6.0035579e-12 5.7790521e-27 1.0000000e+00 2.1881795e-22\n",
      " 3.5972986e-20]\n",
      "[2.7562561e-24 7.2357714e-10 3.0247512e-26 1.0000000e+00 2.7590375e-21\n",
      " 3.5171508e-17]\n",
      "[1.6356300e-21 1.4472330e-08 1.4507929e-19 1.0000000e+00 2.0783054e-21\n",
      " 1.7134395e-13]\n",
      "[2.7688099e-22 6.1721428e-10 2.9296830e-22 1.0000000e+00 1.4385508e-22\n",
      " 1.0013050e-16]\n",
      "[3.4321586e-21 1.2097615e-09 6.8428915e-22 1.0000000e+00 7.5066860e-20\n",
      " 2.8388586e-18]\n",
      "[3.5675601e-21 6.2271044e-10 5.7338313e-22 1.0000000e+00 5.3887431e-20\n",
      " 1.4323443e-18]\n",
      "[3.4031378e-21 3.4024300e-10 4.7224440e-22 1.0000000e+00 4.0247739e-20\n",
      " 8.0706947e-19]\n",
      "[3.7932172e-21 1.8204879e-10 4.0555011e-22 1.0000000e+00 2.9151486e-20\n",
      " 4.0597174e-19]\n",
      "[4.1606821e-21 1.0747714e-10 3.5084050e-22 1.0000000e+00 2.2165442e-20\n",
      " 2.2736233e-19]\n",
      "[4.9486092e-21 6.6393183e-11 3.7973126e-22 1.0000000e+00 1.8880294e-20\n",
      " 1.3763735e-19]\n",
      "[5.38270012e-21 4.68838406e-11 4.67474933e-22 1.00000000e+00\n",
      " 1.86430419e-20 1.06269897e-19]\n",
      "[6.3727343e-21 3.1950848e-11 6.1397340e-22 1.0000000e+00 1.8327002e-20\n",
      " 7.6718727e-20]\n",
      "[6.9316968e-21 2.2562145e-11 7.5584002e-22 1.0000000e+00 1.8096704e-20\n",
      " 5.9234811e-20]\n",
      "[8.2065736e-21 1.5375779e-11 9.9271084e-22 1.0000000e+00 1.7789858e-20\n",
      " 4.2762511e-20]\n",
      "[8.9263839e-21 1.0857591e-11 1.2220711e-21 1.0000000e+00 1.7566176e-20\n",
      " 3.3016837e-20]\n",
      "[1.0568083e-20 7.3992644e-12 1.6050468e-21 1.0000000e+00 1.7268324e-20\n",
      " 2.3835539e-20]\n",
      "[1.1495069e-20 5.2250027e-12 1.9759140e-21 1.0000000e+00 1.7051330e-20\n",
      " 1.8403295e-20]\n",
      "[1.3609292e-20 3.5607713e-12 2.5951307e-21 1.0000000e+00 1.6762145e-20\n",
      " 1.3285872e-20]\n",
      "[1.4802984e-20 2.5144255e-12 3.1947698e-21 1.0000000e+00 1.6551511e-20\n",
      " 1.0257952e-20]\n",
      "[2.0248183e-20 1.1368901e-10 2.1067541e-21 1.0000000e+00 2.5306874e-20\n",
      " 3.1551207e-19]\n",
      "[1.1760890e-20 9.4718795e-11 1.2806511e-21 1.0000000e+00 1.7434993e-20\n",
      " 3.0495438e-19]\n",
      "[5.8739073e-21 5.0081663e-09 7.3719160e-21 1.0000000e+00 2.2930646e-19\n",
      " 6.1237772e-16]\n",
      "[3.9358901e-21 4.7083906e-09 5.0035816e-21 1.0000000e+00 1.6825833e-19\n",
      " 6.2406047e-16]\n",
      "[3.2509531e-21 5.9495964e-11 2.6915682e-22 1.0000000e+00 5.1790400e-21\n",
      " 2.3000204e-19]\n",
      "[2.0710401e-21 4.7522070e-11 1.5776986e-22 1.0000000e+00 3.4008150e-21\n",
      " 2.1248842e-19]\n",
      "[1.1841240e-21 3.9124939e-09 1.5645322e-21 1.0000000e+00 6.6475116e-20\n",
      " 6.6046314e-16]\n",
      "[7.9344115e-22 3.6783163e-09 1.0619036e-21 1.0000000e+00 4.8777484e-20\n",
      " 6.7306323e-16]\n",
      "[5.3545788e-22 2.4217562e-11 3.1774715e-23 1.0000000e+00 9.6291740e-22\n",
      " 1.6754865e-19]\n",
      "[3.4111812e-22 1.9343827e-11 1.8625243e-23 1.0000000e+00 6.3230178e-22\n",
      " 1.5479057e-19]\n",
      "[2.3871093e-22 3.0565472e-09 3.3203989e-22 1.0000000e+00 1.9271045e-20\n",
      " 7.1232162e-16]\n",
      "[1.6138624e-22 2.7027494e-09 2.1350782e-22 1.0000000e+00 1.3310120e-20\n",
      " 6.3481239e-16]\n",
      "[8.8194182e-23 9.8576303e-12 3.7510936e-24 1.0000000e+00 1.7903123e-22\n",
      " 1.2205395e-19]\n",
      "[7.41859689e-23 2.55355337e-09 1.04083185e-22 1.00000000e+00\n",
      " 7.59879130e-21 7.57054278e-16]\n",
      "[5.3618731e-23 2.4309590e-09 7.1060653e-23 1.0000000e+00 5.5505790e-21\n",
      " 7.7911578e-16]\n",
      "[2.2731331e-23 5.3696201e-12 8.6143197e-25 1.0000000e+00 5.5868139e-23\n",
      " 1.0845355e-19]\n",
      "[1.4436407e-23 4.5820730e-12 5.7516983e-25 1.0000000e+00 4.0401041e-23\n",
      " 1.1280354e-19]\n",
      "[2.0244367e-23 2.0974091e-09 2.2613534e-23 1.0000000e+00 2.1633309e-21\n",
      " 8.4922983e-16]\n",
      "[1.4631729e-23 1.9966873e-09 1.5438689e-23 1.0000000e+00 1.5802051e-21\n",
      " 8.7397405e-16]\n",
      "[3.1049177e-24 9.1841208e-11 3.5385323e-26 1.0000000e+00 1.1389516e-22\n",
      " 7.6205994e-19]\n",
      "[5.34480350e-22 8.41753001e-10 5.51197576e-25 1.00000000e+00\n",
      " 1.76494054e-19 1.03111967e-19]\n",
      "[5.0469407e-22 5.7143779e-10 6.9627422e-25 1.0000000e+00 1.8095678e-19\n",
      " 8.5749000e-20]\n",
      "[5.1871045e-22 3.7437653e-10 9.3834147e-25 1.0000000e+00 1.8470612e-19\n",
      " 6.6675242e-20]\n",
      "[5.2569044e-22 2.5920882e-10 1.1701482e-24 1.0000000e+00 1.8584898e-19\n",
      " 5.3427298e-20]\n",
      "[6.2237536e-22 1.7664709e-10 1.5368287e-24 1.0000000e+00 1.8269634e-19\n",
      " 3.8570127e-20]\n",
      "[6.7696999e-22 1.2473893e-10 1.8919476e-24 1.0000000e+00 1.8040125e-19\n",
      " 2.9780134e-20]\n",
      "[8.0147824e-22 8.5008438e-11 2.4848320e-24 1.0000000e+00 1.7734306e-19\n",
      " 2.1498896e-20]\n",
      "[8.7178374e-22 6.0029197e-11 3.0590083e-24 1.0000000e+00 1.7511456e-19\n",
      " 1.6599376e-20]\n",
      "[1.0321181e-21 4.0908960e-11 4.0176177e-24 1.0000000e+00 1.7214467e-19\n",
      " 1.1983341e-20]\n",
      "[1.1226510e-21 2.8887767e-11 4.9459595e-24 1.0000000e+00 1.6998149e-19\n",
      " 9.2523463e-21]\n",
      "[1.3291289e-21 1.9686636e-11 6.4959122e-24 1.0000000e+00 1.6709930e-19\n",
      " 6.6794855e-21]\n",
      "[1.4457198e-21 1.3901778e-11 7.9969086e-24 1.0000000e+00 1.6499951e-19\n",
      " 5.1572159e-21]\n",
      "[1.7116033e-21 9.4737542e-12 1.0502880e-23 1.0000000e+00 1.6219995e-19\n",
      " 3.7230583e-21]\n",
      "[1.86174486e-21 6.68995848e-12 1.29298065e-23 1.00000000e+00\n",
      " 1.60162950e-19 2.87459783e-21]\n",
      "[2.2041484e-21 4.5591022e-12 1.6981653e-23 1.0000000e+00 1.5744604e-19\n",
      " 2.0752237e-21]\n",
      "[2.58651259e-21 1.90593458e-10 1.03420596e-23 1.00000000e+00\n",
      " 2.38323685e-19 7.10965549e-20]\n",
      "[1.4591001e-21 1.5126324e-10 6.2471532e-24 1.0000000e+00 1.6317802e-19\n",
      " 6.9917713e-20]\n",
      "[6.6138891e-22 4.5551283e-09 2.5226642e-23 1.0000000e+00 1.6662263e-18\n",
      " 8.1349640e-17]\n",
      "[4.4454566e-22 4.0085242e-09 1.5031372e-23 1.0000000e+00 1.1101958e-18\n",
      " 7.3635274e-17]\n",
      "[3.5499372e-22 7.6838286e-11 1.2772291e-24 1.0000000e+00 4.7179293e-20\n",
      " 5.6880874e-20]\n",
      "[2.2615186e-22 6.1374968e-11 7.4866489e-25 1.0000000e+00 3.0980502e-20\n",
      " 5.2549450e-20]\n",
      "[1.3499096e-22 2.7317570e-09 3.1800162e-24 1.0000000e+00 3.2839492e-19\n",
      " 5.4610563e-17]\n",
      "[9.0733109e-23 2.4039530e-09 1.8948295e-24 1.0000000e+00 2.1880742e-19\n",
      " 4.9431668e-17]\n",
      "[5.8470515e-23 3.1276853e-11 1.5078104e-25 1.0000000e+00 8.7718829e-21\n",
      " 4.1435936e-20]\n",
      "[3.7249296e-23 2.4982355e-11 8.8382651e-26 1.0000000e+00 5.7600976e-21\n",
      " 3.8280775e-20]\n",
      "[2.7552169e-23 1.6382783e-09 4.0086598e-25 1.0000000e+00 6.4723775e-20\n",
      " 3.6660863e-17]\n",
      "[1.8673264e-23 1.3743894e-09 2.3238252e-25 1.0000000e+00 4.1399281e-20\n",
      " 2.9730009e-17]\n",
      "[1.6970012e-21 2.7458114e-11 3.4073334e-21 1.0000000e+00 1.4492585e-22\n",
      " 3.1053299e-18]\n",
      "[4.4624661e-21 1.3364437e-08 1.5632987e-19 1.0000000e+00 7.7877803e-21\n",
      " 3.8797273e-14]\n",
      "[3.21055433e-21 1.25293687e-08 1.06113534e-19 1.00000000e+00\n",
      " 5.66482808e-21 3.95837673e-14]\n",
      "[5.4552753e-22 1.7715244e-11 1.0322402e-21 1.0000000e+00 5.4067517e-23\n",
      " 3.5986885e-18]\n",
      "[3.7370719e-22 1.5307656e-11 6.9326980e-22 1.0000000e+00 3.8922728e-23\n",
      " 3.7800061e-18]\n",
      "[1.1956578e-21 1.0324617e-08 3.3186296e-20 1.0000000e+00 2.1802900e-21\n",
      " 4.2040769e-14]\n",
      "[8.602314e-22 9.679509e-09 2.252618e-20 1.000000e+00 1.585942e-21\n",
      " 4.289285e-14]\n",
      "[1.2755555e-22 3.3119057e-10 4.4203764e-23 1.0000000e+00 1.0673899e-22\n",
      " 2.7114231e-17]\n"
     ]
    },
    {
     "name": "stdout",
     "output_type": "stream",
     "text": [
      "[2.2703363e-21 8.4041663e-10 1.0815056e-22 1.0000000e+00 5.6503279e-20\n",
      " 7.3213099e-19]\n",
      "[2.3599029e-21 4.3259291e-10 9.0621728e-23 1.0000000e+00 4.0560931e-20\n",
      " 3.6939480e-19]\n",
      "[2.2511480e-21 2.3636371e-10 7.4637866e-23 1.0000000e+00 3.0294372e-20\n",
      " 2.0813860e-19]\n",
      "[2.4904251e-21 1.4843943e-10 8.7880512e-23 1.0000000e+00 2.7720784e-20\n",
      " 1.3953416e-19]\n",
      "[2.70888484e-21 1.04821755e-10 1.08186455e-22 1.00000000e+00\n",
      " 2.73725471e-20 1.07734426e-19]\n",
      "[3.2071024e-21 7.1434254e-11 1.4208966e-22 1.0000000e+00 2.6908318e-20\n",
      " 7.7776303e-20]\n",
      "[3.4884024e-21 5.0443611e-11 1.7492134e-22 1.0000000e+00 2.6570287e-20\n",
      " 6.0050908e-20]\n",
      "[4.1299888e-21 3.4376269e-11 2.2973775e-22 1.0000000e+00 2.6119564e-20\n",
      " 4.3351828e-20]\n",
      "[4.4922705e-21 2.4275092e-11 2.8282277e-22 1.0000000e+00 2.5791540e-20\n",
      " 3.3472106e-20]\n",
      "[5.3184680e-21 1.6542970e-11 3.7145022e-22 1.0000000e+00 2.5353931e-20\n",
      " 2.4163930e-20]\n",
      "[5.7850249e-21 1.1681980e-11 4.5728214e-22 1.0000000e+00 2.5035618e-20\n",
      " 1.8657201e-20]\n",
      "[6.8489537e-21 7.9610710e-12 6.0058179e-22 1.0000000e+00 2.4611022e-20\n",
      " 1.3468967e-20]\n",
      "[7.4497429e-21 5.6217240e-12 7.3935694e-22 1.0000000e+00 2.4301759e-20\n",
      " 1.0399360e-20]\n",
      "[8.8198650e-21 3.8311099e-12 9.7105481e-22 1.0000000e+00 2.3889517e-20\n",
      " 7.5075130e-21]\n",
      "[9.5935777e-21 2.7053550e-12 1.1954342e-21 1.0000000e+00 2.3589500e-20\n",
      " 5.7966002e-21]\n",
      "[1.3122374e-20 1.2232113e-10 7.8831236e-22 1.0000000e+00 3.6067660e-20\n",
      " 1.7828864e-19]\n",
      "[7.5854401e-21 1.0109974e-10 4.7869953e-22 1.0000000e+00 2.4823170e-20\n",
      " 1.7281447e-19]\n",
      "[3.6499894e-21 4.3488888e-09 2.2988252e-21 1.0000000e+00 2.8582536e-19\n",
      " 2.8356254e-16]\n",
      "[2.4533024e-21 3.8270040e-09 1.3697620e-21 1.0000000e+00 1.9044214e-19\n",
      " 2.5667139e-16]\n",
      "[1.8454888e-21 5.1355784e-11 9.7869277e-23 1.0000000e+00 7.1769849e-21\n",
      " 1.4058939e-19]\n",
      "[1.1756848e-21 4.1020458e-11 5.7367820e-23 1.0000000e+00 4.7127824e-21\n",
      " 1.2988462e-19]\n",
      "[7.4497101e-22 2.6080531e-09 2.8978496e-22 1.0000000e+00 5.6332829e-20\n",
      " 1.9035673e-16]\n",
      "[5.0072639e-22 2.2951021e-09 1.7267056e-22 1.0000000e+00 3.7534199e-20\n",
      " 1.7230590e-16]\n",
      "[3.0396787e-22 2.0904218e-11 1.1553785e-23 1.0000000e+00 1.3343921e-21\n",
      " 1.0241497e-19]\n",
      "[1.9364538e-22 1.6697350e-11 6.7724308e-24 1.0000000e+00 8.7623468e-22\n",
      " 9.4616524e-20]\n",
      "[1.5095219e-22 1.8261784e-09 4.9567851e-23 1.0000000e+00 1.3919225e-20\n",
      " 1.6870914e-16]\n",
      "[1.0205485e-22 1.6148030e-09 3.1873291e-23 1.0000000e+00 9.6138372e-21\n",
      " 1.5035152e-16]\n",
      "[5.0066313e-23 8.5090476e-12 1.3639617e-24 1.0000000e+00 2.4809893e-22\n",
      " 7.4606101e-20]\n",
      "[4.5414236e-23 1.5174850e-09 1.5498996e-23 1.0000000e+00 5.4991759e-21\n",
      " 1.7854958e-16]\n",
      "[3.0430650e-23 1.4266578e-09 1.0519761e-23 1.0000000e+00 4.0351643e-21\n",
      " 1.8195590e-16]\n",
      "[1.2944414e-23 4.3362427e-12 2.7470072e-25 1.0000000e+00 7.0248045e-23\n",
      " 5.8828122e-20]\n",
      "[8.2462896e-24 3.4635825e-12 1.6101887e-25 1.0000000e+00 4.6128528e-23\n",
      " 5.4348416e-20]\n",
      "[1.0178381e-23 1.2064709e-09 3.3164205e-24 1.0000000e+00 1.5841342e-21\n",
      " 1.9523625e-16]\n",
      "[7.3564821e-24 1.1485425e-09 2.2641921e-24 1.0000000e+00 1.1571352e-21\n",
      " 2.0092490e-16]\n",
      "[3.1927061e-24 1.8867755e-10 2.0923565e-26 1.0000000e+00 1.9200507e-22\n",
      " 2.8323254e-18]\n",
      "[4.5038333e-22 9.2080504e-10 1.8021224e-25 1.0000000e+00 1.8974166e-19\n",
      " 2.6423938e-19]\n",
      "[4.2528211e-22 6.2510597e-10 2.2764457e-25 1.0000000e+00 1.9454083e-19\n",
      " 2.1974593e-19]\n",
      "[4.3709468e-22 4.0953949e-10 3.0678766e-25 1.0000000e+00 1.9857238e-19\n",
      " 1.7086695e-19]\n",
      "[4.4297304e-22 2.8355260e-10 3.8257321e-25 1.0000000e+00 1.9979952e-19\n",
      " 1.3691574e-19]\n",
      "[5.2444659e-22 1.9323702e-10 5.0246111e-25 1.0000000e+00 1.9641099e-19\n",
      " 9.8841925e-20]\n",
      "[5.7045311e-22 1.3645569e-10 6.1856842e-25 1.0000000e+00 1.9394287e-19\n",
      " 7.6316213e-20]\n",
      "[6.7536561e-22 9.2991892e-11 8.1240766e-25 1.0000000e+00 1.9065513e-19\n",
      " 5.5093835e-20]\n",
      "[7.3461136e-22 6.5667256e-11 1.0001327e-24 1.0000000e+00 1.8825933e-19\n",
      " 4.2538312e-20]\n",
      "[8.6971771e-22 4.4751210e-11 1.3135469e-24 1.0000000e+00 1.8506723e-19\n",
      " 3.0709171e-20]\n",
      "[9.46005532e-22 3.16010204e-11 1.61705905e-24 1.00000000e+00\n",
      " 1.82741659e-19 2.37105717e-20]\n",
      "[1.1199862e-21 2.1535520e-11 2.1238009e-24 1.0000000e+00 1.7964173e-19\n",
      " 1.7117152e-20]\n",
      "[1.2182358e-21 1.5207431e-11 2.6145531e-24 1.0000000e+00 1.7738569e-19\n",
      " 1.3216165e-20]\n",
      "[1.4422935e-21 1.0363647e-11 3.4338819e-24 1.0000000e+00 1.7437796e-19\n",
      " 9.5410235e-21]\n",
      "[1.5687992e-21 7.3183204e-12 4.2273253e-24 1.0000000e+00 1.7218540e-19\n",
      " 7.3666023e-21]\n",
      "[1.8573327e-21 4.9872923e-12 5.5520740e-24 1.0000000e+00 1.6926519e-19\n",
      " 5.3180827e-21]\n",
      "[2.3341003e-21 2.3365990e-10 3.4317867e-24 1.0000000e+00 2.5995823e-19\n",
      " 1.7494163e-19]\n",
      "[1.3557263e-21 1.9467015e-10 2.0861103e-24 1.0000000e+00 1.7909572e-19\n",
      " 1.6908772e-19]\n",
      "[5.5084741e-22 4.7917954e-09 8.1265603e-24 1.0000000e+00 1.7722413e-18\n",
      " 2.0391625e-16]\n",
      "[3.7024774e-22 4.2167922e-09 4.8422913e-24 1.0000000e+00 1.1808284e-18\n",
      " 1.8457821e-16]\n",
      "[3.6980451e-22 1.1960567e-10 4.3718405e-25 1.0000000e+00 5.3051174e-20\n",
      " 1.2853901e-19]\n",
      "[2.3558540e-22 9.5534906e-11 2.5626028e-25 1.0000000e+00 3.4836033e-20\n",
      " 1.1875089e-19]\n",
      "[1.17667694e-20 2.26282033e-08 1.17115654e-18 1.00000000e+00\n",
      " 1.20955920e-19 1.15666103e-13]\n",
      "[8.5044983e-21 2.1541920e-08 7.9957698e-19 1.0000000e+00 8.8353255e-20\n",
      " 1.1903584e-13]\n",
      "[2.4805172e-21 7.1954429e-11 8.9268265e-21 1.0000000e+00 9.4916845e-22\n",
      " 8.7613291e-18]\n",
      "[1.6859676e-21 6.6826669e-11 6.0326864e-21 1.0000000e+00 6.9277805e-22\n",
      " 8.8731639e-18]\n",
      "[3.2109707e-21 1.8586029e-08 2.5444828e-19 1.0000000e+00 3.4435568e-20\n",
      " 1.2974885e-13]\n",
      "[2.3029857e-21 1.6596122e-08 1.6436501e-19 1.0000000e+00 2.3700172e-20\n",
      " 1.1652060e-13]\n",
      "[5.6992239e-22 4.6874719e-11 1.8475949e-21 1.0000000e+00 2.6122527e-22\n",
      " 9.9810872e-18]\n",
      "[1.2122880e-21 1.6033622e-08 8.0968400e-20 1.0000000e+00 1.3420757e-20\n",
      " 1.4141547e-13]\n",
      "[8.721929e-22 1.503183e-08 5.495970e-20 1.000000e+00 9.762253e-21\n",
      " 1.442825e-13]\n",
      "[1.8321043e-22 3.0242493e-11 5.5972052e-22 1.0000000e+00 9.7456116e-23\n",
      " 1.1566962e-17]\n",
      "[1.2550518e-22 2.6132341e-11 3.7592052e-22 1.0000000e+00 7.0157528e-23\n",
      " 1.2149710e-17]\n",
      "[3.2481624e-22 1.2386752e-08 1.7188343e-20 1.0000000e+00 3.7573149e-21\n",
      " 1.5323678e-13]\n",
      "[2.3369321e-22 1.1612774e-08 1.1667052e-20 1.0000000e+00 2.7330797e-21\n",
      " 1.5634407e-13]\n",
      "[4.2838038e-23 5.6538496e-10 2.3968988e-23 1.0000000e+00 1.9239366e-22\n",
      " 8.7150664e-17]\n",
      "policy estimator\n",
      "tensor([[9.9088e-22, 2.9805e-05, 2.2093e-18, 9.9997e-01, 5.6670e-15, 2.1605e-15],\n",
      "        [1.0347e-22, 2.9710e-05, 2.3891e-18, 9.9997e-01, 2.2793e-13, 3.4333e-16],\n",
      "        [1.3507e-22, 4.7326e-06, 3.5102e-18, 1.0000e+00, 1.3805e-13, 7.9966e-17],\n",
      "        ...,\n",
      "        [3.2482e-22, 1.2387e-08, 1.7188e-20, 1.0000e+00, 3.7573e-21, 1.5324e-13],\n",
      "        [2.3370e-22, 1.1613e-08, 1.1667e-20, 1.0000e+00, 2.7331e-21, 1.5634e-13],\n",
      "        [4.2838e-23, 5.6539e-10, 2.3969e-23, 1.0000e+00, 1.9239e-22, 8.7151e-17]],\n",
      "       grad_fn=<SoftmaxBackward0>)\n",
      "1\n",
      "[0.00e+00 1.00e+00 0.00e+00 0.00e+00 7.86e-43 0.00e+00]\n",
      "[0.000e+00 1.000e+00 0.000e+00 0.000e+00 1.609e-41 0.000e+00]\n",
      "[0.0000e+00 1.0000e+00 0.0000e+00 0.0000e+00 2.7747e-41 0.0000e+00]\n",
      "[0.0000e+00 1.0000e+00 0.0000e+00 0.0000e+00 4.3547e-41 0.0000e+00]\n",
      "[0.0000e+00 1.0000e+00 0.0000e+00 0.0000e+00 5.6596e-41 0.0000e+00]\n",
      "[0.0000e+00 1.0000e+00 0.0000e+00 0.0000e+00 6.6939e-41 0.0000e+00]\n",
      "[0.000e+00 1.000e+00 0.000e+00 0.000e+00 7.917e-41 0.000e+00]\n",
      "[0.0000e+00 1.0000e+00 0.0000e+00 0.0000e+00 9.3638e-41 0.0000e+00]\n",
      "[0.00000e+00 1.00000e+00 0.00000e+00 0.00000e+00 1.10749e-40 0.00000e+00]\n",
      "[0.00000e+00 1.00000e+00 0.00000e+00 0.00000e+00 1.30986e-40 0.00000e+00]\n",
      "[0.00000e+00 1.00000e+00 0.00000e+00 0.00000e+00 1.54925e-40 0.00000e+00]\n",
      "[0.00000e+00 1.00000e+00 0.00000e+00 0.00000e+00 1.83232e-40 0.00000e+00]\n",
      "[0.00000e+00 1.00000e+00 0.00000e+00 0.00000e+00 2.16718e-40 0.00000e+00]\n",
      "[0.00000e+00 1.00000e+00 0.00000e+00 0.00000e+00 2.56319e-40 0.00000e+00]\n",
      "[0.0000e+00 1.0000e+00 0.0000e+00 0.0000e+00 3.0316e-40 0.0000e+00]\n",
      "[0. 1. 0. 0. 0. 0.]\n",
      "[0. 1. 0. 0. 0. 0.]\n",
      "[0. 1. 0. 0. 0. 0.]\n",
      "[0. 1. 0. 0. 0. 0.]\n",
      "[0. 1. 0. 0. 0. 0.]\n",
      "[0. 1. 0. 0. 0. 0.]\n",
      "[0. 1. 0. 0. 0. 0.]\n",
      "[0. 1. 0. 0. 0. 0.]\n",
      "[0. 1. 0. 0. 0. 0.]\n",
      "[0. 1. 0. 0. 0. 0.]\n",
      "[0. 1. 0. 0. 0. 0.]\n",
      "[0. 1. 0. 0. 0. 0.]\n",
      "[0. 1. 0. 0. 0. 0.]\n",
      "[0. 1. 0. 0. 0. 0.]\n",
      "[0. 1. 0. 0. 0. 0.]\n",
      "[0. 1. 0. 0. 0. 0.]\n",
      "[0. 1. 0. 0. 0. 0.]\n",
      "[0.e+00 1.e+00 0.e+00 0.e+00 4.e-45 0.e+00]\n",
      "[0.e+00 1.e+00 0.e+00 0.e+00 4.e-45 0.e+00]\n",
      "[0.e+00 1.e+00 0.e+00 0.e+00 1.e-45 0.e+00]\n",
      "[0.e+00 1.e+00 0.e+00 0.e+00 1.e-45 0.e+00]\n",
      "[0.0e+00 1.0e+00 0.0e+00 0.0e+00 1.1e-44 0.0e+00]\n",
      "[0.0e+00 1.0e+00 0.0e+00 0.0e+00 1.5e-44 0.0e+00]\n",
      "[0.e+00 1.e+00 0.e+00 0.e+00 6.e-45 0.e+00]\n",
      "[0.e+00 1.e+00 0.e+00 0.e+00 7.e-45 0.e+00]\n",
      "[0.0e+00 1.0e+00 0.0e+00 0.0e+00 3.8e-44 0.0e+00]\n",
      "[0.0e+00 1.0e+00 0.0e+00 0.0e+00 4.8e-44 0.0e+00]\n",
      "[0.e+00 1.e+00 0.e+00 0.e+00 2.e-44 0.e+00]\n",
      "[0.0e+00 1.0e+00 0.0e+00 0.0e+00 8.7e-44 0.0e+00]\n",
      "[0.0e+00 1.0e+00 0.0e+00 0.0e+00 1.2e-43 0.0e+00]\n",
      "[0.e+00 1.e+00 0.e+00 0.e+00 5.e-44 0.e+00]\n",
      "[0.0e+00 1.0e+00 0.0e+00 0.0e+00 7.1e-44 0.0e+00]\n",
      "[0.00e+00 1.00e+00 0.00e+00 0.00e+00 1.08e-43 0.00e+00]\n",
      "[0.00e+00 1.00e+00 0.00e+00 0.00e+00 1.35e-43 0.00e+00]\n",
      "[0.0e+00 1.0e+00 0.0e+00 0.0e+00 3.6e-44 0.0e+00]\n",
      "[0.e+00 1.e+00 0.e+00 0.e+00 2.e-44 0.e+00]\n",
      "[0.0e+00 1.0e+00 0.0e+00 0.0e+00 3.2e-44 0.0e+00]\n",
      "[0.0e+00 1.0e+00 0.0e+00 0.0e+00 1.7e-44 0.0e+00]\n",
      "[0.e+00 1.e+00 0.e+00 0.e+00 4.e-45 0.e+00]\n",
      "[0.e+00 1.e+00 0.e+00 0.e+00 3.e-45 0.e+00]\n",
      "[0.e+00 1.e+00 0.e+00 0.e+00 3.e-45 0.e+00]\n",
      "[0.e+00 1.e+00 0.e+00 0.e+00 1.e-45 0.e+00]\n",
      "[0. 1. 0. 0. 0. 0.]\n",
      "[0. 1. 0. 0. 0. 0.]\n",
      "[0. 1. 0. 0. 0. 0.]\n"
     ]
    },
    {
     "name": "stdout",
     "output_type": "stream",
     "text": [
      "[0. 1. 0. 0. 0. 0.]\n",
      "[0. 1. 0. 0. 0. 0.]\n",
      "[0. 1. 0. 0. 0. 0.]\n",
      "[0. 1. 0. 0. 0. 0.]\n",
      "[0. 1. 0. 0. 0. 0.]\n",
      "[0. 1. 0. 0. 0. 0.]\n",
      "[0. 1. 0. 0. 0. 0.]\n",
      "[0. 1. 0. 0. 0. 0.]\n",
      "[0.e+00 1.e+00 0.e+00 0.e+00 1.e-45 0.e+00]\n",
      "[0.e+00 1.e+00 0.e+00 0.e+00 1.e-45 0.e+00]\n",
      "[0.e+00 1.e+00 0.e+00 0.e+00 3.e-45 0.e+00]\n",
      "[0.e+00 1.e+00 0.e+00 0.e+00 3.e-45 0.e+00]\n",
      "[0.e+00 1.e+00 0.e+00 0.e+00 6.e-45 0.e+00]\n",
      "[0.e+00 1.e+00 0.e+00 0.e+00 1.e-44 0.e+00]\n",
      "[0.0e+00 1.0e+00 0.0e+00 0.0e+00 1.7e-44 0.0e+00]\n",
      "[0.0e+00 1.0e+00 0.0e+00 0.0e+00 2.5e-44 0.0e+00]\n",
      "[0.0e+00 1.0e+00 0.0e+00 0.0e+00 4.3e-44 0.0e+00]\n",
      "[0.0e+00 1.0e+00 0.0e+00 0.0e+00 6.9e-44 0.0e+00]\n",
      "[0.00e+00 1.00e+00 0.00e+00 0.00e+00 1.18e-43 0.00e+00]\n",
      "[0.00e+00 1.00e+00 0.00e+00 0.00e+00 1.86e-43 0.00e+00]\n",
      "[0.e+00 1.e+00 0.e+00 0.e+00 1.e-45 0.e+00]\n",
      "[0.e+00 1.e+00 0.e+00 0.e+00 1.e-45 0.e+00]\n",
      "[0.e+00 1.e+00 0.e+00 0.e+00 1.e-45 0.e+00]\n",
      "[0.e+00 1.e+00 0.e+00 0.e+00 1.e-45 0.e+00]\n",
      "[0. 1. 0. 0. 0. 0.]\n",
      "[0. 1. 0. 0. 0. 0.]\n",
      "[0. 1. 0. 0. 0. 0.]\n",
      "[0. 1. 0. 0. 0. 0.]\n",
      "[0. 1. 0. 0. 0. 0.]\n",
      "[0. 1. 0. 0. 0. 0.]\n",
      "[0. 1. 0. 0. 0. 0.]\n",
      "[0. 1. 0. 0. 0. 0.]\n",
      "[0. 1. 0. 0. 0. 0.]\n",
      "[0. 1. 0. 0. 0. 0.]\n",
      "[0. 1. 0. 0. 0. 0.]\n",
      "[0. 1. 0. 0. 0. 0.]\n",
      "[0. 1. 0. 0. 0. 0.]\n",
      "[0. 1. 0. 0. 0. 0.]\n",
      "[0. 1. 0. 0. 0. 0.]\n",
      "[0. 1. 0. 0. 0. 0.]\n",
      "[0. 1. 0. 0. 0. 0.]\n",
      "[0. 1. 0. 0. 0. 0.]\n",
      "[0. 1. 0. 0. 0. 0.]\n",
      "[0. 1. 0. 0. 0. 0.]\n",
      "[0. 1. 0. 0. 0. 0.]\n",
      "[0. 1. 0. 0. 0. 0.]\n",
      "[0. 1. 0. 0. 0. 0.]\n",
      "[0. 1. 0. 0. 0. 0.]\n",
      "[0.e+00 1.e+00 0.e+00 0.e+00 1.e-45 0.e+00]\n",
      "[0.e+00 1.e+00 0.e+00 0.e+00 1.e-45 0.e+00]\n",
      "[0.e+00 1.e+00 0.e+00 0.e+00 3.e-45 0.e+00]\n",
      "[0.e+00 1.e+00 0.e+00 0.e+00 6.e-45 0.e+00]\n",
      "[0.e+00 1.e+00 0.e+00 0.e+00 8.e-45 0.e+00]\n",
      "[0.0e+00 1.0e+00 0.0e+00 0.0e+00 1.3e-44 0.0e+00]\n",
      "[0.0e+00 1.0e+00 0.0e+00 0.0e+00 2.1e-44 0.0e+00]\n",
      "[0.e+00 1.e+00 0.e+00 0.e+00 1.e-45 0.e+00]\n",
      "[0.e+00 1.e+00 0.e+00 0.e+00 1.e-45 0.e+00]\n",
      "[0.e+00 1.e+00 0.e+00 0.e+00 1.e-45 0.e+00]\n",
      "[0.e+00 1.e+00 0.e+00 0.e+00 1.e-45 0.e+00]\n",
      "[0. 1. 0. 0. 0. 0.]\n",
      "[0. 1. 0. 0. 0. 0.]\n",
      "[0. 1. 0. 0. 0. 0.]\n",
      "[0. 1. 0. 0. 0. 0.]\n",
      "[0. 1. 0. 0. 0. 0.]\n",
      "[0. 1. 0. 0. 0. 0.]\n",
      "[0. 1. 0. 0. 0. 0.]\n",
      "[0. 1. 0. 0. 0. 0.]\n",
      "[0. 1. 0. 0. 0. 0.]\n",
      "[0. 1. 0. 0. 0. 0.]\n",
      "[0. 1. 0. 0. 0. 0.]\n",
      "[0. 1. 0. 0. 0. 0.]\n",
      "[0. 1. 0. 0. 0. 0.]\n",
      "[0. 1. 0. 0. 0. 0.]\n",
      "[0. 1. 0. 0. 0. 0.]\n",
      "[0. 1. 0. 0. 0. 0.]\n",
      "[0. 1. 0. 0. 0. 0.]\n",
      "[0. 1. 0. 0. 0. 0.]\n",
      "[0. 1. 0. 0. 0. 0.]\n",
      "[0. 1. 0. 0. 0. 0.]\n",
      "[0. 1. 0. 0. 0. 0.]\n",
      "[0. 1. 0. 0. 0. 0.]\n",
      "[0. 1. 0. 0. 0. 0.]\n",
      "[0.e+00 1.e+00 0.e+00 0.e+00 1.e-45 0.e+00]\n",
      "[0.e+00 1.e+00 0.e+00 0.e+00 1.e-45 0.e+00]\n",
      "[0.e+00 1.e+00 0.e+00 0.e+00 1.e-45 0.e+00]\n",
      "[0.e+00 1.e+00 0.e+00 0.e+00 3.e-45 0.e+00]\n",
      "[0.e+00 1.e+00 0.e+00 0.e+00 6.e-45 0.e+00]\n",
      "[0.e+00 1.e+00 0.e+00 0.e+00 8.e-45 0.e+00]\n",
      "[0.0e+00 1.0e+00 0.0e+00 0.0e+00 1.4e-44 0.0e+00]\n",
      "[0.0e+00 1.0e+00 0.0e+00 0.0e+00 2.2e-44 0.0e+00]\n",
      "[0.e+00 1.e+00 0.e+00 0.e+00 1.e-45 0.e+00]\n",
      "[0.e+00 1.e+00 0.e+00 0.e+00 1.e-45 0.e+00]\n",
      "[0.e+00 1.e+00 0.e+00 0.e+00 1.e-45 0.e+00]\n",
      "[0.e+00 1.e+00 0.e+00 0.e+00 1.e-45 0.e+00]\n",
      "[0. 1. 0. 0. 0. 0.]\n",
      "[0. 1. 0. 0. 0. 0.]\n",
      "[0. 1. 0. 0. 0. 0.]\n",
      "[0. 1. 0. 0. 0. 0.]\n",
      "[0. 1. 0. 0. 0. 0.]\n",
      "[0. 1. 0. 0. 0. 0.]\n",
      "[0. 1. 0. 0. 0. 0.]\n",
      "[0. 1. 0. 0. 0. 0.]\n",
      "[0. 1. 0. 0. 0. 0.]\n",
      "[0. 1. 0. 0. 0. 0.]\n",
      "[0. 1. 0. 0. 0. 0.]\n",
      "[0. 1. 0. 0. 0. 0.]\n",
      "[0. 1. 0. 0. 0. 0.]\n",
      "[0. 1. 0. 0. 0. 0.]\n",
      "[0. 1. 0. 0. 0. 0.]\n",
      "[0. 1. 0. 0. 0. 0.]\n",
      "[0. 1. 0. 0. 0. 0.]\n",
      "[0. 1. 0. 0. 0. 0.]\n",
      "[0. 1. 0. 0. 0. 0.]\n",
      "[0. 1. 0. 0. 0. 0.]\n",
      "[0. 1. 0. 0. 0. 0.]\n",
      "[0. 1. 0. 0. 0. 0.]\n",
      "[0. 1. 0. 0. 0. 0.]\n",
      "[0.e+00 1.e+00 0.e+00 0.e+00 1.e-45 0.e+00]\n",
      "[0.e+00 1.e+00 0.e+00 0.e+00 1.e-45 0.e+00]\n",
      "[0.e+00 1.e+00 0.e+00 0.e+00 1.e-45 0.e+00]\n",
      "[0.e+00 1.e+00 0.e+00 0.e+00 3.e-45 0.e+00]\n",
      "[0.e+00 1.e+00 0.e+00 0.e+00 6.e-45 0.e+00]\n",
      "[0.e+00 1.e+00 0.e+00 0.e+00 8.e-45 0.e+00]\n",
      "[0.0e+00 1.0e+00 0.0e+00 0.0e+00 1.3e-44 0.0e+00]\n",
      "[0.0e+00 1.0e+00 0.0e+00 0.0e+00 2.1e-44 0.0e+00]\n",
      "[0.e+00 1.e+00 0.e+00 0.e+00 1.e-45 0.e+00]\n",
      "[0.e+00 1.e+00 0.e+00 0.e+00 1.e-45 0.e+00]\n",
      "[0.e+00 1.e+00 0.e+00 0.e+00 1.e-45 0.e+00]\n",
      "[0.e+00 1.e+00 0.e+00 0.e+00 1.e-45 0.e+00]\n",
      "[0. 1. 0. 0. 0. 0.]\n",
      "[0. 1. 0. 0. 0. 0.]\n",
      "[0. 1. 0. 0. 0. 0.]\n",
      "[0. 1. 0. 0. 0. 0.]\n",
      "[0. 1. 0. 0. 0. 0.]\n",
      "[0. 1. 0. 0. 0. 0.]\n",
      "[0. 1. 0. 0. 0. 0.]\n",
      "[0. 1. 0. 0. 0. 0.]\n",
      "[0. 1. 0. 0. 0. 0.]\n",
      "[0. 1. 0. 0. 0. 0.]\n",
      "[0. 1. 0. 0. 0. 0.]\n",
      "[0. 1. 0. 0. 0. 0.]\n",
      "[0. 1. 0. 0. 0. 0.]\n",
      "[0. 1. 0. 0. 0. 0.]\n",
      "[0. 1. 0. 0. 0. 0.]\n",
      "[0. 1. 0. 0. 0. 0.]\n",
      "[0. 1. 0. 0. 0. 0.]\n",
      "[0. 1. 0. 0. 0. 0.]\n",
      "[0. 1. 0. 0. 0. 0.]\n",
      "[0. 1. 0. 0. 0. 0.]\n",
      "[0. 1. 0. 0. 0. 0.]\n",
      "[0. 1. 0. 0. 0. 0.]\n",
      "[0. 1. 0. 0. 0. 0.]\n",
      "[0. 1. 0. 0. 0. 0.]\n",
      "[0.e+00 1.e+00 0.e+00 0.e+00 1.e-45 0.e+00]\n",
      "[0.e+00 1.e+00 0.e+00 0.e+00 1.e-45 0.e+00]\n",
      "[0.e+00 1.e+00 0.e+00 0.e+00 3.e-45 0.e+00]\n",
      "[0.e+00 1.e+00 0.e+00 0.e+00 4.e-45 0.e+00]\n",
      "[0.e+00 1.e+00 0.e+00 0.e+00 7.e-45 0.e+00]\n",
      "[0.0e+00 1.0e+00 0.0e+00 0.0e+00 1.3e-44 0.0e+00]\n",
      "[0.e+00 1.e+00 0.e+00 0.e+00 2.e-44 0.e+00]\n",
      "[0.e+00 1.e+00 0.e+00 0.e+00 1.e-45 0.e+00]\n",
      "[0.e+00 1.e+00 0.e+00 0.e+00 1.e-45 0.e+00]\n",
      "[0.e+00 1.e+00 0.e+00 0.e+00 1.e-45 0.e+00]\n",
      "[0.e+00 1.e+00 0.e+00 0.e+00 1.e-45 0.e+00]\n",
      "[0. 1. 0. 0. 0. 0.]\n",
      "[0. 1. 0. 0. 0. 0.]\n",
      "[0. 1. 0. 0. 0. 0.]\n",
      "[0. 1. 0. 0. 0. 0.]\n",
      "[0. 1. 0. 0. 0. 0.]\n",
      "[0. 1. 0. 0. 0. 0.]\n",
      "[0. 1. 0. 0. 0. 0.]\n",
      "[0. 1. 0. 0. 0. 0.]\n",
      "[0. 1. 0. 0. 0. 0.]\n",
      "[0. 1. 0. 0. 0. 0.]\n",
      "[0. 1. 0. 0. 0. 0.]\n",
      "[0. 1. 0. 0. 0. 0.]\n",
      "[0. 1. 0. 0. 0. 0.]\n",
      "[0. 1. 0. 0. 0. 0.]\n",
      "[0. 1. 0. 0. 0. 0.]\n",
      "[0. 1. 0. 0. 0. 0.]\n",
      "[0. 1. 0. 0. 0. 0.]\n",
      "[0. 1. 0. 0. 0. 0.]\n",
      "[0. 1. 0. 0. 0. 0.]\n",
      "[0. 1. 0. 0. 0. 0.]\n",
      "[0. 1. 0. 0. 0. 0.]\n",
      "[0. 1. 0. 0. 0. 0.]\n",
      "[0. 1. 0. 0. 0. 0.]\n",
      "[0. 1. 0. 0. 0. 0.]\n",
      "[0.e+00 1.e+00 0.e+00 0.e+00 1.e-45 0.e+00]\n",
      "[0.e+00 1.e+00 0.e+00 0.e+00 1.e-45 0.e+00]\n",
      "[0.e+00 1.e+00 0.e+00 0.e+00 3.e-45 0.e+00]\n",
      "[0.e+00 1.e+00 0.e+00 0.e+00 4.e-45 0.e+00]\n",
      "[0.e+00 1.e+00 0.e+00 0.e+00 8.e-45 0.e+00]\n",
      "[0.0e+00 1.0e+00 0.0e+00 0.0e+00 1.3e-44 0.0e+00]\n",
      "[0.e+00 1.e+00 0.e+00 0.e+00 2.e-44 0.e+00]\n",
      "[0.e+00 1.e+00 0.e+00 0.e+00 1.e-45 0.e+00]\n",
      "[0.e+00 1.e+00 0.e+00 0.e+00 1.e-45 0.e+00]\n",
      "[0.e+00 1.e+00 0.e+00 0.e+00 1.e-45 0.e+00]\n",
      "[0. 1. 0. 0. 0. 0.]\n",
      "[0. 1. 0. 0. 0. 0.]\n",
      "[0. 1. 0. 0. 0. 0.]\n",
      "[0. 1. 0. 0. 0. 0.]\n",
      "[0. 1. 0. 0. 0. 0.]\n",
      "[0. 1. 0. 0. 0. 0.]\n",
      "[0. 1. 0. 0. 0. 0.]\n",
      "[0. 1. 0. 0. 0. 0.]\n",
      "[0. 1. 0. 0. 0. 0.]\n",
      "[0. 1. 0. 0. 0. 0.]\n",
      "[0. 1. 0. 0. 0. 0.]\n",
      "[0. 1. 0. 0. 0. 0.]\n",
      "[0. 1. 0. 0. 0. 0.]\n",
      "[0. 1. 0. 0. 0. 0.]\n",
      "[0. 1. 0. 0. 0. 0.]\n",
      "[0. 1. 0. 0. 0. 0.]\n",
      "[0. 1. 0. 0. 0. 0.]\n",
      "[0. 1. 0. 0. 0. 0.]\n",
      "[0. 1. 0. 0. 0. 0.]\n",
      "[0. 1. 0. 0. 0. 0.]\n",
      "[0. 1. 0. 0. 0. 0.]\n",
      "[0. 1. 0. 0. 0. 0.]\n",
      "[0. 1. 0. 0. 0. 0.]\n",
      "[0. 1. 0. 0. 0. 0.]\n",
      "[0. 1. 0. 0. 0. 0.]\n",
      "[0.e+00 1.e+00 0.e+00 0.e+00 1.e-45 0.e+00]\n",
      "[0.e+00 1.e+00 0.e+00 0.e+00 1.e-45 0.e+00]\n",
      "[0.e+00 1.e+00 0.e+00 0.e+00 3.e-45 0.e+00]\n",
      "[0.e+00 1.e+00 0.e+00 0.e+00 4.e-45 0.e+00]\n",
      "[0.e+00 1.e+00 0.e+00 0.e+00 7.e-45 0.e+00]\n",
      "[0.0e+00 1.0e+00 0.0e+00 0.0e+00 1.1e-44 0.0e+00]\n",
      "[0.0e+00 1.0e+00 0.0e+00 0.0e+00 1.7e-44 0.0e+00]\n",
      "[0.e+00 1.e+00 0.e+00 0.e+00 1.e-45 0.e+00]\n",
      "[0.e+00 1.e+00 0.e+00 0.e+00 1.e-45 0.e+00]\n",
      "[0.e+00 1.e+00 0.e+00 0.e+00 1.e-45 0.e+00]\n",
      "[0. 1. 0. 0. 0. 0.]\n",
      "[0. 1. 0. 0. 0. 0.]\n",
      "[0. 1. 0. 0. 0. 0.]\n",
      "[0. 1. 0. 0. 0. 0.]\n",
      "[0. 1. 0. 0. 0. 0.]\n",
      "[0. 1. 0. 0. 0. 0.]\n",
      "[0. 1. 0. 0. 0. 0.]\n",
      "[0. 1. 0. 0. 0. 0.]\n",
      "[0. 1. 0. 0. 0. 0.]\n",
      "[0. 1. 0. 0. 0. 0.]\n",
      "[0. 1. 0. 0. 0. 0.]\n",
      "[0. 1. 0. 0. 0. 0.]\n",
      "[0. 1. 0. 0. 0. 0.]\n",
      "[0. 1. 0. 0. 0. 0.]\n",
      "[0. 1. 0. 0. 0. 0.]\n",
      "[0. 1. 0. 0. 0. 0.]\n",
      "[0. 1. 0. 0. 0. 0.]\n",
      "[0. 1. 0. 0. 0. 0.]\n",
      "[0. 1. 0. 0. 0. 0.]\n",
      "[0. 1. 0. 0. 0. 0.]\n",
      "[0. 1. 0. 0. 0. 0.]\n",
      "[0. 1. 0. 0. 0. 0.]\n",
      "[0. 1. 0. 0. 0. 0.]\n",
      "[0. 1. 0. 0. 0. 0.]\n",
      "[0. 1. 0. 0. 0. 0.]\n",
      "[0.e+00 1.e+00 0.e+00 0.e+00 1.e-45 0.e+00]\n",
      "[0.e+00 1.e+00 0.e+00 0.e+00 1.e-45 0.e+00]\n",
      "[0.e+00 1.e+00 0.e+00 0.e+00 3.e-45 0.e+00]\n",
      "[0.e+00 1.e+00 0.e+00 0.e+00 4.e-45 0.e+00]\n",
      "[0.e+00 1.e+00 0.e+00 0.e+00 7.e-45 0.e+00]\n",
      "[0.0e+00 1.0e+00 0.0e+00 0.0e+00 1.1e-44 0.0e+00]\n",
      "[0.e+00 1.e+00 0.e+00 0.e+00 2.e-44 0.e+00]\n",
      "[0.e+00 1.e+00 0.e+00 0.e+00 1.e-45 0.e+00]\n",
      "[0.e+00 1.e+00 0.e+00 0.e+00 1.e-45 0.e+00]\n",
      "[0.e+00 1.e+00 0.e+00 0.e+00 1.e-45 0.e+00]\n",
      "[0. 1. 0. 0. 0. 0.]\n",
      "[0. 1. 0. 0. 0. 0.]\n",
      "[0. 1. 0. 0. 0. 0.]\n",
      "[0. 1. 0. 0. 0. 0.]\n",
      "[0. 1. 0. 0. 0. 0.]\n",
      "[0. 1. 0. 0. 0. 0.]\n",
      "[0. 1. 0. 0. 0. 0.]\n",
      "[0. 1. 0. 0. 0. 0.]\n",
      "[0. 1. 0. 0. 0. 0.]\n",
      "[0. 1. 0. 0. 0. 0.]\n",
      "[0. 1. 0. 0. 0. 0.]\n",
      "[0. 1. 0. 0. 0. 0.]\n",
      "[0. 1. 0. 0. 0. 0.]\n",
      "[0. 1. 0. 0. 0. 0.]\n",
      "[0. 1. 0. 0. 0. 0.]\n",
      "[0. 1. 0. 0. 0. 0.]\n",
      "[0. 1. 0. 0. 0. 0.]\n",
      "[0. 1. 0. 0. 0. 0.]\n",
      "[0. 1. 0. 0. 0. 0.]\n",
      "[0. 1. 0. 0. 0. 0.]\n",
      "[0. 1. 0. 0. 0. 0.]\n",
      "[0. 1. 0. 0. 0. 0.]\n",
      "[0. 1. 0. 0. 0. 0.]\n",
      "[0. 1. 0. 0. 0. 0.]\n",
      "[0. 1. 0. 0. 0. 0.]\n",
      "[0.e+00 1.e+00 0.e+00 0.e+00 1.e-45 0.e+00]\n",
      "[0.e+00 1.e+00 0.e+00 0.e+00 1.e-45 0.e+00]\n",
      "[0.e+00 1.e+00 0.e+00 0.e+00 1.e-45 0.e+00]\n",
      "[0.e+00 1.e+00 0.e+00 0.e+00 4.e-45 0.e+00]\n",
      "[0.e+00 1.e+00 0.e+00 0.e+00 6.e-45 0.e+00]\n",
      "[0.e+00 1.e+00 0.e+00 0.e+00 1.e-44 0.e+00]\n",
      "[0.0e+00 1.0e+00 0.0e+00 0.0e+00 1.5e-44 0.0e+00]\n",
      "[0.e+00 1.e+00 0.e+00 0.e+00 1.e-45 0.e+00]\n",
      "[0.e+00 1.e+00 0.e+00 0.e+00 1.e-45 0.e+00]\n",
      "[0.e+00 1.e+00 0.e+00 0.e+00 1.e-45 0.e+00]\n",
      "[0. 1. 0. 0. 0. 0.]\n",
      "[0. 1. 0. 0. 0. 0.]\n",
      "[0. 1. 0. 0. 0. 0.]\n",
      "[0. 1. 0. 0. 0. 0.]\n",
      "[0. 1. 0. 0. 0. 0.]\n",
      "[0. 1. 0. 0. 0. 0.]\n",
      "[0. 1. 0. 0. 0. 0.]\n",
      "[0. 1. 0. 0. 0. 0.]\n",
      "[0. 1. 0. 0. 0. 0.]\n",
      "[0. 1. 0. 0. 0. 0.]\n",
      "[0. 1. 0. 0. 0. 0.]\n"
     ]
    },
    {
     "name": "stdout",
     "output_type": "stream",
     "text": [
      "[0. 1. 0. 0. 0. 0.]\n",
      "[0. 1. 0. 0. 0. 0.]\n",
      "[0. 1. 0. 0. 0. 0.]\n",
      "[0. 1. 0. 0. 0. 0.]\n",
      "[0. 1. 0. 0. 0. 0.]\n",
      "[0. 1. 0. 0. 0. 0.]\n",
      "[0. 1. 0. 0. 0. 0.]\n",
      "[0. 1. 0. 0. 0. 0.]\n",
      "[0. 1. 0. 0. 0. 0.]\n",
      "[0. 1. 0. 0. 0. 0.]\n",
      "[0. 1. 0. 0. 0. 0.]\n",
      "[0. 1. 0. 0. 0. 0.]\n",
      "[0. 1. 0. 0. 0. 0.]\n",
      "[0.e+00 1.e+00 0.e+00 0.e+00 1.e-45 0.e+00]\n",
      "[0.e+00 1.e+00 0.e+00 0.e+00 1.e-45 0.e+00]\n",
      "[0.e+00 1.e+00 0.e+00 0.e+00 1.e-45 0.e+00]\n",
      "[0.e+00 1.e+00 0.e+00 0.e+00 3.e-45 0.e+00]\n",
      "[0.e+00 1.e+00 0.e+00 0.e+00 6.e-45 0.e+00]\n",
      "[0.e+00 1.e+00 0.e+00 0.e+00 8.e-45 0.e+00]\n",
      "[0.0e+00 1.0e+00 0.0e+00 0.0e+00 1.4e-44 0.0e+00]\n",
      "[0.0e+00 1.0e+00 0.0e+00 0.0e+00 2.4e-44 0.0e+00]\n",
      "[0.e+00 1.e+00 0.e+00 0.e+00 1.e-45 0.e+00]\n",
      "[0.e+00 1.e+00 0.e+00 0.e+00 1.e-45 0.e+00]\n",
      "[0.e+00 1.e+00 0.e+00 0.e+00 1.e-45 0.e+00]\n",
      "[0.e+00 1.e+00 0.e+00 0.e+00 1.e-45 0.e+00]\n",
      "[0. 1. 0. 0. 0. 0.]\n",
      "[0. 1. 0. 0. 0. 0.]\n",
      "[0. 1. 0. 0. 0. 0.]\n",
      "[0. 1. 0. 0. 0. 0.]\n",
      "[0. 1. 0. 0. 0. 0.]\n",
      "[0. 1. 0. 0. 0. 0.]\n",
      "[0. 1. 0. 0. 0. 0.]\n",
      "[0. 1. 0. 0. 0. 0.]\n",
      "[0. 1. 0. 0. 0. 0.]\n",
      "[0. 1. 0. 0. 0. 0.]\n",
      "[0. 1. 0. 0. 0. 0.]\n",
      "[0. 1. 0. 0. 0. 0.]\n",
      "[0. 1. 0. 0. 0. 0.]\n",
      "[0. 1. 0. 0. 0. 0.]\n",
      "[0. 1. 0. 0. 0. 0.]\n",
      "[0. 1. 0. 0. 0. 0.]\n",
      "[0. 1. 0. 0. 0. 0.]\n",
      "[0. 1. 0. 0. 0. 0.]\n",
      "[0. 1. 0. 0. 0. 0.]\n",
      "[0. 1. 0. 0. 0. 0.]\n",
      "[0. 1. 0. 0. 0. 0.]\n",
      "[0. 1. 0. 0. 0. 0.]\n",
      "[0. 1. 0. 0. 0. 0.]\n",
      "[0. 1. 0. 0. 0. 0.]\n",
      "[0.e+00 1.e+00 0.e+00 0.e+00 1.e-45 0.e+00]\n",
      "[0.e+00 1.e+00 0.e+00 0.e+00 1.e-45 0.e+00]\n",
      "[0.e+00 1.e+00 0.e+00 0.e+00 3.e-45 0.e+00]\n",
      "[0.e+00 1.e+00 0.e+00 0.e+00 4.e-45 0.e+00]\n",
      "[0.e+00 1.e+00 0.e+00 0.e+00 7.e-45 0.e+00]\n",
      "[0.0e+00 1.0e+00 0.0e+00 0.0e+00 1.1e-44 0.0e+00]\n",
      "[0.0e+00 1.0e+00 0.0e+00 0.0e+00 1.8e-44 0.0e+00]\n",
      "[0.e+00 1.e+00 0.e+00 0.e+00 1.e-45 0.e+00]\n",
      "[0. 1. 0. 0. 0. 0.]\n",
      "[0.e+00 1.e+00 0.e+00 0.e+00 1.e-45 0.e+00]\n",
      "[0.e+00 1.e+00 0.e+00 0.e+00 1.e-45 0.e+00]\n",
      "[0. 1. 0. 0. 0. 0.]\n",
      "[0. 1. 0. 0. 0. 0.]\n",
      "[0. 1. 0. 0. 0. 0.]\n",
      "[0. 1. 0. 0. 0. 0.]\n",
      "[0. 1. 0. 0. 0. 0.]\n",
      "[0. 1. 0. 0. 0. 0.]\n",
      "[0. 1. 0. 0. 0. 0.]\n",
      "[0. 1. 0. 0. 0. 0.]\n",
      "[0. 1. 0. 0. 0. 0.]\n",
      "[0. 1. 0. 0. 0. 0.]\n",
      "[0. 1. 0. 0. 0. 0.]\n",
      "[0. 1. 0. 0. 0. 0.]\n",
      "[0. 1. 0. 0. 0. 0.]\n",
      "[0. 1. 0. 0. 0. 0.]\n",
      "[0. 1. 0. 0. 0. 0.]\n",
      "[0. 1. 0. 0. 0. 0.]\n",
      "[0. 1. 0. 0. 0. 0.]\n",
      "[0. 1. 0. 0. 0. 0.]\n",
      "[0. 1. 0. 0. 0. 0.]\n",
      "[0. 1. 0. 0. 0. 0.]\n",
      "[0. 1. 0. 0. 0. 0.]\n",
      "[0. 1. 0. 0. 0. 0.]\n",
      "[0. 1. 0. 0. 0. 0.]\n",
      "[0. 1. 0. 0. 0. 0.]\n",
      "[0.e+00 1.e+00 0.e+00 0.e+00 1.e-45 0.e+00]\n",
      "[0.e+00 1.e+00 0.e+00 0.e+00 1.e-45 0.e+00]\n",
      "[0.e+00 1.e+00 0.e+00 0.e+00 3.e-45 0.e+00]\n",
      "[0.e+00 1.e+00 0.e+00 0.e+00 4.e-45 0.e+00]\n",
      "[0.e+00 1.e+00 0.e+00 0.e+00 8.e-45 0.e+00]\n",
      "[0.0e+00 1.0e+00 0.0e+00 0.0e+00 1.3e-44 0.0e+00]\n",
      "[0.0e+00 1.0e+00 0.0e+00 0.0e+00 2.1e-44 0.0e+00]\n",
      "[0.e+00 1.e+00 0.e+00 0.e+00 1.e-45 0.e+00]\n",
      "[0.e+00 1.e+00 0.e+00 0.e+00 1.e-45 0.e+00]\n",
      "[0.e+00 1.e+00 0.e+00 0.e+00 1.e-45 0.e+00]\n",
      "[0. 1. 0. 0. 0. 0.]\n",
      "[0. 1. 0. 0. 0. 0.]\n",
      "[0. 1. 0. 0. 0. 0.]\n",
      "[0. 1. 0. 0. 0. 0.]\n",
      "[0. 1. 0. 0. 0. 0.]\n",
      "[0. 1. 0. 0. 0. 0.]\n",
      "[0. 1. 0. 0. 0. 0.]\n",
      "[0. 1. 0. 0. 0. 0.]\n",
      "[0. 1. 0. 0. 0. 0.]\n",
      "[0. 1. 0. 0. 0. 0.]\n",
      "[0. 1. 0. 0. 0. 0.]\n",
      "[0. 1. 0. 0. 0. 0.]\n",
      "[0. 1. 0. 0. 0. 0.]\n",
      "[0. 1. 0. 0. 0. 0.]\n",
      "[0. 1. 0. 0. 0. 0.]\n",
      "[0. 1. 0. 0. 0. 0.]\n",
      "[0. 1. 0. 0. 0. 0.]\n",
      "[0. 1. 0. 0. 0. 0.]\n",
      "[0. 1. 0. 0. 0. 0.]\n",
      "[0. 1. 0. 0. 0. 0.]\n",
      "[0. 1. 0. 0. 0. 0.]\n",
      "[0. 1. 0. 0. 0. 0.]\n",
      "[0. 1. 0. 0. 0. 0.]\n",
      "[0. 1. 0. 0. 0. 0.]\n",
      "[0. 1. 0. 0. 0. 0.]\n",
      "[0.e+00 1.e+00 0.e+00 0.e+00 1.e-45 0.e+00]\n",
      "[0.e+00 1.e+00 0.e+00 0.e+00 1.e-45 0.e+00]\n",
      "[0.e+00 1.e+00 0.e+00 0.e+00 3.e-45 0.e+00]\n",
      "[0.e+00 1.e+00 0.e+00 0.e+00 4.e-45 0.e+00]\n",
      "[0.e+00 1.e+00 0.e+00 0.e+00 7.e-45 0.e+00]\n",
      "[0.0e+00 1.0e+00 0.0e+00 0.0e+00 1.1e-44 0.0e+00]\n",
      "[0.0e+00 1.0e+00 0.0e+00 0.0e+00 1.7e-44 0.0e+00]\n",
      "[0.e+00 1.e+00 0.e+00 0.e+00 1.e-45 0.e+00]\n",
      "[0. 1. 0. 0. 0. 0.]\n",
      "[0.e+00 1.e+00 0.e+00 0.e+00 1.e-45 0.e+00]\n",
      "[0. 1. 0. 0. 0. 0.]\n",
      "[0. 1. 0. 0. 0. 0.]\n",
      "[0. 1. 0. 0. 0. 0.]\n",
      "[0. 1. 0. 0. 0. 0.]\n",
      "[0. 1. 0. 0. 0. 0.]\n",
      "[0. 1. 0. 0. 0. 0.]\n",
      "[0. 1. 0. 0. 0. 0.]\n",
      "[0. 1. 0. 0. 0. 0.]\n",
      "[0. 1. 0. 0. 0. 0.]\n",
      "[0. 1. 0. 0. 0. 0.]\n",
      "[0. 1. 0. 0. 0. 0.]\n",
      "[0. 1. 0. 0. 0. 0.]\n",
      "[0. 1. 0. 0. 0. 0.]\n",
      "[0. 1. 0. 0. 0. 0.]\n",
      "[0. 1. 0. 0. 0. 0.]\n",
      "[0. 1. 0. 0. 0. 0.]\n",
      "[0. 1. 0. 0. 0. 0.]\n",
      "[0. 1. 0. 0. 0. 0.]\n",
      "[0. 1. 0. 0. 0. 0.]\n",
      "[0. 1. 0. 0. 0. 0.]\n",
      "[0. 1. 0. 0. 0. 0.]\n",
      "[0. 1. 0. 0. 0. 0.]\n",
      "[0. 1. 0. 0. 0. 0.]\n",
      "[0. 1. 0. 0. 0. 0.]\n",
      "[0. 1. 0. 0. 0. 0.]\n",
      "[0.e+00 1.e+00 0.e+00 0.e+00 1.e-45 0.e+00]\n",
      "[0.e+00 1.e+00 0.e+00 0.e+00 1.e-45 0.e+00]\n",
      "[0.e+00 1.e+00 0.e+00 0.e+00 3.e-45 0.e+00]\n",
      "[0.e+00 1.e+00 0.e+00 0.e+00 4.e-45 0.e+00]\n",
      "[0.e+00 1.e+00 0.e+00 0.e+00 7.e-45 0.e+00]\n",
      "[0.0e+00 1.0e+00 0.0e+00 0.0e+00 1.1e-44 0.0e+00]\n",
      "[0.0e+00 1.0e+00 0.0e+00 0.0e+00 1.8e-44 0.0e+00]\n",
      "[0.e+00 1.e+00 0.e+00 0.e+00 1.e-45 0.e+00]\n",
      "[0.e+00 1.e+00 0.e+00 0.e+00 1.e-45 0.e+00]\n",
      "[0.e+00 1.e+00 0.e+00 0.e+00 1.e-45 0.e+00]\n",
      "[0. 1. 0. 0. 0. 0.]\n",
      "[0. 1. 0. 0. 0. 0.]\n",
      "[0. 1. 0. 0. 0. 0.]\n",
      "[0. 1. 0. 0. 0. 0.]\n",
      "[0. 1. 0. 0. 0. 0.]\n",
      "[0. 1. 0. 0. 0. 0.]\n",
      "[0. 1. 0. 0. 0. 0.]\n",
      "[0. 1. 0. 0. 0. 0.]\n",
      "[0. 1. 0. 0. 0. 0.]\n",
      "[0. 1. 0. 0. 0. 0.]\n",
      "[0. 1. 0. 0. 0. 0.]\n",
      "[0. 1. 0. 0. 0. 0.]\n",
      "[0. 1. 0. 0. 0. 0.]\n",
      "[0. 1. 0. 0. 0. 0.]\n",
      "[0. 1. 0. 0. 0. 0.]\n",
      "[0. 1. 0. 0. 0. 0.]\n",
      "[0. 1. 0. 0. 0. 0.]\n",
      "[0. 1. 0. 0. 0. 0.]\n",
      "[0. 1. 0. 0. 0. 0.]\n",
      "[0. 1. 0. 0. 0. 0.]\n",
      "[0. 1. 0. 0. 0. 0.]\n",
      "[0. 1. 0. 0. 0. 0.]\n",
      "[0. 1. 0. 0. 0. 0.]\n",
      "[0. 1. 0. 0. 0. 0.]\n",
      "[0. 1. 0. 0. 0. 0.]\n",
      "[0.e+00 1.e+00 0.e+00 0.e+00 1.e-45 0.e+00]\n",
      "[0.e+00 1.e+00 0.e+00 0.e+00 1.e-45 0.e+00]\n",
      "[0.e+00 1.e+00 0.e+00 0.e+00 3.e-45 0.e+00]\n",
      "[0.e+00 1.e+00 0.e+00 0.e+00 4.e-45 0.e+00]\n",
      "[0.e+00 1.e+00 0.e+00 0.e+00 7.e-45 0.e+00]\n",
      "[0.0e+00 1.0e+00 0.0e+00 0.0e+00 1.1e-44 0.0e+00]\n",
      "[0.0e+00 1.0e+00 0.0e+00 0.0e+00 1.7e-44 0.0e+00]\n",
      "[0.e+00 1.e+00 0.e+00 0.e+00 1.e-45 0.e+00]\n",
      "[0. 1. 0. 0. 0. 0.]\n",
      "[0.e+00 1.e+00 0.e+00 0.e+00 1.e-45 0.e+00]\n",
      "[0. 1. 0. 0. 0. 0.]\n",
      "[0. 1. 0. 0. 0. 0.]\n",
      "[0. 1. 0. 0. 0. 0.]\n",
      "[0. 1. 0. 0. 0. 0.]\n",
      "[0. 1. 0. 0. 0. 0.]\n",
      "[0. 1. 0. 0. 0. 0.]\n",
      "[0. 1. 0. 0. 0. 0.]\n",
      "[0. 1. 0. 0. 0. 0.]\n",
      "[0. 1. 0. 0. 0. 0.]\n",
      "[0. 1. 0. 0. 0. 0.]\n",
      "[0. 1. 0. 0. 0. 0.]\n",
      "[0. 1. 0. 0. 0. 0.]\n",
      "[0. 1. 0. 0. 0. 0.]\n",
      "[0. 1. 0. 0. 0. 0.]\n",
      "[0. 1. 0. 0. 0. 0.]\n",
      "[0. 1. 0. 0. 0. 0.]\n",
      "[0. 1. 0. 0. 0. 0.]\n",
      "[0. 1. 0. 0. 0. 0.]\n",
      "[0. 1. 0. 0. 0. 0.]\n",
      "[0. 1. 0. 0. 0. 0.]\n",
      "[0. 1. 0. 0. 0. 0.]\n",
      "[0. 1. 0. 0. 0. 0.]\n",
      "[0. 1. 0. 0. 0. 0.]\n",
      "[0. 1. 0. 0. 0. 0.]\n",
      "[0. 1. 0. 0. 0. 0.]\n",
      "[0.e+00 1.e+00 0.e+00 0.e+00 1.e-45 0.e+00]\n",
      "[0.e+00 1.e+00 0.e+00 0.e+00 1.e-45 0.e+00]\n",
      "[0.e+00 1.e+00 0.e+00 0.e+00 3.e-45 0.e+00]\n",
      "[0.e+00 1.e+00 0.e+00 0.e+00 3.e-45 0.e+00]\n",
      "[0.e+00 1.e+00 0.e+00 0.e+00 6.e-45 0.e+00]\n",
      "[0.e+00 1.e+00 0.e+00 0.e+00 1.e-44 0.e+00]\n",
      "[0.0e+00 1.0e+00 0.0e+00 0.0e+00 1.7e-44 0.0e+00]\n",
      "[0.e+00 1.e+00 0.e+00 0.e+00 1.e-45 0.e+00]\n",
      "[0.e+00 1.e+00 0.e+00 0.e+00 1.e-45 0.e+00]\n",
      "[0.e+00 1.e+00 0.e+00 0.e+00 1.e-45 0.e+00]\n",
      "[0. 1. 0. 0. 0. 0.]\n",
      "[0. 1. 0. 0. 0. 0.]\n",
      "[0. 1. 0. 0. 0. 0.]\n",
      "[0. 1. 0. 0. 0. 0.]\n",
      "[0. 1. 0. 0. 0. 0.]\n",
      "[0. 1. 0. 0. 0. 0.]\n",
      "[0. 1. 0. 0. 0. 0.]\n",
      "[0. 1. 0. 0. 0. 0.]\n",
      "[0. 1. 0. 0. 0. 0.]\n",
      "[0. 1. 0. 0. 0. 0.]\n",
      "[0. 1. 0. 0. 0. 0.]\n",
      "[0. 1. 0. 0. 0. 0.]\n",
      "[0. 1. 0. 0. 0. 0.]\n",
      "[0. 1. 0. 0. 0. 0.]\n",
      "[0. 1. 0. 0. 0. 0.]\n",
      "[0. 1. 0. 0. 0. 0.]\n",
      "[0. 1. 0. 0. 0. 0.]\n",
      "[0. 1. 0. 0. 0. 0.]\n",
      "[0. 1. 0. 0. 0. 0.]\n",
      "[0. 1. 0. 0. 0. 0.]\n",
      "[0. 1. 0. 0. 0. 0.]\n",
      "[0. 1. 0. 0. 0. 0.]\n",
      "[0. 1. 0. 0. 0. 0.]\n",
      "[0. 1. 0. 0. 0. 0.]\n",
      "[0. 1. 0. 0. 0. 0.]\n",
      "[0.e+00 1.e+00 0.e+00 0.e+00 1.e-45 0.e+00]\n",
      "[0.e+00 1.e+00 0.e+00 0.e+00 1.e-45 0.e+00]\n",
      "[0.e+00 1.e+00 0.e+00 0.e+00 3.e-45 0.e+00]\n",
      "[0.e+00 1.e+00 0.e+00 0.e+00 4.e-45 0.e+00]\n",
      "[0.e+00 1.e+00 0.e+00 0.e+00 6.e-45 0.e+00]\n",
      "[0.e+00 1.e+00 0.e+00 0.e+00 1.e-44 0.e+00]\n",
      "[0.0e+00 1.0e+00 0.0e+00 0.0e+00 1.5e-44 0.0e+00]\n",
      "[0.e+00 1.e+00 0.e+00 0.e+00 1.e-45 0.e+00]\n",
      "[0. 1. 0. 0. 0. 0.]\n",
      "[0. 1. 0. 0. 0. 0.]\n",
      "[0. 1. 0. 0. 0. 0.]\n",
      "[0. 1. 0. 0. 0. 0.]\n",
      "[0. 1. 0. 0. 0. 0.]\n",
      "[0. 1. 0. 0. 0. 0.]\n",
      "[0. 1. 0. 0. 0. 0.]\n",
      "[0. 1. 0. 0. 0. 0.]\n",
      "[0. 1. 0. 0. 0. 0.]\n",
      "[0. 1. 0. 0. 0. 0.]\n",
      "[0. 1. 0. 0. 0. 0.]\n",
      "[0. 1. 0. 0. 0. 0.]\n",
      "[0. 1. 0. 0. 0. 0.]\n",
      "[0. 1. 0. 0. 0. 0.]\n",
      "[0. 1. 0. 0. 0. 0.]\n",
      "[0. 1. 0. 0. 0. 0.]\n",
      "[0. 1. 0. 0. 0. 0.]\n",
      "[0. 1. 0. 0. 0. 0.]\n",
      "[0. 1. 0. 0. 0. 0.]\n",
      "[0. 1. 0. 0. 0. 0.]\n",
      "[0. 1. 0. 0. 0. 0.]\n",
      "[0. 1. 0. 0. 0. 0.]\n",
      "[0. 1. 0. 0. 0. 0.]\n",
      "[0. 1. 0. 0. 0. 0.]\n",
      "[0. 1. 0. 0. 0. 0.]\n",
      "[0. 1. 0. 0. 0. 0.]\n",
      "[0. 1. 0. 0. 0. 0.]\n",
      "[0.e+00 1.e+00 0.e+00 0.e+00 1.e-45 0.e+00]\n",
      "[0.e+00 1.e+00 0.e+00 0.e+00 1.e-45 0.e+00]\n",
      "[0.e+00 1.e+00 0.e+00 0.e+00 1.e-45 0.e+00]\n",
      "[0.e+00 1.e+00 0.e+00 0.e+00 3.e-45 0.e+00]\n",
      "[0.e+00 1.e+00 0.e+00 0.e+00 6.e-45 0.e+00]\n",
      "[0.e+00 1.e+00 0.e+00 0.e+00 8.e-45 0.e+00]\n",
      "[0.0e+00 1.0e+00 0.0e+00 0.0e+00 1.4e-44 0.0e+00]\n",
      "[0.e+00 1.e+00 0.e+00 0.e+00 1.e-45 0.e+00]\n",
      "[0.e+00 1.e+00 0.e+00 0.e+00 1.e-45 0.e+00]\n",
      "[0. 1. 0. 0. 0. 0.]\n",
      "[0. 1. 0. 0. 0. 0.]\n",
      "[0. 1. 0. 0. 0. 0.]\n",
      "[0. 1. 0. 0. 0. 0.]\n",
      "[0. 1. 0. 0. 0. 0.]\n",
      "[0. 1. 0. 0. 0. 0.]\n",
      "[0. 1. 0. 0. 0. 0.]\n",
      "[0. 1. 0. 0. 0. 0.]\n",
      "[0. 1. 0. 0. 0. 0.]\n",
      "[0. 1. 0. 0. 0. 0.]\n",
      "[0. 1. 0. 0. 0. 0.]\n",
      "[0. 1. 0. 0. 0. 0.]\n",
      "[0. 1. 0. 0. 0. 0.]\n",
      "[0. 1. 0. 0. 0. 0.]\n",
      "[0. 1. 0. 0. 0. 0.]\n",
      "[0. 1. 0. 0. 0. 0.]\n",
      "[0. 1. 0. 0. 0. 0.]\n",
      "[0. 1. 0. 0. 0. 0.]\n",
      "[0. 1. 0. 0. 0. 0.]\n",
      "[0. 1. 0. 0. 0. 0.]\n",
      "[0. 1. 0. 0. 0. 0.]\n",
      "[0. 1. 0. 0. 0. 0.]\n",
      "[0. 1. 0. 0. 0. 0.]\n",
      "[0. 1. 0. 0. 0. 0.]\n",
      "[0. 1. 0. 0. 0. 0.]\n",
      "[0. 1. 0. 0. 0. 0.]\n",
      "[0. 1. 0. 0. 0. 0.]\n",
      "[0.e+00 1.e+00 0.e+00 0.e+00 1.e-45 0.e+00]\n",
      "[0.e+00 1.e+00 0.e+00 0.e+00 1.e-45 0.e+00]\n",
      "[0.e+00 1.e+00 0.e+00 0.e+00 3.e-45 0.e+00]\n",
      "[0.e+00 1.e+00 0.e+00 0.e+00 6.e-45 0.e+00]\n",
      "[0.e+00 1.e+00 0.e+00 0.e+00 8.e-45 0.e+00]\n",
      "[0.0e+00 1.0e+00 0.0e+00 0.0e+00 1.4e-44 0.0e+00]\n",
      "[0.e+00 1.e+00 0.e+00 0.e+00 1.e-45 0.e+00]\n",
      "[0. 1. 0. 0. 0. 0.]\n",
      "[0. 1. 0. 0. 0. 0.]\n",
      "[0. 1. 0. 0. 0. 0.]\n",
      "[0. 1. 0. 0. 0. 0.]\n",
      "[0. 1. 0. 0. 0. 0.]\n",
      "[0. 1. 0. 0. 0. 0.]\n",
      "[0. 1. 0. 0. 0. 0.]\n",
      "[0. 1. 0. 0. 0. 0.]\n"
     ]
    },
    {
     "name": "stdout",
     "output_type": "stream",
     "text": [
      "[0. 1. 0. 0. 0. 0.]\n",
      "[0. 1. 0. 0. 0. 0.]\n",
      "[0. 1. 0. 0. 0. 0.]\n",
      "[0. 1. 0. 0. 0. 0.]\n",
      "[0. 1. 0. 0. 0. 0.]\n",
      "[0. 1. 0. 0. 0. 0.]\n",
      "[0. 1. 0. 0. 0. 0.]\n",
      "[0. 1. 0. 0. 0. 0.]\n",
      "[0. 1. 0. 0. 0. 0.]\n",
      "[0. 1. 0. 0. 0. 0.]\n",
      "[0. 1. 0. 0. 0. 0.]\n",
      "[0. 1. 0. 0. 0. 0.]\n",
      "[0. 1. 0. 0. 0. 0.]\n",
      "[0. 1. 0. 0. 0. 0.]\n",
      "[0. 1. 0. 0. 0. 0.]\n",
      "[0. 1. 0. 0. 0. 0.]\n",
      "[0. 1. 0. 0. 0. 0.]\n",
      "[0. 1. 0. 0. 0. 0.]\n",
      "[0. 1. 0. 0. 0. 0.]\n",
      "[0.e+00 1.e+00 0.e+00 0.e+00 1.e-45 0.e+00]\n",
      "[0.e+00 1.e+00 0.e+00 0.e+00 1.e-45 0.e+00]\n",
      "[0.e+00 1.e+00 0.e+00 0.e+00 3.e-45 0.e+00]\n",
      "[0.e+00 1.e+00 0.e+00 0.e+00 4.e-45 0.e+00]\n",
      "[0.e+00 1.e+00 0.e+00 0.e+00 7.e-45 0.e+00]\n",
      "[0.e+00 1.e+00 0.e+00 0.e+00 1.e-44 0.e+00]\n",
      "[0.0e+00 1.0e+00 0.0e+00 0.0e+00 1.7e-44 0.0e+00]\n",
      "[0.e+00 1.e+00 0.e+00 0.e+00 1.e-45 0.e+00]\n",
      "[0.e+00 1.e+00 0.e+00 0.e+00 1.e-45 0.e+00]\n",
      "[0.e+00 1.e+00 0.e+00 0.e+00 1.e-45 0.e+00]\n",
      "[0. 1. 0. 0. 0. 0.]\n",
      "[0. 1. 0. 0. 0. 0.]\n",
      "[0. 1. 0. 0. 0. 0.]\n",
      "[0. 1. 0. 0. 0. 0.]\n",
      "[0. 1. 0. 0. 0. 0.]\n",
      "[0. 1. 0. 0. 0. 0.]\n",
      "[0. 1. 0. 0. 0. 0.]\n",
      "[0. 1. 0. 0. 0. 0.]\n",
      "[0. 1. 0. 0. 0. 0.]\n",
      "[0. 1. 0. 0. 0. 0.]\n",
      "[0. 1. 0. 0. 0. 0.]\n",
      "[0. 1. 0. 0. 0. 0.]\n",
      "[0. 1. 0. 0. 0. 0.]\n",
      "[0. 1. 0. 0. 0. 0.]\n",
      "[0. 1. 0. 0. 0. 0.]\n",
      "[0. 1. 0. 0. 0. 0.]\n",
      "[0. 1. 0. 0. 0. 0.]\n",
      "policy estimator\n",
      "tensor([[0.0000e+00, 1.0000e+00, 0.0000e+00, 0.0000e+00, 7.8613e-43, 0.0000e+00],\n",
      "        [0.0000e+00, 1.0000e+00, 0.0000e+00, 0.0000e+00, 1.6090e-41, 0.0000e+00],\n",
      "        [0.0000e+00, 1.0000e+00, 0.0000e+00, 0.0000e+00, 2.7747e-41, 0.0000e+00],\n",
      "        ...,\n",
      "        [0.0000e+00, 1.0000e+00, 0.0000e+00, 0.0000e+00, 0.0000e+00, 0.0000e+00],\n",
      "        [0.0000e+00, 1.0000e+00, 0.0000e+00, 0.0000e+00, 0.0000e+00, 0.0000e+00],\n",
      "        [0.0000e+00, 1.0000e+00, 0.0000e+00, 0.0000e+00, 0.0000e+00, 0.0000e+00]],\n",
      "       grad_fn=<SoftmaxBackward0>)\n",
      "2\n",
      "[nan nan nan nan nan nan]\n"
     ]
    },
    {
     "ename": "ValueError",
     "evalue": "probabilities contain NaN",
     "output_type": "error",
     "traceback": [
      "\u001b[1;31m---------------------------------------------------------------------------\u001b[0m",
      "\u001b[1;31mValueError\u001b[0m                                Traceback (most recent call last)",
      "\u001b[1;32m~\\AppData\\Local\\Temp/ipykernel_3664/3316934499.py\u001b[0m in \u001b[0;36m<module>\u001b[1;34m\u001b[0m\n\u001b[0;32m      1\u001b[0m \u001b[0menv\u001b[0m \u001b[1;33m=\u001b[0m \u001b[0mgym\u001b[0m\u001b[1;33m.\u001b[0m\u001b[0mmake\u001b[0m\u001b[1;33m(\u001b[0m\u001b[1;34m'ALE/Pong-ram-v5'\u001b[0m\u001b[1;33m)\u001b[0m\u001b[1;33m\u001b[0m\u001b[1;33m\u001b[0m\u001b[0m\n\u001b[0;32m      2\u001b[0m \u001b[0mpolicy_est\u001b[0m \u001b[1;33m=\u001b[0m \u001b[0mpolicy_estimator\u001b[0m\u001b[1;33m(\u001b[0m\u001b[0menv\u001b[0m\u001b[1;33m)\u001b[0m\u001b[1;33m\u001b[0m\u001b[1;33m\u001b[0m\u001b[0m\n\u001b[1;32m----> 3\u001b[1;33m \u001b[0mrewards\u001b[0m \u001b[1;33m=\u001b[0m \u001b[0mreinforce\u001b[0m\u001b[1;33m(\u001b[0m\u001b[0menv\u001b[0m\u001b[1;33m,\u001b[0m \u001b[0mpolicy_est\u001b[0m\u001b[1;33m)\u001b[0m\u001b[1;33m\u001b[0m\u001b[1;33m\u001b[0m\u001b[0m\n\u001b[0m",
      "\u001b[1;32m~\\AppData\\Local\\Temp/ipykernel_3664/1687121270.py\u001b[0m in \u001b[0;36mreinforce\u001b[1;34m(env, policy_estimator, num_episodes, batch_size, gamma)\u001b[0m\n\u001b[0;32m     27\u001b[0m                 s_0).detach().numpy()\n\u001b[0;32m     28\u001b[0m             \u001b[0mprint\u001b[0m\u001b[1;33m(\u001b[0m\u001b[0maction_probs\u001b[0m\u001b[1;33m)\u001b[0m\u001b[1;33m\u001b[0m\u001b[1;33m\u001b[0m\u001b[0m\n\u001b[1;32m---> 29\u001b[1;33m             action = np.random.choice(action_space, \n\u001b[0m\u001b[0;32m     30\u001b[0m                 p=action_probs)\n\u001b[0;32m     31\u001b[0m             \u001b[0ms_1\u001b[0m\u001b[1;33m,\u001b[0m \u001b[0mr\u001b[0m\u001b[1;33m,\u001b[0m \u001b[0mdone\u001b[0m\u001b[1;33m,\u001b[0m \u001b[0m_\u001b[0m \u001b[1;33m=\u001b[0m \u001b[0menv\u001b[0m\u001b[1;33m.\u001b[0m\u001b[0mstep\u001b[0m\u001b[1;33m(\u001b[0m\u001b[0maction\u001b[0m\u001b[1;33m)\u001b[0m\u001b[1;33m\u001b[0m\u001b[1;33m\u001b[0m\u001b[0m\n",
      "\u001b[1;32mmtrand.pyx\u001b[0m in \u001b[0;36mnumpy.random.mtrand.RandomState.choice\u001b[1;34m()\u001b[0m\n",
      "\u001b[1;31mValueError\u001b[0m: probabilities contain NaN"
     ]
    }
   ],
   "source": [
    "env = gym.make('ALE/Pong-ram-v5')\n",
    "policy_est = policy_estimator(env)\n",
    "rewards = reinforce(env, policy_est)"
   ]
  },
  {
   "cell_type": "code",
   "execution_count": null,
   "id": "799bb066",
   "metadata": {},
   "outputs": [],
   "source": []
  }
 ],
 "metadata": {
  "kernelspec": {
   "display_name": "Python 3 (ipykernel)",
   "language": "python",
   "name": "python3"
  },
  "language_info": {
   "codemirror_mode": {
    "name": "ipython",
    "version": 3
   },
   "file_extension": ".py",
   "mimetype": "text/x-python",
   "name": "python",
   "nbconvert_exporter": "python",
   "pygments_lexer": "ipython3",
   "version": "3.10.0"
  }
 },
 "nbformat": 4,
 "nbformat_minor": 5
}
